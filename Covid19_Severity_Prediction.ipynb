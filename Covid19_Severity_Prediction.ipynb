{
  "nbformat": 4,
  "nbformat_minor": 0,
  "metadata": {
    "colab": {
      "provenance": [],
      "authorship_tag": "ABX9TyNsvdxpIk/zVu7FR+IIt4WK",
      "include_colab_link": true
    },
    "kernelspec": {
      "name": "python3",
      "display_name": "Python 3"
    },
    "language_info": {
      "name": "python"
    }
  },
  "cells": [
    {
      "cell_type": "markdown",
      "metadata": {
        "id": "view-in-github",
        "colab_type": "text"
      },
      "source": [
        "<a href=\"https://colab.research.google.com/github/Aman78695/Covid19_Severity_Prediction/blob/main/Covid19_Severity_Prediction.ipynb\" target=\"_parent\"><img src=\"https://colab.research.google.com/assets/colab-badge.svg\" alt=\"Open In Colab\"/></a>"
      ]
    },
    {
      "cell_type": "code",
      "source": [
        "#importing necessary library\n",
        "import numpy as np\n",
        "import pandas as pd\n",
        "import matplotlib.pyplot as plt\n",
        "import seaborn as sns"
      ],
      "metadata": {
        "id": "Na0qzqZ5Y7V3"
      },
      "execution_count": 1,
      "outputs": []
    },
    {
      "cell_type": "code",
      "source": [],
      "metadata": {
        "id": "H5V4knPySxue"
      },
      "execution_count": 1,
      "outputs": []
    },
    {
      "cell_type": "code",
      "source": [
        "import requests\n",
        "\n",
        "url = \"https://corona-virus-world-and-india-data.p.rapidapi.com/api\"\n",
        "\n",
        "headers = {\n",
        "\t\"X-RapidAPI-Key\": \"e0bf02f078mshee834850ebffe98p194d62jsn37f0ecfd4adb\",\n",
        "\t\"X-RapidAPI-Host\": \"corona-virus-world-and-india-data.p.rapidapi.com\"\n",
        "}\n",
        "\n",
        "response = requests.get(url, headers=headers)\n",
        "\n",
        "print(response.json()['countries_stat'])"
      ],
      "metadata": {
        "colab": {
          "base_uri": "https://localhost:8080/"
        },
        "id": "_Uih7TsvXiKb",
        "outputId": "5ecfc300-bdb7-47cc-f71b-8154edd6e4b4"
      },
      "execution_count": 2,
      "outputs": [
        {
          "output_type": "stream",
          "name": "stdout",
          "text": [
            "[{'country_name': 'USA', 'cases': '82,649,779', 'deaths': '1,018,316', 'region': '', 'total_recovered': '80,434,925', 'new_deaths': '0', 'new_cases': '0', 'serious_critical': '1,465', 'active_cases': '1,196,538', 'total_cases_per_1m_population': '247,080', 'deaths_per_1m_population': '3,044', 'total_tests': '1,000,275,726', 'tests_per_1m_population': '2,990,303'}, {'country_name': 'India', 'cases': '43,057,545', 'deaths': '522,193', 'region': '', 'total_recovered': '42,519,479', 'new_deaths': '0', 'new_cases': '0', 'serious_critical': '698', 'active_cases': '15,873', 'total_cases_per_1m_population': '30,657', 'deaths_per_1m_population': '372', 'total_tests': '834,717,702', 'tests_per_1m_population': '594,319'}, {'country_name': 'Brazil', 'cases': '30,345,654', 'deaths': '662,663', 'region': '', 'total_recovered': '29,364,400', 'new_deaths': '0', 'new_cases': '0', 'serious_critical': '8,318', 'active_cases': '318,591', 'total_cases_per_1m_population': '140,954', 'deaths_per_1m_population': '3,078', 'total_tests': '63,776,166', 'tests_per_1m_population': '296,238'}, {'country_name': 'France', 'cases': '28,244,977', 'deaths': '145,020', 'region': '', 'total_recovered': '25,852,832', 'new_deaths': '0', 'new_cases': '0', 'serious_critical': '1,677', 'active_cases': '2,247,125', 'total_cases_per_1m_population': '430,996', 'deaths_per_1m_population': '2,213', 'total_tests': '266,484,045', 'tests_per_1m_population': '4,066,333'}, {'country_name': 'Germany', 'cases': '24,109,433', 'deaths': '134,624', 'region': '', 'total_recovered': '21,243,000', 'new_deaths': '0', 'new_cases': '0', 'serious_critical': '1,980', 'active_cases': '2,731,809', 'total_cases_per_1m_population': '286,106', 'deaths_per_1m_population': '1,598', 'total_tests': '122,332,384', 'tests_per_1m_population': '1,451,714'}, {'country_name': 'UK', 'cases': '21,933,206', 'deaths': '173,352', 'region': '', 'total_recovered': '20,782,350', 'new_deaths': '0', 'new_cases': '0', 'serious_critical': '339', 'active_cases': '977,504', 'total_cases_per_1m_population': '320,054', 'deaths_per_1m_population': '2,530', 'total_tests': '514,985,782', 'tests_per_1m_population': '7,514,777'}, {'country_name': 'Russia', 'cases': '18,137,137', 'deaths': '374,902', 'region': '', 'total_recovered': '17,474,628', 'new_deaths': '168', 'new_cases': '8,446', 'serious_critical': '2,300', 'active_cases': '287,607', 'total_cases_per_1m_population': '124,187', 'deaths_per_1m_population': '2,567', 'total_tests': '273,400,000', 'tests_per_1m_population': '1,871,995'}, {'country_name': 'S. Korea', 'cases': '16,895,194', 'deaths': '22,133', 'region': '', 'total_recovered': 'N/A', 'new_deaths': '109', 'new_cases': '64,725', 'serious_critical': '726', 'active_cases': 'N/A', 'total_cases_per_1m_population': '329,028', 'deaths_per_1m_population': '431', 'total_tests': '15,804,065', 'tests_per_1m_population': '307,778'}, {'country_name': 'Italy', 'cases': '16,079,209', 'deaths': '162,609', 'region': '', 'total_recovered': '14,684,371', 'new_deaths': '0', 'new_cases': '0', 'serious_critical': '409', 'active_cases': '1,232,229', 'total_cases_per_1m_population': '266,648', 'deaths_per_1m_population': '2,697', 'total_tests': '211,365,630', 'tests_per_1m_population': '3,505,156'}, {'country_name': 'Turkey', 'cases': '15,016,270', 'deaths': '98,676', 'region': '', 'total_recovered': '14,854,475', 'new_deaths': '0', 'new_cases': '0', 'serious_critical': '975', 'active_cases': '63,119', 'total_cases_per_1m_population': '174,654', 'deaths_per_1m_population': '1,148', 'total_tests': '158,110,923', 'tests_per_1m_population': '1,838,986'}, {'country_name': 'Spain', 'cases': '11,786,036', 'deaths': '103,908', 'region': '', 'total_recovered': '11,261,340', 'new_deaths': '0', 'new_cases': '0', 'serious_critical': '339', 'active_cases': '420,788', 'total_cases_per_1m_population': '251,906', 'deaths_per_1m_population': '2,221', 'total_tests': '471,036,328', 'tests_per_1m_population': '10,067,575'}, {'country_name': 'Vietnam', 'cases': '10,563,502', 'deaths': '43,013', 'region': '', 'total_recovered': '9,086,075', 'new_deaths': '9', 'new_cases': '8,813', 'serious_critical': '612', 'active_cases': '1,434,414', 'total_cases_per_1m_population': '106,789', 'deaths_per_1m_population': '435', 'total_tests': '85,789,114', 'tests_per_1m_population': '867,262'}, {'country_name': 'Argentina', 'cases': '9,060,923', 'deaths': '128,344', 'region': '', 'total_recovered': '8,895,999', 'new_deaths': '0', 'new_cases': '0', 'serious_critical': '412', 'active_cases': '36,580', 'total_cases_per_1m_population': '197,215', 'deaths_per_1m_population': '2,793', 'total_tests': '35,716,069', 'tests_per_1m_population': '777,376'}, {'country_name': 'Netherlands', 'cases': '8,035,603', 'deaths': '22,206', 'region': '', 'total_recovered': '7,643,520', 'new_deaths': '0', 'new_cases': '0', 'serious_critical': '94', 'active_cases': '369,877', 'total_cases_per_1m_population': '467,096', 'deaths_per_1m_population': '1,291', 'total_tests': '21,107,399', 'tests_per_1m_population': '1,226,938'}, {'country_name': 'Japan', 'cases': '7,621,562', 'deaths': '29,284', 'region': '', 'total_recovered': '7,135,403', 'new_deaths': '27', 'new_cases': '43,721', 'serious_critical': '195', 'active_cases': '456,875', 'total_cases_per_1m_population': '60,596', 'deaths_per_1m_population': '233', 'total_tests': '46,690,473', 'tests_per_1m_population': '371,215'}, {'country_name': 'Iran', 'cases': '7,216,040', 'deaths': '140,975', 'region': '', 'total_recovered': '6,966,954', 'new_deaths': '13', 'new_cases': '528', 'serious_critical': '1,046', 'active_cases': '108,111', 'total_cases_per_1m_population': '83,972', 'deaths_per_1m_population': '1,641', 'total_tests': '50,811,054', 'tests_per_1m_population': '591,284'}, {'country_name': 'Colombia', 'cases': '6,091,094', 'deaths': '139,771', 'region': '', 'total_recovered': '5,924,433', 'new_deaths': '0', 'new_cases': '0', 'serious_critical': '342', 'active_cases': '26,890', 'total_cases_per_1m_population': '117,448', 'deaths_per_1m_population': '2,695', 'total_tests': '34,355,022', 'tests_per_1m_population': '662,433'}, {'country_name': 'Indonesia', 'cases': '6,043,768', 'deaths': '156,067', 'region': '', 'total_recovered': '5,868,251', 'new_deaths': '0', 'new_cases': '0', 'serious_critical': '2,771', 'active_cases': '19,450', 'total_cases_per_1m_population': '21,682', 'deaths_per_1m_population': '560', 'total_tests': '94,877,499', 'tests_per_1m_population': '340,374'}, {'country_name': 'Poland', 'cases': '5,991,197', 'deaths': '115,948', 'region': '', 'total_recovered': '5,334,375', 'new_deaths': '0', 'new_cases': '344', 'serious_critical': '1,588', 'active_cases': '540,874', 'total_cases_per_1m_population': '158,616', 'deaths_per_1m_population': '3,070', 'total_tests': '36,027,053', 'tests_per_1m_population': '953,808'}, {'country_name': 'Mexico', 'cases': '5,733,514', 'deaths': '324,117', 'region': '', 'total_recovered': '5,033,892', 'new_deaths': '57', 'new_cases': '802', 'serious_critical': '4,798', 'active_cases': '375,505', 'total_cases_per_1m_population': '43,641', 'deaths_per_1m_population': '2,467', 'total_tests': '15,762,889', 'tests_per_1m_population': '119,981'}, {'country_name': 'Australia', 'cases': '5,689,377', 'deaths': '6,991', 'region': '', 'total_recovered': '5,274,197', 'new_deaths': '21', 'new_cases': '34,769', 'serious_critical': '135', 'active_cases': '408,189', 'total_cases_per_1m_population': '218,537', 'deaths_per_1m_population': '269', 'total_tests': '68,845,476', 'tests_per_1m_population': '2,644,452'}, {'country_name': 'Ukraine', 'cases': '4,997,224', 'deaths': '108,306', 'region': '', 'total_recovered': 'N/A', 'new_deaths': '0', 'new_cases': '0', 'serious_critical': '177', 'active_cases': 'N/A', 'total_cases_per_1m_population': '115,517', 'deaths_per_1m_population': '2,504', 'total_tests': '19,521,252', 'tests_per_1m_population': '451,259'}, {'country_name': 'Malaysia', 'cases': '4,427,067', 'deaths': '35,491', 'region': '', 'total_recovered': '4,310,599', 'new_deaths': '0', 'new_cases': '0', 'serious_critical': '89', 'active_cases': '80,977', 'total_cases_per_1m_population': '133,690', 'deaths_per_1m_population': '1,072', 'total_tests': '58,332,799', 'tests_per_1m_population': '1,761,549'}, {'country_name': 'Thailand', 'cases': '4,165,874', 'deaths': '27,778', 'region': '', 'total_recovered': '3,954,945', 'new_deaths': '126', 'new_cases': '17,784', 'serious_critical': '1,496', 'active_cases': '183,151', 'total_cases_per_1m_population': '59,414', 'deaths_per_1m_population': '396', 'total_tests': '17,270,775', 'tests_per_1m_population': '246,317'}, {'country_name': 'Austria', 'cases': '4,104,859', 'deaths': '18,047', 'region': '', 'total_recovered': '3,989,860', 'new_deaths': '12', 'new_cases': '5,810', 'serious_critical': '121', 'active_cases': '96,952', 'total_cases_per_1m_population': '451,125', 'deaths_per_1m_population': '1,983', 'total_tests': '181,825,734', 'tests_per_1m_population': '19,982,688'}, {'country_name': 'Israel', 'cases': '4,054,342', 'deaths': '10,658', 'region': '', 'total_recovered': '4,009,152', 'new_deaths': '0', 'new_cases': '0', 'serious_critical': '220', 'active_cases': '34,532', 'total_cases_per_1m_population': '434,735', 'deaths_per_1m_population': '1,143', 'total_tests': '41,373,364', 'tests_per_1m_population': '4,436,346'}, {'country_name': 'Belgium', 'cases': '4,015,791', 'deaths': '31,319', 'region': '', 'total_recovered': '3,726,457', 'new_deaths': '0', 'new_cases': '0', 'serious_critical': '169', 'active_cases': '258,015', 'total_cases_per_1m_population': '343,798', 'deaths_per_1m_population': '2,681', 'total_tests': '33,456,470', 'tests_per_1m_population': '2,864,259'}, {'country_name': 'Czechia', 'cases': '3,895,544', 'deaths': '40,081', 'region': '', 'total_recovered': '3,838,099', 'new_deaths': '5', 'new_cases': '911', 'serious_critical': '43', 'active_cases': '17,364', 'total_cases_per_1m_population': '362,550', 'deaths_per_1m_population': '3,730', 'total_tests': '55,117,064', 'tests_per_1m_population': '5,129,629'}, {'country_name': 'Portugal', 'cases': '3,791,744', 'deaths': '22,162', 'region': '', 'total_recovered': 'N/A', 'new_deaths': '0', 'new_cases': '0', 'serious_critical': '61', 'active_cases': 'N/A', 'total_cases_per_1m_population': '373,827', 'deaths_per_1m_population': '2,185', 'total_tests': '40,748,372', 'tests_per_1m_population': '4,017,371'}, {'country_name': 'South Africa', 'cases': '3,759,689', 'deaths': '100,298', 'region': '', 'total_recovered': '3,632,572', 'new_deaths': '0', 'new_cases': '0', 'serious_critical': '175', 'active_cases': '26,819', 'total_cases_per_1m_population': '61,981', 'deaths_per_1m_population': '1,653', 'total_tests': '24,313,334', 'tests_per_1m_population': '400,824'}, {'country_name': 'Canada', 'cases': '3,695,585', 'deaths': '38,777', 'region': '', 'total_recovered': '3,426,082', 'new_deaths': '0', 'new_cases': '0', 'serious_critical': '426', 'active_cases': '230,726', 'total_cases_per_1m_population': '96,391', 'deaths_per_1m_population': '1,011', 'total_tests': '60,536,359', 'tests_per_1m_population': '1,578,955'}, {'country_name': 'Philippines', 'cases': '3,684,500', 'deaths': '60,182', 'region': '', 'total_recovered': '3,610,658', 'new_deaths': '3', 'new_cases': '205', 'serious_critical': '289', 'active_cases': '13,660', 'total_cases_per_1m_population': '32,835', 'deaths_per_1m_population': '536', 'total_tests': '29,427,586', 'tests_per_1m_population': '262,246'}, {'country_name': 'Switzerland', 'cases': '3,579,867', 'deaths': '13,816', 'region': '', 'total_recovered': '3,378,507', 'new_deaths': '0', 'new_cases': '0', 'serious_critical': '90', 'active_cases': '187,544', 'total_cases_per_1m_population': '408,247', 'deaths_per_1m_population': '1,576', 'total_tests': '20,666,182', 'tests_per_1m_population': '2,356,766'}, {'country_name': 'Peru', 'cases': '3,559,343', 'deaths': '212,724', 'region': '', 'total_recovered': 'N/A', 'new_deaths': '0', 'new_cases': '0', 'serious_critical': '356', 'active_cases': 'N/A', 'total_cases_per_1m_population': '105,303', 'deaths_per_1m_population': '6,293', 'total_tests': '29,592,270', 'tests_per_1m_population': '875,489'}, {'country_name': 'Chile', 'cases': '3,544,463', 'deaths': '57,375', 'region': '', 'total_recovered': '3,368,772', 'new_deaths': '0', 'new_cases': '0', 'serious_critical': '286', 'active_cases': '118,316', 'total_cases_per_1m_population': '182,588', 'deaths_per_1m_population': '2,956', 'total_tests': '36,711,724', 'tests_per_1m_population': '1,891,147'}, {'country_name': 'Greece', 'cases': '3,277,557', 'deaths': '28,867', 'region': '', 'total_recovered': '3,151,717', 'new_deaths': '0', 'new_cases': '0', 'serious_critical': '277', 'active_cases': '96,973', 'total_cases_per_1m_population': '317,250', 'deaths_per_1m_population': '2,794', 'total_tests': '78,872,546', 'tests_per_1m_population': '7,634,431'}, {'country_name': 'Denmark', 'cases': '2,959,040', 'deaths': '6,072', 'region': '', 'total_recovered': '2,929,091', 'new_deaths': '0', 'new_cases': '0', 'serious_critical': '15', 'active_cases': '23,877', 'total_cases_per_1m_population': '507,639', 'deaths_per_1m_population': '1,042', 'total_tests': '127,141,200', 'tests_per_1m_population': '21,811,751'}, {'country_name': 'Romania', 'cases': '2,888,318', 'deaths': '65,427', 'region': '', 'total_recovered': '2,606,660', 'new_deaths': '6', 'new_cases': '494', 'serious_critical': '216', 'active_cases': '216,231', 'total_cases_per_1m_population': '151,968', 'deaths_per_1m_population': '3,442', 'total_tests': '22,594,702', 'tests_per_1m_population': '1,188,815'}, {'country_name': 'Sweden', 'cases': '2,498,388', 'deaths': '18,656', 'region': '', 'total_recovered': '2,464,421', 'new_deaths': '0', 'new_cases': '0', 'serious_critical': '19', 'active_cases': '15,311', 'total_cases_per_1m_population': '244,630', 'deaths_per_1m_population': '1,827', 'total_tests': '18,493,218', 'tests_per_1m_population': '1,810,763'}, {'country_name': 'Iraq', 'cases': '2,324,141', 'deaths': '25,204', 'region': '', 'total_recovered': '2,295,947', 'new_deaths': '0', 'new_cases': '0', 'serious_critical': '20', 'active_cases': '2,990', 'total_cases_per_1m_population': '55,534', 'deaths_per_1m_population': '602', 'total_tests': '18,450,939', 'tests_per_1m_population': '440,871'}, {'country_name': 'Serbia', 'cases': '2,001,144', 'deaths': '15,953', 'region': '', 'total_recovered': '1,967,786', 'new_deaths': '0', 'new_cases': '0', 'serious_critical': '25', 'active_cases': '17,405', 'total_cases_per_1m_population': '230,710', 'deaths_per_1m_population': '1,839', 'total_tests': '9,427,662', 'tests_per_1m_population': '1,086,907'}, {'country_name': 'Bangladesh', 'cases': '1,952,532', 'deaths': '29,127', 'region': '', 'total_recovered': '1,893,131', 'new_deaths': '0', 'new_cases': '0', 'serious_critical': '1,297', 'active_cases': '30,274', 'total_cases_per_1m_population': '11,646', 'deaths_per_1m_population': '174', 'total_tests': '13,956,056', 'tests_per_1m_population': '83,245'}, {'country_name': 'Hungary', 'cases': '1,890,953', 'deaths': '46,048', 'region': '', 'total_recovered': '1,776,617', 'new_deaths': '0', 'new_cases': '0', 'serious_critical': '45', 'active_cases': '68,288', 'total_cases_per_1m_population': '196,645', 'deaths_per_1m_population': '4,789', 'total_tests': '11,295,119', 'tests_per_1m_population': '1,174,608'}, {'country_name': 'Slovakia', 'cases': '1,774,808', 'deaths': '19,839', 'region': '', 'total_recovered': '1,730,712', 'new_deaths': '10', 'new_cases': '1,155', 'serious_critical': '88', 'active_cases': '24,257', 'total_cases_per_1m_population': '324,794', 'deaths_per_1m_population': '3,631', 'total_tests': '7,057,901', 'tests_per_1m_population': '1,291,611'}, {'country_name': 'Jordan', 'cases': '1,694,216', 'deaths': '14,048', 'region': '', 'total_recovered': '1,678,941', 'new_deaths': '0', 'new_cases': '0', 'serious_critical': '124', 'active_cases': '1,227', 'total_cases_per_1m_population': '163,125', 'deaths_per_1m_population': '1,353', 'total_tests': '16,670,254', 'tests_per_1m_population': '1,605,074'}, {'country_name': 'Georgia', 'cases': '1,654,255', 'deaths': '16,800', 'region': '', 'total_recovered': '1,635,791', 'new_deaths': '3', 'new_cases': '92', 'serious_critical': '0', 'active_cases': '1,664', 'total_cases_per_1m_population': '416,129', 'deaths_per_1m_population': '4,226', 'total_tests': '16,807,205', 'tests_per_1m_population': '4,227,861'}, {'country_name': 'Pakistan', 'cases': '1,527,856', 'deaths': '30,369', 'region': '', 'total_recovered': '1,493,998', 'new_deaths': '0', 'new_cases': '105', 'serious_critical': '186', 'active_cases': '3,489', 'total_cases_per_1m_population': '6,683', 'deaths_per_1m_population': '133', 'total_tests': '28,048,307', 'tests_per_1m_population': '122,679'}, {'country_name': 'Ireland', 'cases': '1,509,536', 'deaths': '6,996', 'region': '', 'total_recovered': '1,415,949', 'new_deaths': '0', 'new_cases': '0', 'serious_critical': '41', 'active_cases': '86,591', 'total_cases_per_1m_population': '299,669', 'deaths_per_1m_population': '1,389', 'total_tests': '12,016,948', 'tests_per_1m_population': '2,385,571'}, {'country_name': 'Norway', 'cases': '1,423,509', 'deaths': '2,871', 'region': '', 'total_recovered': 'N/A', 'new_deaths': '0', 'new_cases': '0', 'serious_critical': '20', 'active_cases': 'N/A', 'total_cases_per_1m_population': '258,925', 'deaths_per_1m_population': '522', 'total_tests': '11,002,430', 'tests_per_1m_population': '2,001,256'}, {'country_name': 'Kazakhstan', 'cases': '1,305,457', 'deaths': '13,660', 'region': '', 'total_recovered': '1,290,988', 'new_deaths': '0', 'new_cases': '10', 'serious_critical': '24', 'active_cases': '809', 'total_cases_per_1m_population': '68,056', 'deaths_per_1m_population': '712', 'total_tests': '11,575,012', 'tests_per_1m_population': '603,428'}, {'country_name': 'Hong Kong', 'cases': '1,201,431', 'deaths': '9,236', 'region': '', 'total_recovered': 'N/A', 'new_deaths': '0', 'new_cases': '0', 'serious_critical': '115', 'active_cases': 'N/A', 'total_cases_per_1m_population': '157,942', 'deaths_per_1m_population': '1,214', 'total_tests': '44,972,952', 'tests_per_1m_population': '5,912,223'}, {'country_name': 'Singapore', 'cases': '1,180,124', 'deaths': '1,325', 'region': '', 'total_recovered': '1,109,387', 'new_deaths': '0', 'new_cases': '0', 'serious_critical': '9', 'active_cases': '69,412', 'total_cases_per_1m_population': '198,895', 'deaths_per_1m_population': '223', 'total_tests': '23,712,995', 'tests_per_1m_population': '3,996,529'}, {'country_name': 'Morocco', 'cases': '1,164,670', 'deaths': '16,065', 'region': '', 'total_recovered': '1,148,154', 'new_deaths': '0', 'new_cases': '0', 'serious_critical': '293', 'active_cases': '451', 'total_cases_per_1m_population': '30,893', 'deaths_per_1m_population': '426', 'total_tests': '11,237,010', 'tests_per_1m_population': '298,062'}, {'country_name': 'Bulgaria', 'cases': '1,152,892', 'deaths': '36,849', 'region': '', 'total_recovered': '959,542', 'new_deaths': '0', 'new_cases': '0', 'serious_critical': '105', 'active_cases': '156,501', 'total_cases_per_1m_population': '168,206', 'deaths_per_1m_population': '5,376', 'total_tests': '9,797,011', 'tests_per_1m_population': '1,429,377'}, {'country_name': 'Croatia', 'cases': '1,117,175', 'deaths': '15,778', 'region': '', 'total_recovered': '1,096,829', 'new_deaths': '0', 'new_cases': '0', 'serious_critical': '22', 'active_cases': '4,568', 'total_cases_per_1m_population': '275,195', 'deaths_per_1m_population': '3,887', 'total_tests': '4,762,146', 'tests_per_1m_population': '1,173,065'}, {'country_name': 'Cuba', 'cases': '1,101,486', 'deaths': '8,523', 'region': '', 'total_recovered': '1,091,603', 'new_deaths': '0', 'new_cases': '0', 'serious_critical': '23', 'active_cases': '1,360', 'total_cases_per_1m_population': '97,355', 'deaths_per_1m_population': '753', 'total_tests': '12,920,253', 'tests_per_1m_population': '1,141,957'}, {'country_name': 'Lebanon', 'cases': '1,096,320', 'deaths': '10,374', 'region': '', 'total_recovered': '1,079,455', 'new_deaths': '0', 'new_cases': '0', 'serious_critical': '186', 'active_cases': '6,491', 'total_cases_per_1m_population': '161,931', 'deaths_per_1m_population': '1,532', 'total_tests': '4,795,578', 'tests_per_1m_population': '708,328'}, {'country_name': 'Lithuania', 'cases': '1,054,618', 'deaths': '9,063', 'region': '', 'total_recovered': '1,016,510', 'new_deaths': '9', 'new_cases': '427', 'serious_critical': '31', 'active_cases': '29,045', 'total_cases_per_1m_population': '397,407', 'deaths_per_1m_population': '3,415', 'total_tests': '8,217,113', 'tests_per_1m_population': '3,096,414'}, {'country_name': 'Tunisia', 'cases': '1,039,532', 'deaths': '28,533', 'region': '', 'total_recovered': 'N/A', 'new_deaths': '0', 'new_cases': '0', 'serious_critical': '29', 'active_cases': 'N/A', 'total_cases_per_1m_population': '86,327', 'deaths_per_1m_population': '2,369', 'total_tests': '4,563,397', 'tests_per_1m_population': '378,962'}, {'country_name': 'Slovenia', 'cases': '1,003,970', 'deaths': '6,576', 'region': '', 'total_recovered': '980,501', 'new_deaths': '0', 'new_cases': '0', 'serious_critical': '30', 'active_cases': '16,893', 'total_cases_per_1m_population': '482,805', 'deaths_per_1m_population': '3,162', 'total_tests': '2,640,107', 'tests_per_1m_population': '1,269,615'}, {'country_name': 'Finland', 'cases': '1,000,472', 'deaths': '3,638', 'region': '', 'total_recovered': '46,000', 'new_deaths': '0', 'new_cases': '0', 'serious_critical': '31', 'active_cases': '950,834', 'total_cases_per_1m_population': '180,062', 'deaths_per_1m_population': '655', 'total_tests': '10,644,579', 'tests_per_1m_population': '1,915,782'}, {'country_name': 'Nepal', 'cases': '978,743', 'deaths': '11,951', 'region': '', 'total_recovered': '966,523', 'new_deaths': '0', 'new_cases': '11', 'serious_critical': '0', 'active_cases': '269', 'total_cases_per_1m_population': '32,535', 'deaths_per_1m_population': '397', 'total_tests': '5,616,752', 'tests_per_1m_population': '186,711'}, {'country_name': 'Belarus', 'cases': '977,434', 'deaths': '6,922', 'region': '', 'total_recovered': '928,536', 'new_deaths': '0', 'new_cases': '0', 'serious_critical': '0', 'active_cases': '41,976', 'total_cases_per_1m_population': '103,501', 'deaths_per_1m_population': '733', 'total_tests': '13,092,771', 'tests_per_1m_population': '1,386,401'}, {'country_name': 'Bolivia', 'cases': '904,377', 'deaths': '21,908', 'region': '', 'total_recovered': '855,123', 'new_deaths': '1', 'new_cases': '83', 'serious_critical': '220', 'active_cases': '27,346', 'total_cases_per_1m_population': '75,614', 'deaths_per_1m_population': '1,832', 'total_tests': '2,693,845', 'tests_per_1m_population': '225,230'}, {'country_name': 'UAE', 'cases': '897,136', 'deaths': '2,302', 'region': '', 'total_recovered': '879,787', 'new_deaths': '0', 'new_cases': '244', 'serious_critical': '0', 'active_cases': '15,047', 'total_cases_per_1m_population': '88,772', 'deaths_per_1m_population': '228', 'total_tests': '154,420,740', 'tests_per_1m_population': '15,279,961'}, {'country_name': 'Uruguay', 'cases': '895,775', 'deaths': '7,197', 'region': '', 'total_recovered': '886,654', 'new_deaths': '0', 'new_cases': '0', 'serious_critical': '18', 'active_cases': '1,924', 'total_cases_per_1m_population': '256,268', 'deaths_per_1m_population': '2,059', 'total_tests': '6,091,188', 'tests_per_1m_population': '1,742,599'}, {'country_name': 'New Zealand', 'cases': '884,289', 'deaths': '636', 'region': '', 'total_recovered': '824,272', 'new_deaths': '9', 'new_cases': '5,714', 'serious_critical': '0', 'active_cases': '59,381', 'total_cases_per_1m_population': '176,784', 'deaths_per_1m_population': '127', 'total_tests': '6,983,031', 'tests_per_1m_population': '1,396,020'}, {'country_name': 'Ecuador', 'cases': '868,053', 'deaths': '35,581', 'region': '', 'total_recovered': 'N/A', 'new_deaths': '0', 'new_cases': '0', 'serious_critical': '759', 'active_cases': 'N/A', 'total_cases_per_1m_population': '47,888', 'deaths_per_1m_population': '1,963', 'total_tests': '2,470,170', 'tests_per_1m_population': '136,273'}, {'country_name': 'Costa Rica', 'cases': '847,784', 'deaths': '8,383', 'region': '', 'total_recovered': '829,515', 'new_deaths': '0', 'new_cases': '0', 'serious_critical': '43', 'active_cases': '9,886', 'total_cases_per_1m_population': '163,725', 'deaths_per_1m_population': '1,619', 'total_tests': '4,240,743', 'tests_per_1m_population': '818,979'}, {'country_name': 'Guatemala', 'cases': '841,341', 'deaths': '17,496', 'region': '', 'total_recovered': '821,185', 'new_deaths': '0', 'new_cases': '0', 'serious_critical': '5', 'active_cases': '2,660', 'total_cases_per_1m_population': '45,444', 'deaths_per_1m_population': '945', 'total_tests': '4,402,305', 'tests_per_1m_population': '237,787'}, {'country_name': 'Latvia', 'cases': '817,316', 'deaths': '5,743', 'region': '', 'total_recovered': '803,135', 'new_deaths': '0', 'new_cases': '322', 'serious_critical': '9', 'active_cases': '8,438', 'total_cases_per_1m_population': '442,135', 'deaths_per_1m_population': '3,107', 'total_tests': '7,154,016', 'tests_per_1m_population': '3,870,035'}, {'country_name': 'Azerbaijan', 'cases': '792,476', 'deaths': '9,707', 'region': '', 'total_recovered': '782,634', 'new_deaths': '0', 'new_cases': '0', 'serious_critical': '0', 'active_cases': '135', 'total_cases_per_1m_population': '76,908', 'deaths_per_1m_population': '942', 'total_tests': '6,792,132', 'tests_per_1m_population': '659,165'}, {'country_name': 'Panama', 'cases': '771,486', 'deaths': '8,182', 'region': '', 'total_recovered': '759,832', 'new_deaths': '0', 'new_cases': '0', 'serious_critical': '8', 'active_cases': '3,472', 'total_cases_per_1m_population': '173,862', 'deaths_per_1m_population': '1,844', 'total_tests': '5,820,472', 'tests_per_1m_population': '1,311,699'}, {'country_name': 'Saudi Arabia', 'cases': '753,332', 'deaths': '9,076', 'region': '', 'total_recovered': '740,467', 'new_deaths': '0', 'new_cases': '0', 'serious_critical': '45', 'active_cases': '3,789', 'total_cases_per_1m_population': '21,047', 'deaths_per_1m_population': '254', 'total_tests': '41,817,866', 'tests_per_1m_population': '1,168,345'}, {'country_name': 'Sri Lanka', 'cases': '663,131', 'deaths': '16,502', 'region': '', 'total_recovered': '642,574', 'new_deaths': '0', 'new_cases': '0', 'serious_critical': '0', 'active_cases': '4,055', 'total_cases_per_1m_population': '30,736', 'deaths_per_1m_population': '765', 'total_tests': '6,486,117', 'tests_per_1m_population': '300,627'}, {'country_name': 'Paraguay', 'cases': '649,034', 'deaths': '18,795', 'region': '', 'total_recovered': '624,673', 'new_deaths': '0', 'new_cases': '0', 'serious_critical': '5', 'active_cases': '5,566', 'total_cases_per_1m_population': '89,022', 'deaths_per_1m_population': '2,578', 'total_tests': '2,623,300', 'tests_per_1m_population': '359,816'}, {'country_name': 'Kuwait', 'cases': '631,294', 'deaths': '2,555', 'region': '', 'total_recovered': '627,899', 'new_deaths': '0', 'new_cases': '0', 'serious_critical': '8', 'active_cases': '840', 'total_cases_per_1m_population': '143,981', 'deaths_per_1m_population': '583', 'total_tests': '7,999,656', 'tests_per_1m_population': '1,824,506'}, {'country_name': 'Myanmar', 'cases': '612,733', 'deaths': '19,434', 'region': '', 'total_recovered': '591,609', 'new_deaths': '0', 'new_cases': '0', 'serious_critical': '0', 'active_cases': '1,690', 'total_cases_per_1m_population': '11,127', 'deaths_per_1m_population': '353', 'total_tests': '7,891,077', 'tests_per_1m_population': '143,296'}, {'country_name': 'Palestine', 'cases': '581,816', 'deaths': '5,353', 'region': '', 'total_recovered': '575,899', 'new_deaths': '0', 'new_cases': '0', 'serious_critical': '17', 'active_cases': '564', 'total_cases_per_1m_population': '109,459', 'deaths_per_1m_population': '1,007', 'total_tests': '3,078,533', 'tests_per_1m_population': '579,175'}, {'country_name': 'Dominican Republic', 'cases': '578,954', 'deaths': '4,376', 'region': '', 'total_recovered': '574,297', 'new_deaths': '0', 'new_cases': '0', 'serious_critical': '16', 'active_cases': '281', 'total_cases_per_1m_population': '52,421', 'deaths_per_1m_population': '396', 'total_tests': '3,261,060', 'tests_per_1m_population': '295,272'}, {'country_name': 'Estonia', 'cases': '570,257', 'deaths': '2,531', 'region': '', 'total_recovered': '507,474', 'new_deaths': '0', 'new_cases': '181', 'serious_critical': '7', 'active_cases': '60,252', 'total_cases_per_1m_population': '429,364', 'deaths_per_1m_population': '1,906', 'total_tests': '3,311,935', 'tests_per_1m_population': '2,493,655'}, {'country_name': 'Bahrain', 'cases': '565,830', 'deaths': '1,475', 'region': '', 'total_recovered': '560,795', 'new_deaths': '0', 'new_cases': '0', 'serious_critical': '3', 'active_cases': '3,560', 'total_cases_per_1m_population': '312,916', 'deaths_per_1m_population': '816', 'total_tests': '9,695,962', 'tests_per_1m_population': '5,362,081'}, {'country_name': 'Venezuela', 'cases': '522,121', 'deaths': '5,705', 'region': '', 'total_recovered': '515,305', 'new_deaths': '0', 'new_cases': '0', 'serious_critical': '230', 'active_cases': '1,111', 'total_cases_per_1m_population': '18,456', 'deaths_per_1m_population': '202', 'total_tests': '3,359,014', 'tests_per_1m_population': '118,733'}, {'country_name': 'Moldova', 'cases': '516,986', 'deaths': '11,489', 'region': '', 'total_recovered': '504,142', 'new_deaths': '0', 'new_cases': '0', 'serious_critical': '49', 'active_cases': '1,355', 'total_cases_per_1m_population': '128,698', 'deaths_per_1m_population': '2,860', 'total_tests': '3,216,305', 'tests_per_1m_population': '800,665'}, {'country_name': 'Egypt', 'cases': '515,645', 'deaths': '24,613', 'region': '', 'total_recovered': '442,182', 'new_deaths': '0', 'new_cases': '0', 'serious_critical': '122', 'active_cases': '48,850', 'total_cases_per_1m_population': '4,873', 'deaths_per_1m_population': '233', 'total_tests': '3,693,367', 'tests_per_1m_population': '34,903'}, {'country_name': 'Libya', 'cases': '501,862', 'deaths': '6,429', 'region': '', 'total_recovered': '490,900', 'new_deaths': '0', 'new_cases': '0', 'serious_critical': '101', 'active_cases': '4,533', 'total_cases_per_1m_population': '71,288', 'deaths_per_1m_population': '913', 'total_tests': '2,476,960', 'tests_per_1m_population': '351,844'}, {'country_name': 'Cyprus', 'cases': '470,481', 'deaths': '1,011', 'region': '', 'total_recovered': '124,370', 'new_deaths': '0', 'new_cases': '0', 'serious_critical': '60', 'active_cases': '345,100', 'total_cases_per_1m_population': '384,623', 'deaths_per_1m_population': '827', 'total_tests': '9,477,138', 'tests_per_1m_population': '7,747,665'}, {'country_name': 'Ethiopia', 'cases': '470,417', 'deaths': '7,510', 'region': '', 'total_recovered': '454,967', 'new_deaths': '0', 'new_cases': '0', 'serious_critical': '15', 'active_cases': '7,940', 'total_cases_per_1m_population': '3,917', 'deaths_per_1m_population': '63', 'total_tests': '4,763,756', 'tests_per_1m_population': '39,665'}, {'country_name': 'Mongolia', 'cases': '469,580', 'deaths': '2,177', 'region': '', 'total_recovered': '313,256', 'new_deaths': '0', 'new_cases': '30', 'serious_critical': '192', 'active_cases': '154,147', 'total_cases_per_1m_population': '139,194', 'deaths_per_1m_population': '645', 'total_tests': '4,030,048', 'tests_per_1m_population': '1,194,595'}, {'country_name': 'Armenia', 'cases': '422,825', 'deaths': '8,622', 'region': '', 'total_recovered': '410,558', 'new_deaths': '0', 'new_cases': '3', 'serious_critical': '0', 'active_cases': '3,645', 'total_cases_per_1m_population': '142,210', 'deaths_per_1m_population': '2,900', 'total_tests': '3,035,104', 'tests_per_1m_population': '1,020,807'}, {'country_name': 'Honduras', 'cases': '422,275', 'deaths': '10,892', 'region': '', 'total_recovered': '131,100', 'new_deaths': '0', 'new_cases': '0', 'serious_critical': '105', 'active_cases': '280,283', 'total_cases_per_1m_population': '41,445', 'deaths_per_1m_population': '1,069', 'total_tests': '1,263,329', 'tests_per_1m_population': '123,991'}, {'country_name': 'Oman', 'cases': '388,995', 'deaths': '4,257', 'region': '', 'total_recovered': '384,055', 'new_deaths': '0', 'new_cases': '0', 'serious_critical': '2', 'active_cases': '683', 'total_cases_per_1m_population': '72,833', 'deaths_per_1m_population': '797', 'total_tests': '25,000,000', 'tests_per_1m_population': '4,680,828'}, {'country_name': 'Bosnia and Herzegovina', 'cases': '376,699', 'deaths': '15,756', 'region': '', 'total_recovered': '192,218', 'new_deaths': '0', 'new_cases': '0', 'serious_critical': '0', 'active_cases': '168,725', 'total_cases_per_1m_population': '116,122', 'deaths_per_1m_population': '4,857', 'total_tests': '1,752,716', 'tests_per_1m_population': '540,297'}, {'country_name': 'Réunion', 'cases': '374,295', 'deaths': '742', 'region': '', 'total_recovered': '355,605', 'new_deaths': '0', 'new_cases': '0', 'serious_critical': '10', 'active_cases': '17,948', 'total_cases_per_1m_population': '412,744', 'deaths_per_1m_population': '818', 'total_tests': '1,603,660', 'tests_per_1m_population': '1,768,393'}, {'country_name': 'Qatar', 'cases': '364,089', 'deaths': '677', 'region': '', 'total_recovered': '362,568', 'new_deaths': '0', 'new_cases': '0', 'serious_critical': '1', 'active_cases': '844', 'total_cases_per_1m_population': '129,670', 'deaths_per_1m_population': '241', 'total_tests': '3,425,362', 'tests_per_1m_population': '1,219,943'}, {'country_name': 'Kenya', 'cases': '323,696', 'deaths': '5,649', 'region': '', 'total_recovered': '317,909', 'new_deaths': '0', 'new_cases': '0', 'serious_critical': '0', 'active_cases': '138', 'total_cases_per_1m_population': '5,790', 'deaths_per_1m_population': '101', 'total_tests': '3,581,506', 'tests_per_1m_population': '64,060'}, {'country_name': 'Zambia', 'cases': '318,984', 'deaths': '3,974', 'region': '', 'total_recovered': '314,075', 'new_deaths': '0', 'new_cases': '0', 'serious_critical': '0', 'active_cases': '935', 'total_cases_per_1m_population': '16,517', 'deaths_per_1m_population': '206', 'total_tests': '3,408,441', 'tests_per_1m_population': '176,487'}, {'country_name': 'North Macedonia', 'cases': '309,062', 'deaths': '9,271', 'region': '', 'total_recovered': '299,064', 'new_deaths': '0', 'new_cases': '0', 'serious_critical': '0', 'active_cases': '727', 'total_cases_per_1m_population': '148,358', 'deaths_per_1m_population': '4,450', 'total_tests': '2,007,553', 'tests_per_1m_population': '963,678'}, {'country_name': 'Botswana', 'cases': '305,859', 'deaths': '2,688', 'region': '', 'total_recovered': '303,026', 'new_deaths': '0', 'new_cases': '0', 'serious_critical': '1', 'active_cases': '145', 'total_cases_per_1m_population': '125,491', 'deaths_per_1m_population': '1,103', 'total_tests': '2,026,898', 'tests_per_1m_population': '831,613'}, {'country_name': 'Albania', 'cases': '274,791', 'deaths': '3,496', 'region': '', 'total_recovered': '270,869', 'new_deaths': '0', 'new_cases': '0', 'serious_critical': '2', 'active_cases': '426', 'total_cases_per_1m_population': '95,675', 'deaths_per_1m_population': '1,217', 'total_tests': '1,799,730', 'tests_per_1m_population': '626,620'}, {'country_name': 'Algeria', 'cases': '265,761', 'deaths': '6,874', 'region': '', 'total_recovered': '178,344', 'new_deaths': '0', 'new_cases': '0', 'serious_critical': '6', 'active_cases': '80,543', 'total_cases_per_1m_population': '5,869', 'deaths_per_1m_population': '152', 'total_tests': '230,861', 'tests_per_1m_population': '5,099'}, {'country_name': 'Nigeria', 'cases': '255,685', 'deaths': '3,143', 'region': '', 'total_recovered': '249,890', 'new_deaths': '0', 'new_cases': '0', 'serious_critical': '11', 'active_cases': '2,652', 'total_cases_per_1m_population': '1,187', 'deaths_per_1m_population': '15', 'total_tests': '5,036,813', 'tests_per_1m_population': '23,388'}, {'country_name': 'Zimbabwe', 'cases': '247,524', 'deaths': '5,468', 'region': '', 'total_recovered': '241,362', 'new_deaths': '0', 'new_cases': '0', 'serious_critical': '12', 'active_cases': '694', 'total_cases_per_1m_population': '16,227', 'deaths_per_1m_population': '358', 'total_tests': '2,240,305', 'tests_per_1m_population': '146,872'}, {'country_name': 'Uzbekistan', 'cases': '238,469', 'deaths': '1,637', 'region': '', 'total_recovered': '236,483', 'new_deaths': '0', 'new_cases': '27', 'serious_critical': '23', 'active_cases': '349', 'total_cases_per_1m_population': '6,943', 'deaths_per_1m_population': '48', 'total_tests': '1,377,915', 'tests_per_1m_population': '40,120'}, {'country_name': 'Montenegro', 'cases': '234,619', 'deaths': '2,713', 'region': '', 'total_recovered': '231,297', 'new_deaths': '0', 'new_cases': '0', 'serious_critical': '6', 'active_cases': '609', 'total_cases_per_1m_population': '373,473', 'deaths_per_1m_population': '4,319', 'total_tests': '2,444,820', 'tests_per_1m_population': '3,891,730'}, {'country_name': 'Luxembourg', 'cases': '233,966', 'deaths': '1,058', 'region': '', 'total_recovered': '221,501', 'new_deaths': '0', 'new_cases': '0', 'serious_critical': '1', 'active_cases': '11,407', 'total_cases_per_1m_population': '363,099', 'deaths_per_1m_population': '1,642', 'total_tests': '4,213,886', 'tests_per_1m_population': '6,539,666'}, {'country_name': 'Mozambique', 'cases': '225,358', 'deaths': '2,201', 'region': '', 'total_recovered': '223,104', 'new_deaths': '0', 'new_cases': '0', 'serious_critical': '13', 'active_cases': '53', 'total_cases_per_1m_population': '6,863', 'deaths_per_1m_population': '67', 'total_tests': '1,308,458', 'tests_per_1m_population': '39,849'}, {'country_name': 'Laos', 'cases': '205,975', 'deaths': '732', 'region': '', 'total_recovered': '7,660', 'new_deaths': '0', 'new_cases': '1,082', 'serious_critical': '0', 'active_cases': '197,583', 'total_cases_per_1m_population': '27,588', 'deaths_per_1m_population': '98', 'total_tests': '1,232,128', 'tests_per_1m_population': '165,029'}, {'country_name': 'Kyrgyzstan', 'cases': '200,983', 'deaths': '2,991', 'region': '', 'total_recovered': '196,386', 'new_deaths': '0', 'new_cases': '0', 'serious_critical': '131', 'active_cases': '1,606', 'total_cases_per_1m_population': '29,915', 'deaths_per_1m_population': '445', 'total_tests': '1,907,195', 'tests_per_1m_population': '283,874'}, {'country_name': 'China', 'cases': '200,654', 'deaths': '4,725', 'region': '', 'total_recovered': '166,398', 'new_deaths': '39', 'new_cases': '1,580', 'serious_critical': '236', 'active_cases': '29,531', 'total_cases_per_1m_population': '139', 'deaths_per_1m_population': '3', 'total_tests': '160,000,000', 'tests_per_1m_population': '111,163'}, {'country_name': 'Iceland', 'cases': '183,974', 'deaths': '112', 'region': '', 'total_recovered': '75,685', 'new_deaths': '0', 'new_cases': '0', 'serious_critical': '1', 'active_cases': '108,177', 'total_cases_per_1m_population': '532,886', 'deaths_per_1m_population': '324', 'total_tests': '1,953,616', 'tests_per_1m_population': '5,658,702'}, {'country_name': 'Maldives', 'cases': '178,883', 'deaths': '298', 'region': '', 'total_recovered': '163,687', 'new_deaths': '0', 'new_cases': '0', 'serious_critical': '25', 'active_cases': '14,898', 'total_cases_per_1m_population': '320,737', 'deaths_per_1m_population': '534', 'total_tests': '2,213,831', 'tests_per_1m_population': '3,969,395'}, {'country_name': 'Afghanistan', 'cases': '178,689', 'deaths': '7,682', 'region': '', 'total_recovered': '161,748', 'new_deaths': '1', 'new_cases': '39', 'serious_critical': '1,124', 'active_cases': '9,259', 'total_cases_per_1m_population': '4,411', 'deaths_per_1m_population': '190', 'total_tests': '940,341', 'tests_per_1m_population': '23,212'}, {'country_name': 'Uganda', 'cases': '164,069', 'deaths': '3,596', 'region': '', 'total_recovered': '100,205', 'new_deaths': '0', 'new_cases': '0', 'serious_critical': '2', 'active_cases': '60,268', 'total_cases_per_1m_population': '3,394', 'deaths_per_1m_population': '74', 'total_tests': '2,612,795', 'tests_per_1m_population': '54,043'}, {'country_name': 'El Salvador', 'cases': '162,089', 'deaths': '4,127', 'region': '', 'total_recovered': '150,662', 'new_deaths': '0', 'new_cases': '0', 'serious_critical': '8', 'active_cases': '7,300', 'total_cases_per_1m_population': '24,764', 'deaths_per_1m_population': '631', 'total_tests': '1,950,448', 'tests_per_1m_population': '297,993'}, {'country_name': 'Ghana', 'cases': '161,124', 'deaths': '1,445', 'region': '', 'total_recovered': '159,655', 'new_deaths': '0', 'new_cases': '0', 'serious_critical': '1', 'active_cases': '24', 'total_cases_per_1m_population': '4,997', 'deaths_per_1m_population': '45', 'total_tests': '2,433,244', 'tests_per_1m_population': '75,465'}, {'country_name': 'Namibia', 'cases': '158,332', 'deaths': '4,023', 'region': '', 'total_recovered': '153,662', 'new_deaths': '0', 'new_cases': '0', 'serious_critical': '0', 'active_cases': '647', 'total_cases_per_1m_population': '60,341', 'deaths_per_1m_population': '1,533', 'total_tests': '1,001,354', 'tests_per_1m_population': '381,621'}, {'country_name': 'Martinique', 'cases': '147,519', 'deaths': '918', 'region': '', 'total_recovered': '104', 'new_deaths': '0', 'new_cases': '0', 'serious_critical': '8', 'active_cases': '146,497', 'total_cases_per_1m_population': '393,657', 'deaths_per_1m_population': '2,450', 'total_tests': '828,928', 'tests_per_1m_population': '2,212,008'}, {'country_name': 'Trinidad and Tobago', 'cases': '144,359', 'deaths': '3,812', 'region': '', 'total_recovered': '133,604', 'new_deaths': '0', 'new_cases': '0', 'serious_critical': '18', 'active_cases': '6,943', 'total_cases_per_1m_population': '102,552', 'deaths_per_1m_population': '2,708', 'total_tests': '696,148', 'tests_per_1m_population': '494,540'}, {'country_name': 'Brunei', 'cases': '141,014', 'deaths': '218', 'region': '', 'total_recovered': '139,724', 'new_deaths': '0', 'new_cases': '0', 'serious_critical': '2', 'active_cases': '1,072', 'total_cases_per_1m_population': '316,857', 'deaths_per_1m_population': '490', 'total_tests': '717,784', 'tests_per_1m_population': '1,612,853'}, {'country_name': 'Guadeloupe', 'cases': '140,130', 'deaths': '854', 'region': '', 'total_recovered': '2,250', 'new_deaths': '0', 'new_cases': '0', 'serious_critical': '19', 'active_cases': '137,026', 'total_cases_per_1m_population': '350,108', 'deaths_per_1m_population': '2,134', 'total_tests': '938,039', 'tests_per_1m_population': '2,343,644'}, {'country_name': 'Cambodia', 'cases': '136,200', 'deaths': '3,056', 'region': '', 'total_recovered': '132,896', 'new_deaths': '0', 'new_cases': '0', 'serious_critical': '0', 'active_cases': '248', 'total_cases_per_1m_population': '7,948', 'deaths_per_1m_population': '178', 'total_tests': '2,946,965', 'tests_per_1m_population': '171,969'}, {'country_name': 'Rwanda', 'cases': '129,764', 'deaths': '1,458', 'region': '', 'total_recovered': '45,522', 'new_deaths': '0', 'new_cases': '0', 'serious_critical': '0', 'active_cases': '82,784', 'total_cases_per_1m_population': '9,590', 'deaths_per_1m_population': '108', 'total_tests': '5,225,494', 'tests_per_1m_population': '386,173'}, {'country_name': 'Jamaica', 'cases': '129,489', 'deaths': '2,943', 'region': '', 'total_recovered': '82,965', 'new_deaths': '0', 'new_cases': '0', 'serious_critical': '0', 'active_cases': '43,581', 'total_cases_per_1m_population': '43,387', 'deaths_per_1m_population': '986', 'total_tests': '981,688', 'tests_per_1m_population': '328,929'}, {'country_name': 'Cameroon', 'cases': '119,780', 'deaths': '1,927', 'region': '', 'total_recovered': '117,791', 'new_deaths': '0', 'new_cases': '0', 'serious_critical': '13', 'active_cases': '62', 'total_cases_per_1m_population': '4,318', 'deaths_per_1m_population': '69', 'total_tests': '1,751,774', 'tests_per_1m_population': '63,154'}, {'country_name': 'Angola', 'cases': '99,194', 'deaths': '1,900', 'region': '', 'total_recovered': '97,149', 'new_deaths': '0', 'new_cases': '0', 'serious_critical': '0', 'active_cases': '145', 'total_cases_per_1m_population': '2,858', 'deaths_per_1m_population': '55', 'total_tests': '1,499,795', 'tests_per_1m_population': '43,209'}, {'country_name': 'Malta', 'cases': '90,595', 'deaths': '688', 'region': '', 'total_recovered': '84,646', 'new_deaths': '1', 'new_cases': '196', 'serious_critical': '4', 'active_cases': '5,261', 'total_cases_per_1m_population': '204,196', 'deaths_per_1m_population': '1,551', 'total_tests': '1,872,465', 'tests_per_1m_population': '4,220,438'}, {'country_name': 'DRC', 'cases': '87,023', 'deaths': '1,337', 'region': '', 'total_recovered': '50,930', 'new_deaths': '0', 'new_cases': '0', 'serious_critical': '0', 'active_cases': '34,756', 'total_cases_per_1m_population': '921', 'deaths_per_1m_population': '14', 'total_tests': '846,704', 'tests_per_1m_population': '8,962'}, {'country_name': 'Senegal', 'cases': '85,984', 'deaths': '1,966', 'region': '', 'total_recovered': '84,001', 'new_deaths': '0', 'new_cases': '0', 'serious_critical': '1', 'active_cases': '17', 'total_cases_per_1m_population': '4,902', 'deaths_per_1m_population': '112', 'total_tests': '1,063,849', 'tests_per_1m_population': '60,653'}, {'country_name': 'Malawi', 'cases': '85,747', 'deaths': '2,633', 'region': '', 'total_recovered': '81,938', 'new_deaths': '0', 'new_cases': '0', 'serious_critical': '67', 'active_cases': '1,176', 'total_cases_per_1m_population': '4,283', 'deaths_per_1m_population': '132', 'total_tests': '571,585', 'tests_per_1m_population': '28,548'}, {'country_name': 'Ivory Coast', 'cases': '81,887', 'deaths': '799', 'region': '', 'total_recovered': '81,061', 'new_deaths': '0', 'new_cases': '0', 'serious_critical': '0', 'active_cases': '27', 'total_cases_per_1m_population': '2,972', 'deaths_per_1m_population': '29', 'total_tests': '1,494,624', 'tests_per_1m_population': '54,238'}, {'country_name': 'French Guiana', 'cases': '80,422', 'deaths': '394', 'region': '', 'total_recovered': '11,254', 'new_deaths': '0', 'new_cases': '0', 'serious_critical': '1', 'active_cases': '68,774', 'total_cases_per_1m_population': '257,228', 'deaths_per_1m_population': '1,260', 'total_tests': '622,646', 'tests_per_1m_population': '1,991,518'}, {'country_name': 'Suriname', 'cases': '79,302', 'deaths': '1,327', 'region': '', 'total_recovered': '49,396', 'new_deaths': '0', 'new_cases': '0', 'serious_critical': '0', 'active_cases': '28,579', 'total_cases_per_1m_population': '133,030', 'deaths_per_1m_population': '2,226', 'total_tests': '235,824', 'tests_per_1m_population': '395,598'}, {'country_name': 'Channel Islands', 'cases': '73,609', 'deaths': '166', 'region': '', 'total_recovered': '72,059', 'new_deaths': '0', 'new_cases': '0', 'serious_critical': '0', 'active_cases': '1,384', 'total_cases_per_1m_population': '416,444', 'deaths_per_1m_population': '939', 'total_tests': '1,252,808', 'tests_per_1m_population': '7,087,782'}, {'country_name': 'French Polynesia', 'cases': '72,648', 'deaths': '648', 'region': '', 'total_recovered': 'N/A', 'new_deaths': '0', 'new_cases': '0', 'serious_critical': '7', 'active_cases': 'N/A', 'total_cases_per_1m_population': '255,948', 'deaths_per_1m_population': '2,283', 'total_tests': '0', 'tests_per_1m_population': '0'}, {'country_name': 'Eswatini', 'cases': '70,284', 'deaths': '1,397', 'region': '', 'total_recovered': '68,764', 'new_deaths': '0', 'new_cases': '0', 'serious_critical': '11', 'active_cases': '123', 'total_cases_per_1m_population': '59,470', 'deaths_per_1m_population': '1,182', 'total_tests': '1,012,397', 'tests_per_1m_population': '856,623'}, {'country_name': 'Barbados', 'cases': '67,256', 'deaths': '389', 'region': '', 'total_recovered': '63,424', 'new_deaths': '0', 'new_cases': '0', 'serious_critical': '0', 'active_cases': '3,443', 'total_cases_per_1m_population': '233,520', 'deaths_per_1m_population': '1,351', 'total_tests': '640,085', 'tests_per_1m_population': '2,222,440'}, {'country_name': 'Fiji', 'cases': '64,524', 'deaths': '862', 'region': '', 'total_recovered': '62,677', 'new_deaths': '0', 'new_cases': '0', 'serious_critical': '0', 'active_cases': '985', 'total_cases_per_1m_population': '71,048', 'deaths_per_1m_population': '949', 'total_tests': '506,642', 'tests_per_1m_population': '557,871'}, {'country_name': 'Madagascar', 'cases': '64,121', 'deaths': '1,391', 'region': '', 'total_recovered': '59,370', 'new_deaths': '0', 'new_cases': '0', 'serious_critical': '14', 'active_cases': '3,360', 'total_cases_per_1m_population': '2,213', 'deaths_per_1m_population': '48', 'total_tests': '418,849', 'tests_per_1m_population': '14,455'}, {'country_name': 'Guyana', 'cases': '63,413', 'deaths': '1,228', 'region': '', 'total_recovered': '62,092', 'new_deaths': '0', 'new_cases': '0', 'serious_critical': '1', 'active_cases': '93', 'total_cases_per_1m_population': '79,925', 'deaths_per_1m_population': '1,548', 'total_tests': '590,638', 'tests_per_1m_population': '744,436'}, {'country_name': 'Sudan', 'cases': '62,093', 'deaths': '4,930', 'region': '', 'total_recovered': 'N/A', 'new_deaths': '0', 'new_cases': '0', 'serious_critical': '0', 'active_cases': 'N/A', 'total_cases_per_1m_population': '1,359', 'deaths_per_1m_population': '108', 'total_tests': '562,941', 'tests_per_1m_population': '12,319'}, {'country_name': 'New Caledonia', 'cases': '60,457', 'deaths': '312', 'region': '', 'total_recovered': '60,064', 'new_deaths': '0', 'new_cases': '0', 'serious_critical': '9', 'active_cases': '81', 'total_cases_per_1m_population': '208,148', 'deaths_per_1m_population': '1,074', 'total_tests': '98,964', 'tests_per_1m_population': '340,724'}, {'country_name': 'Mauritania', 'cases': '58,683', 'deaths': '982', 'region': '', 'total_recovered': '57,693', 'new_deaths': '0', 'new_cases': '0', 'serious_critical': '0', 'active_cases': '8', 'total_cases_per_1m_population': '12,050', 'deaths_per_1m_population': '202', 'total_tests': '799,187', 'tests_per_1m_population': '164,099'}, {'country_name': 'Bhutan', 'cases': '57,771', 'deaths': '20', 'region': '', 'total_recovered': '53,080', 'new_deaths': '0', 'new_cases': '431', 'serious_critical': '3', 'active_cases': '4,671', 'total_cases_per_1m_population': '73,412', 'deaths_per_1m_population': '25', 'total_tests': '2,284,301', 'tests_per_1m_population': '2,902,749'}, {'country_name': 'Belize', 'cases': '57,419', 'deaths': '676', 'region': '', 'total_recovered': '56,534', 'new_deaths': '0', 'new_cases': '0', 'serious_critical': '6', 'active_cases': '209', 'total_cases_per_1m_population': '139,823', 'deaths_per_1m_population': '1,646', 'total_tests': '534,770', 'tests_per_1m_population': '1,302,237'}, {'country_name': 'Taiwan', 'cases': '56,468', 'deaths': '856', 'region': '', 'total_recovered': '23,729', 'new_deaths': '0', 'new_cases': '5,172', 'serious_critical': '0', 'active_cases': '31,883', 'total_cases_per_1m_population': '2,363', 'deaths_per_1m_population': '36', 'total_tests': '14,289,370', 'tests_per_1m_population': '598,017'}, {'country_name': 'Cabo Verde', 'cases': '56,004', 'deaths': '401', 'region': '', 'total_recovered': '55,538', 'new_deaths': '0', 'new_cases': '0', 'serious_critical': '23', 'active_cases': '65', 'total_cases_per_1m_population': '98,792', 'deaths_per_1m_population': '707', 'total_tests': '400,982', 'tests_per_1m_population': '707,340'}, {'country_name': 'Syria', 'cases': '55,795', 'deaths': '3,150', 'region': '', 'total_recovered': '52,090', 'new_deaths': '0', 'new_cases': '0', 'serious_critical': '0', 'active_cases': '555', 'total_cases_per_1m_population': '3,054', 'deaths_per_1m_population': '172', 'total_tests': '146,269', 'tests_per_1m_population': '8,007'}, {'country_name': 'Gabon', 'cases': '47,597', 'deaths': '303', 'region': '', 'total_recovered': '47,282', 'new_deaths': '0', 'new_cases': '0', 'serious_critical': '0', 'active_cases': '12', 'total_cases_per_1m_population': '20,512', 'deaths_per_1m_population': '131', 'total_tests': '1,592,483', 'tests_per_1m_population': '686,270'}, {'country_name': 'Papua New Guinea', 'cases': '43,732', 'deaths': '649', 'region': '', 'total_recovered': '43,025', 'new_deaths': '0', 'new_cases': '0', 'serious_critical': '7', 'active_cases': '58', 'total_cases_per_1m_population': '4,726', 'deaths_per_1m_population': '70', 'total_tests': '249,149', 'tests_per_1m_population': '26,927'}, {'country_name': 'Seychelles', 'cases': '42,079', 'deaths': '165', 'region': '', 'total_recovered': '41,260', 'new_deaths': '0', 'new_cases': '0', 'serious_critical': '0', 'active_cases': '654', 'total_cases_per_1m_population': '423,134', 'deaths_per_1m_population': '1,659', 'total_tests': '0', 'tests_per_1m_population': '0'}, {'country_name': 'Curaçao', 'cases': '41,966', 'deaths': '273', 'region': '', 'total_recovered': '41,251', 'new_deaths': '0', 'new_cases': '0', 'serious_critical': '3', 'active_cases': '442', 'total_cases_per_1m_population': '253,872', 'deaths_per_1m_population': '1,652', 'total_tests': '496,693', 'tests_per_1m_population': '3,004,725'}, {'country_name': 'Andorra', 'cases': '41,013', 'deaths': '153', 'region': '', 'total_recovered': '40,343', 'new_deaths': '0', 'new_cases': '0', 'serious_critical': '14', 'active_cases': '517', 'total_cases_per_1m_population': '529,282', 'deaths_per_1m_population': '1,974', 'total_tests': '249,838', 'tests_per_1m_population': '3,224,215'}, {'country_name': 'Burundi', 'cases': '38,887', 'deaths': '38', 'region': '', 'total_recovered': '773', 'new_deaths': '0', 'new_cases': '0', 'serious_critical': '0', 'active_cases': '38,076', 'total_cases_per_1m_population': '3,104', 'deaths_per_1m_population': '3', 'total_tests': '345,742', 'tests_per_1m_population': '27,594'}, {'country_name': 'Mauritius', 'cases': '37,656', 'deaths': '990', 'region': '', 'total_recovered': '35,656', 'new_deaths': '0', 'new_cases': '0', 'serious_critical': '0', 'active_cases': '1,010', 'total_cases_per_1m_population': '29,521', 'deaths_per_1m_population': '776', 'total_tests': '358,675', 'tests_per_1m_population': '281,186'}, {'country_name': 'Mayotte', 'cases': '37,038', 'deaths': '187', 'region': '', 'total_recovered': '2,964', 'new_deaths': '0', 'new_cases': '0', 'serious_critical': '0', 'active_cases': '33,887', 'total_cases_per_1m_population': '130,099', 'deaths_per_1m_population': '657', 'total_tests': '176,919', 'tests_per_1m_population': '621,442'}, {'country_name': 'Togo', 'cases': '36,977', 'deaths': '273', 'region': '', 'total_recovered': '36,679', 'new_deaths': '0', 'new_cases': '0', 'serious_critical': '0', 'active_cases': '25', 'total_cases_per_1m_population': '4,285', 'deaths_per_1m_population': '32', 'total_tests': '727,740', 'tests_per_1m_population': '84,338'}, {'country_name': 'Guinea', 'cases': '36,459', 'deaths': '440', 'region': '', 'total_recovered': '35,976', 'new_deaths': '0', 'new_cases': '0', 'serious_critical': '8', 'active_cases': '43', 'total_cases_per_1m_population': '2,647', 'deaths_per_1m_population': '32', 'total_tests': '660,107', 'tests_per_1m_population': '47,919'}, {'country_name': 'Faeroe Islands', 'cases': '34,658', 'deaths': '28', 'region': '', 'total_recovered': '7,693', 'new_deaths': '0', 'new_cases': '0', 'serious_critical': '5', 'active_cases': '26,937', 'total_cases_per_1m_population': '704,460', 'deaths_per_1m_population': '569', 'total_tests': '778,000', 'tests_per_1m_population': '15,813,651'}, {'country_name': 'Aruba', 'cases': '34,589', 'deaths': '212', 'region': '', 'total_recovered': '34,251', 'new_deaths': '0', 'new_cases': '0', 'serious_critical': '2', 'active_cases': '126', 'total_cases_per_1m_population': '321,507', 'deaths_per_1m_population': '1,971', 'total_tests': '177,885', 'tests_per_1m_population': '1,653,452'}, {'country_name': 'Tanzania', 'cases': '33,864', 'deaths': '803', 'region': '', 'total_recovered': 'N/A', 'new_deaths': '0', 'new_cases': '0', 'serious_critical': '7', 'active_cases': 'N/A', 'total_cases_per_1m_population': '539', 'deaths_per_1m_population': '13', 'total_tests': '0', 'tests_per_1m_population': '0'}, {'country_name': 'Bahamas', 'cases': '33,463', 'deaths': '789', 'region': '', 'total_recovered': '32,310', 'new_deaths': '0', 'new_cases': '0', 'serious_critical': '11', 'active_cases': '364', 'total_cases_per_1m_population': '83,652', 'deaths_per_1m_population': '1,972', 'total_tests': '229,817', 'tests_per_1m_population': '574,504'}, {'country_name': 'Lesotho', 'cases': '32,910', 'deaths': '697', 'region': '', 'total_recovered': '24,155', 'new_deaths': '0', 'new_cases': '0', 'serious_critical': '0', 'active_cases': '8,058', 'total_cases_per_1m_population': '15,146', 'deaths_per_1m_population': '321', 'total_tests': '431,221', 'tests_per_1m_population': '198,454'}, {'country_name': 'Mali', 'cases': '30,727', 'deaths': '731', 'region': '', 'total_recovered': '29,795', 'new_deaths': '0', 'new_cases': '0', 'serious_critical': '0', 'active_cases': '201', 'total_cases_per_1m_population': '1,442', 'deaths_per_1m_population': '34', 'total_tests': '663,805', 'tests_per_1m_population': '31,160'}, {'country_name': 'Haiti', 'cases': '30,640', 'deaths': '835', 'region': '', 'total_recovered': '29,389', 'new_deaths': '0', 'new_cases': '0', 'serious_critical': '0', 'active_cases': '416', 'total_cases_per_1m_population': '2,629', 'deaths_per_1m_population': '72', 'total_tests': '132,422', 'tests_per_1m_population': '11,363'}, {'country_name': 'Isle of Man', 'cases': '28,416', 'deaths': '87', 'region': '', 'total_recovered': '26,794', 'new_deaths': '0', 'new_cases': '0', 'serious_critical': '0', 'active_cases': '1,535', 'total_cases_per_1m_population': '331,015', 'deaths_per_1m_population': '1,013', 'total_tests': '150,753', 'tests_per_1m_population': '1,756,107'}, {'country_name': 'Benin', 'cases': '26,952', 'deaths': '163', 'region': '', 'total_recovered': '25,506', 'new_deaths': '0', 'new_cases': '0', 'serious_critical': '5', 'active_cases': '1,283', 'total_cases_per_1m_population': '2,123', 'deaths_per_1m_population': '13', 'total_tests': '604,310', 'tests_per_1m_population': '47,598'}, {'country_name': 'Somalia', 'cases': '26,485', 'deaths': '1,350', 'region': '', 'total_recovered': '13,182', 'new_deaths': '0', 'new_cases': '0', 'serious_critical': '0', 'active_cases': '11,953', 'total_cases_per_1m_population': '1,587', 'deaths_per_1m_population': '81', 'total_tests': '400,466', 'tests_per_1m_population': '23,990'}, {'country_name': 'Congo', 'cases': '24,079', 'deaths': '385', 'region': '', 'total_recovered': '20,178', 'new_deaths': '0', 'new_cases': '0', 'serious_critical': '0', 'active_cases': '3,516', 'total_cases_per_1m_population': '4,178', 'deaths_per_1m_population': '67', 'total_tests': '347,815', 'tests_per_1m_population': '60,352'}, {'country_name': 'Saint Lucia', 'cases': '23,239', 'deaths': '368', 'region': '', 'total_recovered': '22,736', 'new_deaths': '0', 'new_cases': '0', 'serious_critical': '1', 'active_cases': '135', 'total_cases_per_1m_population': '125,520', 'deaths_per_1m_population': '1,988', 'total_tests': '142,630', 'tests_per_1m_population': '770,382'}, {'country_name': 'Timor-Leste', 'cases': '22,860', 'deaths': '130', 'region': '', 'total_recovered': '22,714', 'new_deaths': '0', 'new_cases': '0', 'serious_critical': '0', 'active_cases': '16', 'total_cases_per_1m_population': '16,762', 'deaths_per_1m_population': '95', 'total_tests': '261,007', 'tests_per_1m_population': '191,388'}, {'country_name': 'Cayman Islands', 'cases': '21,755', 'deaths': '26', 'region': '', 'total_recovered': '8,553', 'new_deaths': '0', 'new_cases': '0', 'serious_critical': '1', 'active_cases': '13,176', 'total_cases_per_1m_population': '324,145', 'deaths_per_1m_population': '387', 'total_tests': '222,773', 'tests_per_1m_population': '3,319,273'}, {'country_name': 'Burkina Faso', 'cases': '20,853', 'deaths': '382', 'region': '', 'total_recovered': '20,439', 'new_deaths': '0', 'new_cases': '0', 'serious_critical': '0', 'active_cases': '32', 'total_cases_per_1m_population': '951', 'deaths_per_1m_population': '17', 'total_tests': '248,995', 'tests_per_1m_population': '11,350'}, {'country_name': 'Nicaragua', 'cases': '18,491', 'deaths': '225', 'region': '', 'total_recovered': '4,225', 'new_deaths': '0', 'new_cases': '0', 'serious_critical': '0', 'active_cases': '14,041', 'total_cases_per_1m_population': '2,733', 'deaths_per_1m_population': '33', 'total_tests': '0', 'tests_per_1m_population': '0'}, {'country_name': 'Gibraltar', 'cases': '17,706', 'deaths': '102', 'region': '', 'total_recovered': '16,579', 'new_deaths': '0', 'new_cases': '0', 'serious_critical': '0', 'active_cases': '1,025', 'total_cases_per_1m_population': '525,822', 'deaths_per_1m_population': '3,029', 'total_tests': '534,283', 'tests_per_1m_population': '15,866,807'}, {'country_name': 'South Sudan', 'cases': '17,422', 'deaths': '138', 'region': '', 'total_recovered': '13,514', 'new_deaths': '0', 'new_cases': '0', 'serious_critical': '1', 'active_cases': '3,770', 'total_cases_per_1m_population': '1,524', 'deaths_per_1m_population': '12', 'total_tests': '376,391', 'tests_per_1m_population': '32,928'}, {'country_name': 'Tajikistan', 'cases': '17,388', 'deaths': '124', 'region': '', 'total_recovered': '17,264', 'new_deaths': '0', 'new_cases': '0', 'serious_critical': '0', 'active_cases': '0', 'total_cases_per_1m_population': '1,752', 'deaths_per_1m_population': '12', 'total_tests': '0', 'tests_per_1m_population': '0'}, {'country_name': 'Liechtenstein', 'cases': '17,103', 'deaths': '85', 'region': '', 'total_recovered': '16,831', 'new_deaths': '1', 'new_cases': '12', 'serious_critical': '0', 'active_cases': '187', 'total_cases_per_1m_population': '446,251', 'deaths_per_1m_population': '2,218', 'total_tests': '102,174', 'tests_per_1m_population': '2,665,919'}, {'country_name': 'San Marino', 'cases': '16,140', 'deaths': '114', 'region': '', 'total_recovered': '15,662', 'new_deaths': '0', 'new_cases': '0', 'serious_critical': '4', 'active_cases': '364', 'total_cases_per_1m_population': '473,870', 'deaths_per_1m_population': '3,347', 'total_tests': '149,271', 'tests_per_1m_population': '4,382,590'}, {'country_name': 'Equatorial Guinea', 'cases': '15,907', 'deaths': '183', 'region': '', 'total_recovered': '15,698', 'new_deaths': '0', 'new_cases': '0', 'serious_critical': '5', 'active_cases': '26', 'total_cases_per_1m_population': '10,704', 'deaths_per_1m_population': '123', 'total_tests': '310,972', 'tests_per_1m_population': '209,251'}, {'country_name': 'Djibouti', 'cases': '15,611', 'deaths': '189', 'region': '', 'total_recovered': '15,411', 'new_deaths': '0', 'new_cases': '0', 'serious_critical': '0', 'active_cases': '11', 'total_cases_per_1m_population': '15,396', 'deaths_per_1m_population': '186', 'total_tests': '303,924', 'tests_per_1m_population': '299,748'}, {'country_name': 'CAR', 'cases': '14,649', 'deaths': '113', 'region': '', 'total_recovered': '6,859', 'new_deaths': '0', 'new_cases': '0', 'serious_critical': '2', 'active_cases': '7,677', 'total_cases_per_1m_population': '2,941', 'deaths_per_1m_population': '23', 'total_tests': '81,294', 'tests_per_1m_population': '16,320'}, {'country_name': 'Grenada', 'cases': '14,428', 'deaths': '220', 'region': '', 'total_recovered': '13,945', 'new_deaths': '0', 'new_cases': '0', 'serious_critical': '4', 'active_cases': '263', 'total_cases_per_1m_population': '127,159', 'deaths_per_1m_population': '1,939', 'total_tests': '148,567', 'tests_per_1m_population': '1,309,376'}, {'country_name': 'Bermuda', 'cases': '13,143', 'deaths': '131', 'region': '', 'total_recovered': '12,719', 'new_deaths': '0', 'new_cases': '0', 'serious_critical': '0', 'active_cases': '293', 'total_cases_per_1m_population': '212,453', 'deaths_per_1m_population': '2,118', 'total_tests': '866,313', 'tests_per_1m_population': '14,003,734'}, {'country_name': 'Solomon Islands', 'cases': '12,437', 'deaths': '139', 'region': '', 'total_recovered': '11,194', 'new_deaths': '0', 'new_cases': '0', 'serious_critical': '2', 'active_cases': '1,104', 'total_cases_per_1m_population': '17,339', 'deaths_per_1m_population': '194', 'total_tests': '5,117', 'tests_per_1m_population': '7,134'}, {'country_name': 'Dominica', 'cases': '12,011', 'deaths': '63', 'region': '', 'total_recovered': '11,926', 'new_deaths': '0', 'new_cases': '0', 'serious_critical': '0', 'active_cases': '22', 'total_cases_per_1m_population': '166,107', 'deaths_per_1m_population': '871', 'total_tests': '187,690', 'tests_per_1m_population': '2,595,666'}, {'country_name': 'Gambia', 'cases': '11,995', 'deaths': '365', 'region': '', 'total_recovered': '11,591', 'new_deaths': '0', 'new_cases': '0', 'serious_critical': '0', 'active_cases': '39', 'total_cases_per_1m_population': '4,724', 'deaths_per_1m_population': '144', 'total_tests': '155,686', 'tests_per_1m_population': '61,314'}, {'country_name': 'Greenland', 'cases': '11,971', 'deaths': '21', 'region': '', 'total_recovered': '2,761', 'new_deaths': '0', 'new_cases': '0', 'serious_critical': '4', 'active_cases': '9,189', 'total_cases_per_1m_population': '210,209', 'deaths_per_1m_population': '369', 'total_tests': '164,926', 'tests_per_1m_population': '2,896,081'}, {'country_name': 'Yemen', 'cases': '11,818', 'deaths': '2,148', 'region': '', 'total_recovered': '9,001', 'new_deaths': '0', 'new_cases': '0', 'serious_critical': '23', 'active_cases': '669', 'total_cases_per_1m_population': '381', 'deaths_per_1m_population': '69', 'total_tests': '265,253', 'tests_per_1m_population': '8,553'}, {'country_name': 'Monaco', 'cases': '11,604', 'deaths': '54', 'region': '', 'total_recovered': '11,362', 'new_deaths': '0', 'new_cases': '0', 'serious_critical': '4', 'active_cases': '188', 'total_cases_per_1m_population': '291,969', 'deaths_per_1m_population': '1,359', 'total_tests': '54,960', 'tests_per_1m_population': '1,382,850'}, {'country_name': 'Saint Martin', 'cases': '10,279', 'deaths': '63', 'region': '', 'total_recovered': '1,399', 'new_deaths': '0', 'new_cases': '0', 'serious_critical': '7', 'active_cases': '8,817', 'total_cases_per_1m_population': '257,903', 'deaths_per_1m_population': '1,581', 'total_tests': '112,382', 'tests_per_1m_population': '2,819,701'}, {'country_name': 'Sint Maarten', 'cases': '9,990', 'deaths': '86', 'region': '', 'total_recovered': '9,841', 'new_deaths': '0', 'new_cases': '0', 'serious_critical': '10', 'active_cases': '63', 'total_cases_per_1m_population': '228,317', 'deaths_per_1m_population': '1,965', 'total_tests': '62,056', 'tests_per_1m_population': '1,418,261'}, {'country_name': 'Eritrea', 'cases': '9,733', 'deaths': '103', 'region': '', 'total_recovered': '9,629', 'new_deaths': '0', 'new_cases': '0', 'serious_critical': '0', 'active_cases': '1', 'total_cases_per_1m_population': '2,678', 'deaths_per_1m_population': '28', 'total_tests': '23,693', 'tests_per_1m_population': '6,518'}, {'country_name': 'Caribbean Netherlands', 'cases': '9,592', 'deaths': '34', 'region': '', 'total_recovered': '9,392', 'new_deaths': '0', 'new_cases': '0', 'serious_critical': '0', 'active_cases': '166', 'total_cases_per_1m_population': '359,749', 'deaths_per_1m_population': '1,275', 'total_tests': '30,126', 'tests_per_1m_population': '1,129,880'}, {'country_name': 'Tonga', 'cases': '9,553', 'deaths': '11', 'region': '', 'total_recovered': '8,306', 'new_deaths': '0', 'new_cases': '0', 'serious_critical': '0', 'active_cases': '1,236', 'total_cases_per_1m_population': '88,571', 'deaths_per_1m_population': '102', 'total_tests': '408,213', 'tests_per_1m_population': '3,784,761'}, {'country_name': 'Niger', 'cases': '8,914', 'deaths': '309', 'region': '', 'total_recovered': '8,507', 'new_deaths': '0', 'new_cases': '0', 'serious_critical': '1', 'active_cases': '98', 'total_cases_per_1m_population': '346', 'deaths_per_1m_population': '12', 'total_tests': '249,026', 'tests_per_1m_population': '9,657'}, {'country_name': 'Guinea-Bissau', 'cases': '8,185', 'deaths': '171', 'region': '', 'total_recovered': '7,515', 'new_deaths': '0', 'new_cases': '0', 'serious_critical': '6', 'active_cases': '499', 'total_cases_per_1m_population': '3,989', 'deaths_per_1m_population': '83', 'total_tests': '132,611', 'tests_per_1m_population': '64,628'}, {'country_name': 'Comoros', 'cases': '8,100', 'deaths': '160', 'region': '', 'total_recovered': '7,933', 'new_deaths': '0', 'new_cases': '0', 'serious_critical': '0', 'active_cases': '7', 'total_cases_per_1m_population': '8,970', 'deaths_per_1m_population': '177', 'total_tests': '0', 'tests_per_1m_population': '0'}, {'country_name': 'Sierra Leone', 'cases': '7,681', 'deaths': '125', 'region': '', 'total_recovered': 'N/A', 'new_deaths': '0', 'new_cases': '0', 'serious_critical': '0', 'active_cases': 'N/A', 'total_cases_per_1m_population': '929', 'deaths_per_1m_population': '15', 'total_tests': '259,958', 'tests_per_1m_population': '31,435'}, {'country_name': 'Antigua and Barbuda', 'cases': '7,571', 'deaths': '135', 'region': '', 'total_recovered': '7,402', 'new_deaths': '0', 'new_cases': '0', 'serious_critical': '1', 'active_cases': '34', 'total_cases_per_1m_population': '76,172', 'deaths_per_1m_population': '1,358', 'total_tests': '18,901', 'tests_per_1m_population': '190,164'}, {'country_name': 'Liberia', 'cases': '7,432', 'deaths': '294', 'region': '', 'total_recovered': '5,747', 'new_deaths': '0', 'new_cases': '0', 'serious_critical': '2', 'active_cases': '1,391', 'total_cases_per_1m_population': '1,410', 'deaths_per_1m_population': '56', 'total_tests': '139,824', 'tests_per_1m_population': '26,521'}, {'country_name': 'Chad', 'cases': '7,396', 'deaths': '193', 'region': '', 'total_recovered': '4,874', 'new_deaths': '0', 'new_cases': '0', 'serious_critical': '0', 'active_cases': '2,329', 'total_cases_per_1m_population': '428', 'deaths_per_1m_population': '11', 'total_tests': '191,341', 'tests_per_1m_population': '11,075'}, {'country_name': 'Samoa', 'cases': '7,185', 'deaths': '13', 'region': '', 'total_recovered': '1,605', 'new_deaths': '0', 'new_cases': '0', 'serious_critical': '3', 'active_cases': '5,567', 'total_cases_per_1m_population': '35,783', 'deaths_per_1m_population': '65', 'total_tests': '53,893', 'tests_per_1m_population': '268,399'}, {'country_name': 'Vanuatu', 'cases': '6,793', 'deaths': '12', 'region': '', 'total_recovered': '5,991', 'new_deaths': '0', 'new_cases': '0', 'serious_critical': '5', 'active_cases': '790', 'total_cases_per_1m_population': '21,222', 'deaths_per_1m_population': '37', 'total_tests': '24,976', 'tests_per_1m_population': '78,027'}, {'country_name': 'St. Vincent Grenadines', 'cases': '6,779', 'deaths': '106', 'region': '', 'total_recovered': '6,641', 'new_deaths': '0', 'new_cases': '0', 'serious_critical': '0', 'active_cases': '32', 'total_cases_per_1m_population': '60,757', 'deaths_per_1m_population': '950', 'total_tests': '98,860', 'tests_per_1m_population': '886,033'}, {'country_name': 'British Virgin Islands', 'cases': '6,296', 'deaths': '62', 'region': '', 'total_recovered': 'N/A', 'new_deaths': '0', 'new_cases': '0', 'serious_critical': '1', 'active_cases': 'N/A', 'total_cases_per_1m_population': '205,792', 'deaths_per_1m_population': '2,027', 'total_tests': '102,862', 'tests_per_1m_population': '3,362,163'}, {'country_name': 'Sao Tome and Principe', 'cases': '5,953', 'deaths': '73', 'region': '', 'total_recovered': '5,875', 'new_deaths': '0', 'new_cases': '0', 'serious_critical': '0', 'active_cases': '5', 'total_cases_per_1m_population': '26,282', 'deaths_per_1m_population': '322', 'total_tests': '29,036', 'tests_per_1m_population': '128,193'}, {'country_name': 'Turks and Caicos', 'cases': '5,941', 'deaths': '36', 'region': '', 'total_recovered': '5,862', 'new_deaths': '0', 'new_cases': '0', 'serious_critical': '4', 'active_cases': '43', 'total_cases_per_1m_population': '149,791', 'deaths_per_1m_population': '908', 'total_tests': '478,593', 'tests_per_1m_population': '12,066,789'}, {'country_name': 'Saint Kitts and Nevis', 'cases': '5,561', 'deaths': '43', 'region': '', 'total_recovered': '5,517', 'new_deaths': '0', 'new_cases': '0', 'serious_critical': '0', 'active_cases': '1', 'total_cases_per_1m_population': '103,215', 'deaths_per_1m_population': '798', 'total_tests': '65,141', 'tests_per_1m_population': '1,209,046'}, {'country_name': 'Cook Islands', 'cases': '4,727', 'deaths': '0', 'region': '', 'total_recovered': '3,990', 'new_deaths': '0', 'new_cases': '0', 'serious_critical': '0', 'active_cases': '737', 'total_cases_per_1m_population': '268,686', 'deaths_per_1m_population': '0', 'total_tests': '15,740', 'tests_per_1m_population': '894,674'}, {'country_name': 'St. Barth', 'cases': '4,432', 'deaths': '6', 'region': '', 'total_recovered': 'N/A', 'new_deaths': '0', 'new_cases': '0', 'serious_critical': '0', 'active_cases': 'N/A', 'total_cases_per_1m_population': '446,279', 'deaths_per_1m_population': '604', 'total_tests': '78,646', 'tests_per_1m_population': '7,919,243'}, {'country_name': 'Palau', 'cases': '4,396', 'deaths': '6', 'region': '', 'total_recovered': '3,879', 'new_deaths': '0', 'new_cases': '0', 'serious_critical': '1', 'active_cases': '511', 'total_cases_per_1m_population': '240,877', 'deaths_per_1m_population': '329', 'total_tests': '45,500', 'tests_per_1m_population': '2,493,151'}, {'country_name': 'Kiribati', 'cases': '3,076', 'deaths': '13', 'region': '', 'total_recovered': '2,597', 'new_deaths': '0', 'new_cases': '0', 'serious_critical': '3', 'active_cases': '466', 'total_cases_per_1m_population': '25,058', 'deaths_per_1m_population': '106', 'total_tests': '0', 'tests_per_1m_population': '0'}, {'country_name': 'Anguilla', 'cases': '2,731', 'deaths': '9', 'region': '', 'total_recovered': '2,716', 'new_deaths': '0', 'new_cases': '0', 'serious_critical': '4', 'active_cases': '6', 'total_cases_per_1m_population': '179,141', 'deaths_per_1m_population': '590', 'total_tests': '51,382', 'tests_per_1m_population': '3,370,417'}, {'country_name': 'Saint Pierre Miquelon', 'cases': '2,641', 'deaths': '1', 'region': '', 'total_recovered': '2,449', 'new_deaths': '0', 'new_cases': '0', 'serious_critical': '1', 'active_cases': '191', 'total_cases_per_1m_population': '459,864', 'deaths_per_1m_population': '174', 'total_tests': '22,941', 'tests_per_1m_population': '3,994,602'}, {'country_name': 'Diamond Princess', 'cases': '712', 'deaths': '13', 'region': '', 'total_recovered': '699', 'new_deaths': '0', 'new_cases': '0', 'serious_critical': '0', 'active_cases': '0', 'total_cases_per_1m_population': '0', 'deaths_per_1m_population': '0', 'total_tests': '0', 'tests_per_1m_population': '0'}, {'country_name': 'Wallis and Futuna', 'cases': '454', 'deaths': '7', 'region': '', 'total_recovered': '438', 'new_deaths': '0', 'new_cases': '0', 'serious_critical': '0', 'active_cases': '9', 'total_cases_per_1m_population': '41,713', 'deaths_per_1m_population': '643', 'total_tests': '20,508', 'tests_per_1m_population': '1,884,234'}, {'country_name': 'Montserrat', 'cases': '183', 'deaths': '2', 'region': '', 'total_recovered': '174', 'new_deaths': '0', 'new_cases': '0', 'serious_critical': '0', 'active_cases': '7', 'total_cases_per_1m_population': '36,622', 'deaths_per_1m_population': '400', 'total_tests': '9,700', 'tests_per_1m_population': '1,941,165'}, {'country_name': 'Falkland Islands', 'cases': '128', 'deaths': '0', 'region': '', 'total_recovered': 'N/A', 'new_deaths': '0', 'new_cases': '0', 'serious_critical': '0', 'active_cases': 'N/A', 'total_cases_per_1m_population': '34,944', 'deaths_per_1m_population': '0', 'total_tests': '8,632', 'tests_per_1m_population': '2,356,538'}, {'country_name': 'Macao', 'cases': '82', 'deaths': '0', 'region': '', 'total_recovered': '82', 'new_deaths': '0', 'new_cases': '0', 'serious_critical': '0', 'active_cases': '0', 'total_cases_per_1m_population': '123', 'deaths_per_1m_population': '0', 'total_tests': '5,375', 'tests_per_1m_population': '8,079'}, {'country_name': 'Vatican City', 'cases': '29', 'deaths': '0', 'region': '', 'total_recovered': '29', 'new_deaths': '0', 'new_cases': '0', 'serious_critical': '0', 'active_cases': '0', 'total_cases_per_1m_population': '36,025', 'deaths_per_1m_population': '0', 'total_tests': '0', 'tests_per_1m_population': '0'}, {'country_name': 'Marshall Islands', 'cases': '15', 'deaths': '0', 'region': '', 'total_recovered': '7', 'new_deaths': '0', 'new_cases': '0', 'serious_critical': '0', 'active_cases': '8', 'total_cases_per_1m_population': '250', 'deaths_per_1m_population': '0', 'total_tests': '0', 'tests_per_1m_population': '0'}, {'country_name': 'Western Sahara', 'cases': '10', 'deaths': '1', 'region': '', 'total_recovered': '9', 'new_deaths': '0', 'new_cases': '0', 'serious_critical': '0', 'active_cases': '0', 'total_cases_per_1m_population': '16', 'deaths_per_1m_population': '2', 'total_tests': '0', 'tests_per_1m_population': '0'}, {'country_name': 'MS Zaandam', 'cases': '9', 'deaths': '2', 'region': '', 'total_recovered': '7', 'new_deaths': '0', 'new_cases': '0', 'serious_critical': '0', 'active_cases': '0', 'total_cases_per_1m_population': '0', 'deaths_per_1m_population': '0', 'total_tests': '0', 'tests_per_1m_population': '0'}, {'country_name': 'Niue', 'cases': '8', 'deaths': '0', 'region': '', 'total_recovered': '7', 'new_deaths': '0', 'new_cases': '0', 'serious_critical': '0', 'active_cases': '1', 'total_cases_per_1m_population': '4,860', 'deaths_per_1m_population': '0', 'total_tests': '0', 'tests_per_1m_population': '0'}, {'country_name': 'Nauru', 'cases': '3', 'deaths': '0', 'region': '', 'total_recovered': '3', 'new_deaths': '0', 'new_cases': '0', 'serious_critical': '0', 'active_cases': '0', 'total_cases_per_1m_population': '274', 'deaths_per_1m_population': '0', 'total_tests': '0', 'tests_per_1m_population': '0'}, {'country_name': 'Saint Helena', 'cases': '2', 'deaths': '0', 'region': '', 'total_recovered': '2', 'new_deaths': '0', 'new_cases': '0', 'serious_critical': '0', 'active_cases': '0', 'total_cases_per_1m_population': '327', 'deaths_per_1m_population': '0', 'total_tests': '0', 'tests_per_1m_population': '0'}, {'country_name': 'Micronesia', 'cases': '1', 'deaths': '0', 'region': '', 'total_recovered': '1', 'new_deaths': '0', 'new_cases': '0', 'serious_critical': '0', 'active_cases': '0', 'total_cases_per_1m_population': '9', 'deaths_per_1m_population': '0', 'total_tests': '0', 'tests_per_1m_population': '0'}]\n"
          ]
        }
      ]
    },
    {
      "cell_type": "code",
      "source": [
        "df=pd.DataFrame(response.json()['countries_stat'])"
      ],
      "metadata": {
        "id": "TN1Zf05AYLzj"
      },
      "execution_count": 3,
      "outputs": []
    },
    {
      "cell_type": "code",
      "source": [
        "df"
      ],
      "metadata": {
        "colab": {
          "base_uri": "https://localhost:8080/",
          "height": 487
        },
        "id": "GISNd8X3YSgr",
        "outputId": "8e02f25c-cea9-4d70-8005-f9ed55e2e48b"
      },
      "execution_count": 4,
      "outputs": [
        {
          "output_type": "execute_result",
          "data": {
            "text/plain": [
              "     country_name       cases     deaths region total_recovered new_deaths  \\\n",
              "0             USA  82,649,779  1,018,316             80,434,925          0   \n",
              "1           India  43,057,545    522,193             42,519,479          0   \n",
              "2          Brazil  30,345,654    662,663             29,364,400          0   \n",
              "3          France  28,244,977    145,020             25,852,832          0   \n",
              "4         Germany  24,109,433    134,624             21,243,000          0   \n",
              "..            ...         ...        ...    ...             ...        ...   \n",
              "223    MS Zaandam           9          2                      7          0   \n",
              "224          Niue           8          0                      7          0   \n",
              "225         Nauru           3          0                      3          0   \n",
              "226  Saint Helena           2          0                      2          0   \n",
              "227    Micronesia           1          0                      1          0   \n",
              "\n",
              "    new_cases serious_critical active_cases total_cases_per_1m_population  \\\n",
              "0           0            1,465    1,196,538                       247,080   \n",
              "1           0              698       15,873                        30,657   \n",
              "2           0            8,318      318,591                       140,954   \n",
              "3           0            1,677    2,247,125                       430,996   \n",
              "4           0            1,980    2,731,809                       286,106   \n",
              "..        ...              ...          ...                           ...   \n",
              "223         0                0            0                             0   \n",
              "224         0                0            1                         4,860   \n",
              "225         0                0            0                           274   \n",
              "226         0                0            0                           327   \n",
              "227         0                0            0                             9   \n",
              "\n",
              "    deaths_per_1m_population    total_tests tests_per_1m_population  \n",
              "0                      3,044  1,000,275,726               2,990,303  \n",
              "1                        372    834,717,702                 594,319  \n",
              "2                      3,078     63,776,166                 296,238  \n",
              "3                      2,213    266,484,045               4,066,333  \n",
              "4                      1,598    122,332,384               1,451,714  \n",
              "..                       ...            ...                     ...  \n",
              "223                        0              0                       0  \n",
              "224                        0              0                       0  \n",
              "225                        0              0                       0  \n",
              "226                        0              0                       0  \n",
              "227                        0              0                       0  \n",
              "\n",
              "[228 rows x 13 columns]"
            ],
            "text/html": [
              "\n",
              "  <div id=\"df-29d7c1e9-967a-4059-ba8c-b6d732ff6af2\">\n",
              "    <div class=\"colab-df-container\">\n",
              "      <div>\n",
              "<style scoped>\n",
              "    .dataframe tbody tr th:only-of-type {\n",
              "        vertical-align: middle;\n",
              "    }\n",
              "\n",
              "    .dataframe tbody tr th {\n",
              "        vertical-align: top;\n",
              "    }\n",
              "\n",
              "    .dataframe thead th {\n",
              "        text-align: right;\n",
              "    }\n",
              "</style>\n",
              "<table border=\"1\" class=\"dataframe\">\n",
              "  <thead>\n",
              "    <tr style=\"text-align: right;\">\n",
              "      <th></th>\n",
              "      <th>country_name</th>\n",
              "      <th>cases</th>\n",
              "      <th>deaths</th>\n",
              "      <th>region</th>\n",
              "      <th>total_recovered</th>\n",
              "      <th>new_deaths</th>\n",
              "      <th>new_cases</th>\n",
              "      <th>serious_critical</th>\n",
              "      <th>active_cases</th>\n",
              "      <th>total_cases_per_1m_population</th>\n",
              "      <th>deaths_per_1m_population</th>\n",
              "      <th>total_tests</th>\n",
              "      <th>tests_per_1m_population</th>\n",
              "    </tr>\n",
              "  </thead>\n",
              "  <tbody>\n",
              "    <tr>\n",
              "      <th>0</th>\n",
              "      <td>USA</td>\n",
              "      <td>82,649,779</td>\n",
              "      <td>1,018,316</td>\n",
              "      <td></td>\n",
              "      <td>80,434,925</td>\n",
              "      <td>0</td>\n",
              "      <td>0</td>\n",
              "      <td>1,465</td>\n",
              "      <td>1,196,538</td>\n",
              "      <td>247,080</td>\n",
              "      <td>3,044</td>\n",
              "      <td>1,000,275,726</td>\n",
              "      <td>2,990,303</td>\n",
              "    </tr>\n",
              "    <tr>\n",
              "      <th>1</th>\n",
              "      <td>India</td>\n",
              "      <td>43,057,545</td>\n",
              "      <td>522,193</td>\n",
              "      <td></td>\n",
              "      <td>42,519,479</td>\n",
              "      <td>0</td>\n",
              "      <td>0</td>\n",
              "      <td>698</td>\n",
              "      <td>15,873</td>\n",
              "      <td>30,657</td>\n",
              "      <td>372</td>\n",
              "      <td>834,717,702</td>\n",
              "      <td>594,319</td>\n",
              "    </tr>\n",
              "    <tr>\n",
              "      <th>2</th>\n",
              "      <td>Brazil</td>\n",
              "      <td>30,345,654</td>\n",
              "      <td>662,663</td>\n",
              "      <td></td>\n",
              "      <td>29,364,400</td>\n",
              "      <td>0</td>\n",
              "      <td>0</td>\n",
              "      <td>8,318</td>\n",
              "      <td>318,591</td>\n",
              "      <td>140,954</td>\n",
              "      <td>3,078</td>\n",
              "      <td>63,776,166</td>\n",
              "      <td>296,238</td>\n",
              "    </tr>\n",
              "    <tr>\n",
              "      <th>3</th>\n",
              "      <td>France</td>\n",
              "      <td>28,244,977</td>\n",
              "      <td>145,020</td>\n",
              "      <td></td>\n",
              "      <td>25,852,832</td>\n",
              "      <td>0</td>\n",
              "      <td>0</td>\n",
              "      <td>1,677</td>\n",
              "      <td>2,247,125</td>\n",
              "      <td>430,996</td>\n",
              "      <td>2,213</td>\n",
              "      <td>266,484,045</td>\n",
              "      <td>4,066,333</td>\n",
              "    </tr>\n",
              "    <tr>\n",
              "      <th>4</th>\n",
              "      <td>Germany</td>\n",
              "      <td>24,109,433</td>\n",
              "      <td>134,624</td>\n",
              "      <td></td>\n",
              "      <td>21,243,000</td>\n",
              "      <td>0</td>\n",
              "      <td>0</td>\n",
              "      <td>1,980</td>\n",
              "      <td>2,731,809</td>\n",
              "      <td>286,106</td>\n",
              "      <td>1,598</td>\n",
              "      <td>122,332,384</td>\n",
              "      <td>1,451,714</td>\n",
              "    </tr>\n",
              "    <tr>\n",
              "      <th>...</th>\n",
              "      <td>...</td>\n",
              "      <td>...</td>\n",
              "      <td>...</td>\n",
              "      <td>...</td>\n",
              "      <td>...</td>\n",
              "      <td>...</td>\n",
              "      <td>...</td>\n",
              "      <td>...</td>\n",
              "      <td>...</td>\n",
              "      <td>...</td>\n",
              "      <td>...</td>\n",
              "      <td>...</td>\n",
              "      <td>...</td>\n",
              "    </tr>\n",
              "    <tr>\n",
              "      <th>223</th>\n",
              "      <td>MS Zaandam</td>\n",
              "      <td>9</td>\n",
              "      <td>2</td>\n",
              "      <td></td>\n",
              "      <td>7</td>\n",
              "      <td>0</td>\n",
              "      <td>0</td>\n",
              "      <td>0</td>\n",
              "      <td>0</td>\n",
              "      <td>0</td>\n",
              "      <td>0</td>\n",
              "      <td>0</td>\n",
              "      <td>0</td>\n",
              "    </tr>\n",
              "    <tr>\n",
              "      <th>224</th>\n",
              "      <td>Niue</td>\n",
              "      <td>8</td>\n",
              "      <td>0</td>\n",
              "      <td></td>\n",
              "      <td>7</td>\n",
              "      <td>0</td>\n",
              "      <td>0</td>\n",
              "      <td>0</td>\n",
              "      <td>1</td>\n",
              "      <td>4,860</td>\n",
              "      <td>0</td>\n",
              "      <td>0</td>\n",
              "      <td>0</td>\n",
              "    </tr>\n",
              "    <tr>\n",
              "      <th>225</th>\n",
              "      <td>Nauru</td>\n",
              "      <td>3</td>\n",
              "      <td>0</td>\n",
              "      <td></td>\n",
              "      <td>3</td>\n",
              "      <td>0</td>\n",
              "      <td>0</td>\n",
              "      <td>0</td>\n",
              "      <td>0</td>\n",
              "      <td>274</td>\n",
              "      <td>0</td>\n",
              "      <td>0</td>\n",
              "      <td>0</td>\n",
              "    </tr>\n",
              "    <tr>\n",
              "      <th>226</th>\n",
              "      <td>Saint Helena</td>\n",
              "      <td>2</td>\n",
              "      <td>0</td>\n",
              "      <td></td>\n",
              "      <td>2</td>\n",
              "      <td>0</td>\n",
              "      <td>0</td>\n",
              "      <td>0</td>\n",
              "      <td>0</td>\n",
              "      <td>327</td>\n",
              "      <td>0</td>\n",
              "      <td>0</td>\n",
              "      <td>0</td>\n",
              "    </tr>\n",
              "    <tr>\n",
              "      <th>227</th>\n",
              "      <td>Micronesia</td>\n",
              "      <td>1</td>\n",
              "      <td>0</td>\n",
              "      <td></td>\n",
              "      <td>1</td>\n",
              "      <td>0</td>\n",
              "      <td>0</td>\n",
              "      <td>0</td>\n",
              "      <td>0</td>\n",
              "      <td>9</td>\n",
              "      <td>0</td>\n",
              "      <td>0</td>\n",
              "      <td>0</td>\n",
              "    </tr>\n",
              "  </tbody>\n",
              "</table>\n",
              "<p>228 rows × 13 columns</p>\n",
              "</div>\n",
              "      <button class=\"colab-df-convert\" onclick=\"convertToInteractive('df-29d7c1e9-967a-4059-ba8c-b6d732ff6af2')\"\n",
              "              title=\"Convert this dataframe to an interactive table.\"\n",
              "              style=\"display:none;\">\n",
              "        \n",
              "  <svg xmlns=\"http://www.w3.org/2000/svg\" height=\"24px\"viewBox=\"0 0 24 24\"\n",
              "       width=\"24px\">\n",
              "    <path d=\"M0 0h24v24H0V0z\" fill=\"none\"/>\n",
              "    <path d=\"M18.56 5.44l.94 2.06.94-2.06 2.06-.94-2.06-.94-.94-2.06-.94 2.06-2.06.94zm-11 1L8.5 8.5l.94-2.06 2.06-.94-2.06-.94L8.5 2.5l-.94 2.06-2.06.94zm10 10l.94 2.06.94-2.06 2.06-.94-2.06-.94-.94-2.06-.94 2.06-2.06.94z\"/><path d=\"M17.41 7.96l-1.37-1.37c-.4-.4-.92-.59-1.43-.59-.52 0-1.04.2-1.43.59L10.3 9.45l-7.72 7.72c-.78.78-.78 2.05 0 2.83L4 21.41c.39.39.9.59 1.41.59.51 0 1.02-.2 1.41-.59l7.78-7.78 2.81-2.81c.8-.78.8-2.07 0-2.86zM5.41 20L4 18.59l7.72-7.72 1.47 1.35L5.41 20z\"/>\n",
              "  </svg>\n",
              "      </button>\n",
              "      \n",
              "  <style>\n",
              "    .colab-df-container {\n",
              "      display:flex;\n",
              "      flex-wrap:wrap;\n",
              "      gap: 12px;\n",
              "    }\n",
              "\n",
              "    .colab-df-convert {\n",
              "      background-color: #E8F0FE;\n",
              "      border: none;\n",
              "      border-radius: 50%;\n",
              "      cursor: pointer;\n",
              "      display: none;\n",
              "      fill: #1967D2;\n",
              "      height: 32px;\n",
              "      padding: 0 0 0 0;\n",
              "      width: 32px;\n",
              "    }\n",
              "\n",
              "    .colab-df-convert:hover {\n",
              "      background-color: #E2EBFA;\n",
              "      box-shadow: 0px 1px 2px rgba(60, 64, 67, 0.3), 0px 1px 3px 1px rgba(60, 64, 67, 0.15);\n",
              "      fill: #174EA6;\n",
              "    }\n",
              "\n",
              "    [theme=dark] .colab-df-convert {\n",
              "      background-color: #3B4455;\n",
              "      fill: #D2E3FC;\n",
              "    }\n",
              "\n",
              "    [theme=dark] .colab-df-convert:hover {\n",
              "      background-color: #434B5C;\n",
              "      box-shadow: 0px 1px 3px 1px rgba(0, 0, 0, 0.15);\n",
              "      filter: drop-shadow(0px 1px 2px rgba(0, 0, 0, 0.3));\n",
              "      fill: #FFFFFF;\n",
              "    }\n",
              "  </style>\n",
              "\n",
              "      <script>\n",
              "        const buttonEl =\n",
              "          document.querySelector('#df-29d7c1e9-967a-4059-ba8c-b6d732ff6af2 button.colab-df-convert');\n",
              "        buttonEl.style.display =\n",
              "          google.colab.kernel.accessAllowed ? 'block' : 'none';\n",
              "\n",
              "        async function convertToInteractive(key) {\n",
              "          const element = document.querySelector('#df-29d7c1e9-967a-4059-ba8c-b6d732ff6af2');\n",
              "          const dataTable =\n",
              "            await google.colab.kernel.invokeFunction('convertToInteractive',\n",
              "                                                     [key], {});\n",
              "          if (!dataTable) return;\n",
              "\n",
              "          const docLinkHtml = 'Like what you see? Visit the ' +\n",
              "            '<a target=\"_blank\" href=https://colab.research.google.com/notebooks/data_table.ipynb>data table notebook</a>'\n",
              "            + ' to learn more about interactive tables.';\n",
              "          element.innerHTML = '';\n",
              "          dataTable['output_type'] = 'display_data';\n",
              "          await google.colab.output.renderOutput(dataTable, element);\n",
              "          const docLink = document.createElement('div');\n",
              "          docLink.innerHTML = docLinkHtml;\n",
              "          element.appendChild(docLink);\n",
              "        }\n",
              "      </script>\n",
              "    </div>\n",
              "  </div>\n",
              "  "
            ]
          },
          "metadata": {},
          "execution_count": 4
        }
      ]
    },
    {
      "cell_type": "markdown",
      "source": [
        "###KPIS\n",
        "\n",
        "- KPIs are specific metrics that provide valuable insights into the performance or progress of a particular aspect of a project or business. In the context of COVID data, KPIs help us track and analyze key metrics related to cases, deaths, recoveries, and other relevant factors. Here are some examples of KPIs\n",
        "\n",
        "- Total Cases:\n",
        "\n",
        "This KPI represents the cumulative number of confirmed COVID cases in each country.\n",
        "It provides an overall picture of the spread and impact of the virus in different regions.\n",
        "\n",
        "- Total Deaths:\n",
        "\n",
        "This KPI represents the total number of deaths due to COVID in each country.\n",
        "It helps assess the severity and fatality rate of the virus in different populations.\n",
        "\n",
        "- Total Recovered:\n",
        "\n",
        "This KPI represents the total number of individuals who have recovered from COVID in each country.\n",
        "It indicates the effectiveness of medical interventions and the resilience of the healthcare system.\n",
        "\n",
        "- Active Cases:\n",
        "\n",
        "This KPI represents the current active cases of COVID in each country.\n",
        "It helps understand the current burden on healthcare resources and the potential for further spread.\n",
        "\n",
        "- New Cases:\n",
        "\n",
        "This KPI represents the daily or periodic increase in COVID cases in each country.\n",
        "It provides insights into the rate of infection and the effectiveness of containment measures.\n",
        "\n",
        "- New Deaths:\n",
        "\n",
        "This KPI represents the daily or periodic increase in COVID-related deaths in each country.\n",
        "It helps monitor the impact of the virus on mortality rates and the effectiveness of healthcare systems.\n",
        "\n",
        "- Serious/Critical Cases:\n",
        "\n",
        "This KPI represents the number of COVID cases classified as serious or critical in each country.\n",
        "It indicates the strain on healthcare facilities and the severity of the disease in specific individuals.\n",
        "\n",
        "- Tests per 1 Million Population:\n",
        "\n",
        "This KPI represents the number of COVID tests conducted per 1 million population in each country.\n",
        "It provides insights into the testing capacity and strategy of different regions."
      ],
      "metadata": {
        "id": "sNLjMAePwmv3"
      }
    },
    {
      "cell_type": "markdown",
      "source": [
        "### Why do EDA\n",
        "\n",
        "- Model building\n",
        "- Analysis and reporting\n",
        "- Validate assumptions\n",
        "- Handling missing values\n",
        "- feature engineering\n",
        "- detecting outliers"
      ],
      "metadata": {
        "id": "YON2qTmHZo7g"
      }
    },
    {
      "cell_type": "code",
      "source": [
        "df.head()"
      ],
      "metadata": {
        "colab": {
          "base_uri": "https://localhost:8080/",
          "height": 270
        },
        "id": "VuDMkNYdZrar",
        "outputId": "1f213dad-1483-4899-99af-0e2bfbc5b390"
      },
      "execution_count": 5,
      "outputs": [
        {
          "output_type": "execute_result",
          "data": {
            "text/plain": [
              "  country_name       cases     deaths region total_recovered new_deaths  \\\n",
              "0          USA  82,649,779  1,018,316             80,434,925          0   \n",
              "1        India  43,057,545    522,193             42,519,479          0   \n",
              "2       Brazil  30,345,654    662,663             29,364,400          0   \n",
              "3       France  28,244,977    145,020             25,852,832          0   \n",
              "4      Germany  24,109,433    134,624             21,243,000          0   \n",
              "\n",
              "  new_cases serious_critical active_cases total_cases_per_1m_population  \\\n",
              "0         0            1,465    1,196,538                       247,080   \n",
              "1         0              698       15,873                        30,657   \n",
              "2         0            8,318      318,591                       140,954   \n",
              "3         0            1,677    2,247,125                       430,996   \n",
              "4         0            1,980    2,731,809                       286,106   \n",
              "\n",
              "  deaths_per_1m_population    total_tests tests_per_1m_population  \n",
              "0                    3,044  1,000,275,726               2,990,303  \n",
              "1                      372    834,717,702                 594,319  \n",
              "2                    3,078     63,776,166                 296,238  \n",
              "3                    2,213    266,484,045               4,066,333  \n",
              "4                    1,598    122,332,384               1,451,714  "
            ],
            "text/html": [
              "\n",
              "  <div id=\"df-81458617-2fd9-4436-91f5-63af9ce518c0\">\n",
              "    <div class=\"colab-df-container\">\n",
              "      <div>\n",
              "<style scoped>\n",
              "    .dataframe tbody tr th:only-of-type {\n",
              "        vertical-align: middle;\n",
              "    }\n",
              "\n",
              "    .dataframe tbody tr th {\n",
              "        vertical-align: top;\n",
              "    }\n",
              "\n",
              "    .dataframe thead th {\n",
              "        text-align: right;\n",
              "    }\n",
              "</style>\n",
              "<table border=\"1\" class=\"dataframe\">\n",
              "  <thead>\n",
              "    <tr style=\"text-align: right;\">\n",
              "      <th></th>\n",
              "      <th>country_name</th>\n",
              "      <th>cases</th>\n",
              "      <th>deaths</th>\n",
              "      <th>region</th>\n",
              "      <th>total_recovered</th>\n",
              "      <th>new_deaths</th>\n",
              "      <th>new_cases</th>\n",
              "      <th>serious_critical</th>\n",
              "      <th>active_cases</th>\n",
              "      <th>total_cases_per_1m_population</th>\n",
              "      <th>deaths_per_1m_population</th>\n",
              "      <th>total_tests</th>\n",
              "      <th>tests_per_1m_population</th>\n",
              "    </tr>\n",
              "  </thead>\n",
              "  <tbody>\n",
              "    <tr>\n",
              "      <th>0</th>\n",
              "      <td>USA</td>\n",
              "      <td>82,649,779</td>\n",
              "      <td>1,018,316</td>\n",
              "      <td></td>\n",
              "      <td>80,434,925</td>\n",
              "      <td>0</td>\n",
              "      <td>0</td>\n",
              "      <td>1,465</td>\n",
              "      <td>1,196,538</td>\n",
              "      <td>247,080</td>\n",
              "      <td>3,044</td>\n",
              "      <td>1,000,275,726</td>\n",
              "      <td>2,990,303</td>\n",
              "    </tr>\n",
              "    <tr>\n",
              "      <th>1</th>\n",
              "      <td>India</td>\n",
              "      <td>43,057,545</td>\n",
              "      <td>522,193</td>\n",
              "      <td></td>\n",
              "      <td>42,519,479</td>\n",
              "      <td>0</td>\n",
              "      <td>0</td>\n",
              "      <td>698</td>\n",
              "      <td>15,873</td>\n",
              "      <td>30,657</td>\n",
              "      <td>372</td>\n",
              "      <td>834,717,702</td>\n",
              "      <td>594,319</td>\n",
              "    </tr>\n",
              "    <tr>\n",
              "      <th>2</th>\n",
              "      <td>Brazil</td>\n",
              "      <td>30,345,654</td>\n",
              "      <td>662,663</td>\n",
              "      <td></td>\n",
              "      <td>29,364,400</td>\n",
              "      <td>0</td>\n",
              "      <td>0</td>\n",
              "      <td>8,318</td>\n",
              "      <td>318,591</td>\n",
              "      <td>140,954</td>\n",
              "      <td>3,078</td>\n",
              "      <td>63,776,166</td>\n",
              "      <td>296,238</td>\n",
              "    </tr>\n",
              "    <tr>\n",
              "      <th>3</th>\n",
              "      <td>France</td>\n",
              "      <td>28,244,977</td>\n",
              "      <td>145,020</td>\n",
              "      <td></td>\n",
              "      <td>25,852,832</td>\n",
              "      <td>0</td>\n",
              "      <td>0</td>\n",
              "      <td>1,677</td>\n",
              "      <td>2,247,125</td>\n",
              "      <td>430,996</td>\n",
              "      <td>2,213</td>\n",
              "      <td>266,484,045</td>\n",
              "      <td>4,066,333</td>\n",
              "    </tr>\n",
              "    <tr>\n",
              "      <th>4</th>\n",
              "      <td>Germany</td>\n",
              "      <td>24,109,433</td>\n",
              "      <td>134,624</td>\n",
              "      <td></td>\n",
              "      <td>21,243,000</td>\n",
              "      <td>0</td>\n",
              "      <td>0</td>\n",
              "      <td>1,980</td>\n",
              "      <td>2,731,809</td>\n",
              "      <td>286,106</td>\n",
              "      <td>1,598</td>\n",
              "      <td>122,332,384</td>\n",
              "      <td>1,451,714</td>\n",
              "    </tr>\n",
              "  </tbody>\n",
              "</table>\n",
              "</div>\n",
              "      <button class=\"colab-df-convert\" onclick=\"convertToInteractive('df-81458617-2fd9-4436-91f5-63af9ce518c0')\"\n",
              "              title=\"Convert this dataframe to an interactive table.\"\n",
              "              style=\"display:none;\">\n",
              "        \n",
              "  <svg xmlns=\"http://www.w3.org/2000/svg\" height=\"24px\"viewBox=\"0 0 24 24\"\n",
              "       width=\"24px\">\n",
              "    <path d=\"M0 0h24v24H0V0z\" fill=\"none\"/>\n",
              "    <path d=\"M18.56 5.44l.94 2.06.94-2.06 2.06-.94-2.06-.94-.94-2.06-.94 2.06-2.06.94zm-11 1L8.5 8.5l.94-2.06 2.06-.94-2.06-.94L8.5 2.5l-.94 2.06-2.06.94zm10 10l.94 2.06.94-2.06 2.06-.94-2.06-.94-.94-2.06-.94 2.06-2.06.94z\"/><path d=\"M17.41 7.96l-1.37-1.37c-.4-.4-.92-.59-1.43-.59-.52 0-1.04.2-1.43.59L10.3 9.45l-7.72 7.72c-.78.78-.78 2.05 0 2.83L4 21.41c.39.39.9.59 1.41.59.51 0 1.02-.2 1.41-.59l7.78-7.78 2.81-2.81c.8-.78.8-2.07 0-2.86zM5.41 20L4 18.59l7.72-7.72 1.47 1.35L5.41 20z\"/>\n",
              "  </svg>\n",
              "      </button>\n",
              "      \n",
              "  <style>\n",
              "    .colab-df-container {\n",
              "      display:flex;\n",
              "      flex-wrap:wrap;\n",
              "      gap: 12px;\n",
              "    }\n",
              "\n",
              "    .colab-df-convert {\n",
              "      background-color: #E8F0FE;\n",
              "      border: none;\n",
              "      border-radius: 50%;\n",
              "      cursor: pointer;\n",
              "      display: none;\n",
              "      fill: #1967D2;\n",
              "      height: 32px;\n",
              "      padding: 0 0 0 0;\n",
              "      width: 32px;\n",
              "    }\n",
              "\n",
              "    .colab-df-convert:hover {\n",
              "      background-color: #E2EBFA;\n",
              "      box-shadow: 0px 1px 2px rgba(60, 64, 67, 0.3), 0px 1px 3px 1px rgba(60, 64, 67, 0.15);\n",
              "      fill: #174EA6;\n",
              "    }\n",
              "\n",
              "    [theme=dark] .colab-df-convert {\n",
              "      background-color: #3B4455;\n",
              "      fill: #D2E3FC;\n",
              "    }\n",
              "\n",
              "    [theme=dark] .colab-df-convert:hover {\n",
              "      background-color: #434B5C;\n",
              "      box-shadow: 0px 1px 3px 1px rgba(0, 0, 0, 0.15);\n",
              "      filter: drop-shadow(0px 1px 2px rgba(0, 0, 0, 0.3));\n",
              "      fill: #FFFFFF;\n",
              "    }\n",
              "  </style>\n",
              "\n",
              "      <script>\n",
              "        const buttonEl =\n",
              "          document.querySelector('#df-81458617-2fd9-4436-91f5-63af9ce518c0 button.colab-df-convert');\n",
              "        buttonEl.style.display =\n",
              "          google.colab.kernel.accessAllowed ? 'block' : 'none';\n",
              "\n",
              "        async function convertToInteractive(key) {\n",
              "          const element = document.querySelector('#df-81458617-2fd9-4436-91f5-63af9ce518c0');\n",
              "          const dataTable =\n",
              "            await google.colab.kernel.invokeFunction('convertToInteractive',\n",
              "                                                     [key], {});\n",
              "          if (!dataTable) return;\n",
              "\n",
              "          const docLinkHtml = 'Like what you see? Visit the ' +\n",
              "            '<a target=\"_blank\" href=https://colab.research.google.com/notebooks/data_table.ipynb>data table notebook</a>'\n",
              "            + ' to learn more about interactive tables.';\n",
              "          element.innerHTML = '';\n",
              "          dataTable['output_type'] = 'display_data';\n",
              "          await google.colab.output.renderOutput(dataTable, element);\n",
              "          const docLink = document.createElement('div');\n",
              "          docLink.innerHTML = docLinkHtml;\n",
              "          element.appendChild(docLink);\n",
              "        }\n",
              "      </script>\n",
              "    </div>\n",
              "  </div>\n",
              "  "
            ]
          },
          "metadata": {},
          "execution_count": 5
        }
      ]
    },
    {
      "cell_type": "code",
      "source": [
        "df.shape"
      ],
      "metadata": {
        "colab": {
          "base_uri": "https://localhost:8080/"
        },
        "id": "b9mktkAzZw2s",
        "outputId": "ed0a037c-936a-4769-ca04-aefc22ba1d58"
      },
      "execution_count": 6,
      "outputs": [
        {
          "output_type": "execute_result",
          "data": {
            "text/plain": [
              "(228, 13)"
            ]
          },
          "metadata": {},
          "execution_count": 6
        }
      ]
    },
    {
      "cell_type": "code",
      "source": [
        "df.drop(columns='region',inplace=True)"
      ],
      "metadata": {
        "id": "iZ-tX3QjbMVL"
      },
      "execution_count": 7,
      "outputs": []
    },
    {
      "cell_type": "code",
      "source": [
        "df.info()"
      ],
      "metadata": {
        "colab": {
          "base_uri": "https://localhost:8080/"
        },
        "id": "f8cnleHlZzLF",
        "outputId": "3cec8925-63c6-487d-85dd-39fb8f3ed469"
      },
      "execution_count": 8,
      "outputs": [
        {
          "output_type": "stream",
          "name": "stdout",
          "text": [
            "<class 'pandas.core.frame.DataFrame'>\n",
            "RangeIndex: 228 entries, 0 to 227\n",
            "Data columns (total 12 columns):\n",
            " #   Column                         Non-Null Count  Dtype \n",
            "---  ------                         --------------  ----- \n",
            " 0   country_name                   228 non-null    object\n",
            " 1   cases                          228 non-null    object\n",
            " 2   deaths                         228 non-null    object\n",
            " 3   total_recovered                228 non-null    object\n",
            " 4   new_deaths                     228 non-null    object\n",
            " 5   new_cases                      228 non-null    object\n",
            " 6   serious_critical               228 non-null    object\n",
            " 7   active_cases                   228 non-null    object\n",
            " 8   total_cases_per_1m_population  228 non-null    object\n",
            " 9   deaths_per_1m_population       228 non-null    object\n",
            " 10  total_tests                    228 non-null    object\n",
            " 11  tests_per_1m_population        228 non-null    object\n",
            "dtypes: object(12)\n",
            "memory usage: 21.5+ KB\n"
          ]
        }
      ]
    },
    {
      "cell_type": "code",
      "source": [
        "for i in df.iloc[:,1:].columns:\n",
        "  df[i]=pd.to_numeric(df[i].str.replace(',',''),errors='coerce')"
      ],
      "metadata": {
        "id": "c7XwPpSOZ6k-"
      },
      "execution_count": 9,
      "outputs": []
    },
    {
      "cell_type": "code",
      "source": [
        "df.info()"
      ],
      "metadata": {
        "colab": {
          "base_uri": "https://localhost:8080/"
        },
        "id": "ByYGAu4dbv-8",
        "outputId": "f0135ed9-d4d6-4deb-c2b3-0a88314f6c02"
      },
      "execution_count": 10,
      "outputs": [
        {
          "output_type": "stream",
          "name": "stdout",
          "text": [
            "<class 'pandas.core.frame.DataFrame'>\n",
            "RangeIndex: 228 entries, 0 to 227\n",
            "Data columns (total 12 columns):\n",
            " #   Column                         Non-Null Count  Dtype  \n",
            "---  ------                         --------------  -----  \n",
            " 0   country_name                   228 non-null    object \n",
            " 1   cases                          228 non-null    int64  \n",
            " 2   deaths                         228 non-null    int64  \n",
            " 3   total_recovered                213 non-null    float64\n",
            " 4   new_deaths                     228 non-null    int64  \n",
            " 5   new_cases                      228 non-null    int64  \n",
            " 6   serious_critical               228 non-null    int64  \n",
            " 7   active_cases                   213 non-null    float64\n",
            " 8   total_cases_per_1m_population  228 non-null    int64  \n",
            " 9   deaths_per_1m_population       228 non-null    int64  \n",
            " 10  total_tests                    228 non-null    int64  \n",
            " 11  tests_per_1m_population        228 non-null    int64  \n",
            "dtypes: float64(2), int64(9), object(1)\n",
            "memory usage: 21.5+ KB\n"
          ]
        }
      ]
    },
    {
      "cell_type": "markdown",
      "source": [
        "### Column Types\n",
        "\n",
        "- **Numerical** - cases,deaths,total_recovered,_new_deaths......\n",
        "- **Categorical** - country_name\n"
      ],
      "metadata": {
        "id": "s7F05ItsdH6_"
      }
    },
    {
      "cell_type": "markdown",
      "source": [
        "### Univariate Analysis\n",
        "\n",
        "Univariate analysis focuses on analyzing each feature in the dataset independently.\n",
        "\n",
        "- **Distribution analysis**: The distribution of each feature is examined to identify its shape, central tendency, and dispersion.\n",
        "\n",
        "- **Identifying potential issues**: Univariate analysis helps in identifying potential problems with the data such as outliers, skewness, and missing values"
      ],
      "metadata": {
        "id": "jln7KtC3dtGE"
      }
    },
    {
      "cell_type": "markdown",
      "source": [
        "#### The shape of a data distribution refers to its overall pattern or form as it is represented on a graph. Some common shapes of data distributions include:\n",
        "\n",
        "- **Normal Distribution**: A symmetrical and bell-shaped distribution where the mean, median, and mode are equal and the majority of the data falls in the middle of the distribution with gradually decreasing frequencies towards the tails.\n",
        "\n",
        "- **Skewed Distribution**: A distribution that is not symmetrical, with one tail being longer than the other. It can be either positively skewed (right-skewed) or negatively skewed (left-skewed).\n",
        "\n",
        "- **Bimodal Distribution**: A distribution with two peaks or modes.\n",
        "\n",
        "- **Uniform Distribution**: A distribution where all values have an equal chance of occurring.\n",
        "\n",
        "The shape of the data distribution is important in identifying the presence of outliers, skewness, and the type of statistical tests and models that can be used for further analysis."
      ],
      "metadata": {
        "id": "LE5nj0Ijd1Kd"
      }
    },
    {
      "cell_type": "markdown",
      "source": [
        "#### **Dispersion** is a statistical term used to describe the spread or variability of a set of data. It measures how far the values in a data set are spread out from the central tendency (mean, median, or mode) of the data.\n",
        "\n",
        "There are several measures of dispersion, including:\n",
        "\n",
        "- **Range**: The difference between the largest and smallest values in a data set.\n",
        "\n",
        "- **Variance**: The average of the squared deviations of each value from the mean of the data set.\n",
        "\n",
        "- **Standard Deviation**: The square root of the variance. It provides a measure of the spread of the data that is in the same units as the original data.\n",
        "\n",
        "- **Interquartile range (IQR)**: The range between the first quartile (25th percentile) and the third quartile (75th percentile) of the data.\n",
        "\n",
        "Dispersion helps to describe the spread of the data, which can help to identify the presence of outliers and skewness in the data."
      ],
      "metadata": {
        "id": "pzCod2nWd7lk"
      }
    },
    {
      "cell_type": "markdown",
      "source": [
        "### Steps of doing Univariate Analysis on Numerical columns\n",
        "\n",
        "- **Descriptive Statistics**: Compute basic summary statistics for the column, such as mean, median, mode, standard deviation, range, and quartiles. These statistics give a general understanding of the distribution of the data and can help identify skewness or outliers.\n",
        "\n",
        "- **Visualizations**: Create visualizations to explore the distribution of the data. Some common visualizations for numerical data include histograms, box plots, and density plots. These visualizations provide a visual representation of the distribution of the data and can help identify skewness an outliers.\n",
        "\n",
        "- **Identifying Outliers**: Identify and examine any outliers in the data. Outliers can be identified using visualizations. It is important to determine whether the outliers are due to measurement errors, data entry errors, or legitimate differences in the data, and to decide whether to include or exclude them from the analysis.\n",
        "\n",
        "- **Skewness**: Check for skewness in the data and consider transforming the data or using robust statistical methods that are less sensitive to skewness, if necessary.\n",
        "\n",
        "- **Conclusion**: Summarize the findings of the EDA and make decisions about how to proceed with further analysis."
      ],
      "metadata": {
        "id": "G6ClX0abeAlE"
      }
    },
    {
      "cell_type": "code",
      "source": [
        "# Set the float format option to display numbers without scientific notation\n",
        "pd.set_option('display.float_format', lambda x: '{:.2f}'.format(x))"
      ],
      "metadata": {
        "id": "e0N71WA2fNLZ"
      },
      "execution_count": 11,
      "outputs": []
    },
    {
      "cell_type": "code",
      "source": [
        "df['cases'].describe()"
      ],
      "metadata": {
        "colab": {
          "base_uri": "https://localhost:8080/"
        },
        "id": "MktmoEa0earP",
        "outputId": "97bbf1d2-2a7c-4fbd-b48e-f0c244b304cf"
      },
      "execution_count": 12,
      "outputs": [
        {
          "output_type": "execute_result",
          "data": {
            "text/plain": [
              "count        228.00\n",
              "mean     2233635.81\n",
              "std      7399087.13\n",
              "min            1.00\n",
              "25%        22583.75\n",
              "50%       163079.00\n",
              "75%      1065043.50\n",
              "max     82649779.00\n",
              "Name: cases, dtype: float64"
            ]
          },
          "metadata": {},
          "execution_count": 12
        }
      ]
    },
    {
      "cell_type": "code",
      "source": [
        "sns.kdeplot(df['cases'])"
      ],
      "metadata": {
        "colab": {
          "base_uri": "https://localhost:8080/",
          "height": 483
        },
        "id": "YxKgjBYmdUZ6",
        "outputId": "988b141d-7609-4a09-994a-a31f490771b8"
      },
      "execution_count": 13,
      "outputs": [
        {
          "output_type": "execute_result",
          "data": {
            "text/plain": [
              "<Axes: xlabel='cases', ylabel='Density'>"
            ]
          },
          "metadata": {},
          "execution_count": 13
        },
        {
          "output_type": "display_data",
          "data": {
            "text/plain": [
              "<Figure size 640x480 with 1 Axes>"
            ],
            "image/png": "[encoded data removed]"
          },
          "metadata": {}
        }
      ]
    },
    {
      "cell_type": "code",
      "source": [
        "sns.boxplot(df['cases'])"
      ],
      "metadata": {
        "colab": {
          "base_uri": "https://localhost:8080/",
          "height": 463
        },
        "id": "KREl19KIfpmD",
        "outputId": "c458244d-7397-40b8-ad03-90d1d4d9f5eb"
      },
      "execution_count": 14,
      "outputs": [
        {
          "output_type": "execute_result",
          "data": {
            "text/plain": [
              "<Axes: >"
            ]
          },
          "metadata": {},
          "execution_count": 14
        },
        {
          "output_type": "display_data",
          "data": {
            "text/plain": [
              "<Figure size 640x480 with 1 Axes>"
            ],
            "image/png": "[encoded data removed]"
          },
          "metadata": {}
        }
      ]
    },
    {
      "cell_type": "markdown",
      "source": [
        "##Conclusion\n",
        "\n",
        "**Skewness:** The skewness of the data can be estimated by looking at the difference between the mean and the median. In this case, the mean (2233635.81) is higher than the median (163079.00), which suggests a right-skewed distribution. However, for a more accurate assessment of skewness, we can use the skew() function in pandas.The kde plot also suuggest the data is right skewed,which suggests some countries were recording high cases compared to others.\n",
        "\n",
        "\n",
        "\n",
        "**Outliers:** The presence of outliers can be identified by examining the minimum and maximum values. In this case, the maximum  82649779.00 significantly higher than the 75th percentile value of 1065043.50, suggesting the possibility of outliers in the upper range.  further investigating outliers using box plots or other visualization techniques.\n",
        "\n",
        "\n"
      ],
      "metadata": {
        "id": "RH6ZBQBsgApf"
      }
    },
    {
      "cell_type": "code",
      "source": [
        "df['deaths'].describe()"
      ],
      "metadata": {
        "colab": {
          "base_uri": "https://localhost:8080/"
        },
        "id": "HMo-4ZEjg3Wx",
        "outputId": "9f37c4a7-7322-493d-d1c3-fc0dc6f38309"
      },
      "execution_count": 15,
      "outputs": [
        {
          "output_type": "execute_result",
          "data": {
            "text/plain": [
              "count       228.00\n",
              "mean      27379.43\n",
              "std       97055.87\n",
              "min           0.00\n",
              "25%         180.00\n",
              "50%        1913.50\n",
              "75%       12378.25\n",
              "max     1018316.00\n",
              "Name: deaths, dtype: float64"
            ]
          },
          "metadata": {},
          "execution_count": 15
        }
      ]
    },
    {
      "cell_type": "code",
      "source": [
        "sns.kdeplot(df['deaths'])"
      ],
      "metadata": {
        "colab": {
          "base_uri": "https://localhost:8080/",
          "height": 483
        },
        "id": "1D3oPDQahB9f",
        "outputId": "fe05846c-028b-43f7-f102-391c443e6712"
      },
      "execution_count": 16,
      "outputs": [
        {
          "output_type": "execute_result",
          "data": {
            "text/plain": [
              "<Axes: xlabel='deaths', ylabel='Density'>"
            ]
          },
          "metadata": {},
          "execution_count": 16
        },
        {
          "output_type": "display_data",
          "data": {
            "text/plain": [
              "<Figure size 640x480 with 1 Axes>"
            ],
            "image/png": "[encoded data removed]"
          },
          "metadata": {}
        }
      ]
    },
    {
      "cell_type": "code",
      "source": [
        "sns.boxplot(df['deaths'])"
      ],
      "metadata": {
        "colab": {
          "base_uri": "https://localhost:8080/",
          "height": 463
        },
        "id": "566UoO2ghEo5",
        "outputId": "bdf7535d-561a-4177-e380-084d4d676c43"
      },
      "execution_count": 17,
      "outputs": [
        {
          "output_type": "execute_result",
          "data": {
            "text/plain": [
              "<Axes: >"
            ]
          },
          "metadata": {},
          "execution_count": 17
        },
        {
          "output_type": "display_data",
          "data": {
            "text/plain": [
              "<Figure size 640x480 with 1 Axes>"
            ],
            "image/png": "[encoded data removed]"
          },
          "metadata": {}
        }
      ]
    },
    {
      "cell_type": "markdown",
      "source": [
        "##Conclusion\n",
        "\n",
        "**Skewness:** The skewness of the data can be estimated by looking at the difference between the mean and the median. In this case, the mean 27379.43 is higher than the median 1913.50, which suggests a right-skewed distribution. However, for a more accurate assessment of skewness, we can use the skew() function in pandas.The kde plot also suuggest the data is right skewed,which suggests some countries were recording high cases compared to others.\n",
        "\n",
        "\n",
        "\n",
        "**Outliers:** The presence of outliers can be identified by examining the minimum and maximum values. In this case, the maximum  1018316.00 significantly higher than the 75th percentile value of 12378.25, suggesting the possibility of outliers in the upper range.  further investigating outliers using box plots or other visualization techniques."
      ],
      "metadata": {
        "id": "Uxf0Uk7OhVqz"
      }
    },
    {
      "cell_type": "code",
      "source": [
        "df.columns"
      ],
      "metadata": {
        "colab": {
          "base_uri": "https://localhost:8080/"
        },
        "id": "wXj1M6L8hz4z",
        "outputId": "b7cd7895-4d5a-4b00-dc47-6117cdfb6510"
      },
      "execution_count": 18,
      "outputs": [
        {
          "output_type": "execute_result",
          "data": {
            "text/plain": [
              "Index(['country_name', 'cases', 'deaths', 'total_recovered', 'new_deaths',\n",
              "       'new_cases', 'serious_critical', 'active_cases',\n",
              "       'total_cases_per_1m_population', 'deaths_per_1m_population',\n",
              "       'total_tests', 'tests_per_1m_population'],\n",
              "      dtype='object')"
            ]
          },
          "metadata": {},
          "execution_count": 18
        }
      ]
    },
    {
      "cell_type": "markdown",
      "source": [
        "###How does the number of cases, deaths, and recoveries vary across different countries?"
      ],
      "metadata": {
        "id": "cmLA416TyIkR"
      }
    },
    {
      "cell_type": "markdown",
      "source": [
        "- The code first selects the 'country_name' and 'cases' columns from the DataFrame. It then sets the 'country_name' column as the index and sorts the DataFrame in descending order based on the 'cases' column. Finally, it selects the top 5 countries with the highest number of cases and creates a bar plot using the 'cases' values for each country."
      ],
      "metadata": {
        "id": "Bx-J7d38I22Z"
      }
    },
    {
      "cell_type": "code",
      "source": [
        "#top 5 country cases wise\n",
        "df[['country_name','cases']].set_index('country_name').sort_values('cases',ascending=False).head().plot(kind='bar')\n",
        "plt.title('Countries with most number of Cases')\n",
        "plt.ylabel('Cases')\n",
        "plt.show()"
      ],
      "metadata": {
        "colab": {
          "base_uri": "https://localhost:8080/",
          "height": 522
        },
        "id": "goSsOh6PyPpG",
        "outputId": "0c63f9b4-475b-4c8d-a35d-86a6a414f0c4"
      },
      "execution_count": 19,
      "outputs": [
        {
          "output_type": "display_data",
          "data": {
            "text/plain": [
              "<Figure size 640x480 with 1 Axes>"
            ],
            "image/png": "[encoded data removed]"
          },
          "metadata": {}
        }
      ]
    },
    {
      "cell_type": "markdown",
      "source": [
        "- Conclusion--\n",
        "The most number of cases recorded in USA,followed by India and the Brazil."
      ],
      "metadata": {
        "id": "Gqoi2AEfJBHU"
      }
    },
    {
      "cell_type": "code",
      "source": [
        "#creating new dataframe of first five rows\n",
        "new_df=df.head(25)"
      ],
      "metadata": {
        "id": "6lptR3tVGMvz"
      },
      "execution_count": 20,
      "outputs": []
    },
    {
      "cell_type": "markdown",
      "source": [
        "- This code generates a scatter plot that shows the relationship between the number of cases and the number of deaths for each country, with the size of the markers reflecting the deaths per 1 million population. The country names are also displayed next to their respective data points for easy identification."
      ],
      "metadata": {
        "id": "qKZdCr7gKpVp"
      }
    },
    {
      "cell_type": "code",
      "source": [
        "plt.figure(figsize=(15,15))\n",
        "plt.scatter(new_df['cases'],new_df['deaths'],s=new_df['deaths_per_1m_population'])\n",
        "for i in range(new_df.shape[0]):\n",
        "  plt.text(new_df['cases'].values[i],new_df['deaths'].values[i],new_df['country_name'].values[i])\n",
        "plt.title('Cases Vs Deaths CountryWise')\n",
        "plt.xlabel('Cases')\n",
        "plt.ylabel('Deaths')"
      ],
      "metadata": {
        "colab": {
          "base_uri": "https://localhost:8080/",
          "height": 1000
        },
        "id": "1t-FKAvGGvZe",
        "outputId": "e5f71bd7-1bc9-42dc-855a-c4b5fec625e2"
      },
      "execution_count": 21,
      "outputs": [
        {
          "output_type": "execute_result",
          "data": {
            "text/plain": [
              "Text(0, 0.5, 'Deaths')"
            ]
          },
          "metadata": {},
          "execution_count": 21
        },
        {
          "output_type": "display_data",
          "data": {
            "text/plain": [
              "<Figure size 1500x1500 with 1 Axes>"
            ],
            "image/png": "[encoded data removed]"
          },
          "metadata": {}
        }
      ]
    },
    {
      "cell_type": "markdown",
      "source": [
        "- Conclusion--Despite India recording many cases the deaths per million is very low for India."
      ],
      "metadata": {
        "id": "Po2RFnVyK0Ta"
      }
    },
    {
      "cell_type": "code",
      "source": [
        "new_df.head()"
      ],
      "metadata": {
        "colab": {
          "base_uri": "https://localhost:8080/",
          "height": 270
        },
        "id": "yP6EIUXMNvgE",
        "outputId": "9042e492-06eb-420b-b847-7d01a03a7ee6"
      },
      "execution_count": 22,
      "outputs": [
        {
          "output_type": "execute_result",
          "data": {
            "text/plain": [
              "  country_name     cases   deaths  total_recovered  new_deaths  new_cases  \\\n",
              "0          USA  82649779  1018316      80434925.00           0          0   \n",
              "1        India  43057545   522193      42519479.00           0          0   \n",
              "2       Brazil  30345654   662663      29364400.00           0          0   \n",
              "3       France  28244977   145020      25852832.00           0          0   \n",
              "4      Germany  24109433   134624      21243000.00           0          0   \n",
              "\n",
              "   serious_critical  active_cases  total_cases_per_1m_population  \\\n",
              "0              1465    1196538.00                         247080   \n",
              "1               698      15873.00                          30657   \n",
              "2              8318     318591.00                         140954   \n",
              "3              1677    2247125.00                         430996   \n",
              "4              1980    2731809.00                         286106   \n",
              "\n",
              "   deaths_per_1m_population  total_tests  tests_per_1m_population  \n",
              "0                      3044   1000275726                  2990303  \n",
              "1                       372    834717702                   594319  \n",
              "2                      3078     63776166                   296238  \n",
              "3                      2213    266484045                  4066333  \n",
              "4                      1598    122332384                  1451714  "
            ],
            "text/html": [
              "\n",
              "  <div id=\"df-125e72ef-4230-4aab-8d73-7501ba75630c\">\n",
              "    <div class=\"colab-df-container\">\n",
              "      <div>\n",
              "<style scoped>\n",
              "    .dataframe tbody tr th:only-of-type {\n",
              "        vertical-align: middle;\n",
              "    }\n",
              "\n",
              "    .dataframe tbody tr th {\n",
              "        vertical-align: top;\n",
              "    }\n",
              "\n",
              "    .dataframe thead th {\n",
              "        text-align: right;\n",
              "    }\n",
              "</style>\n",
              "<table border=\"1\" class=\"dataframe\">\n",
              "  <thead>\n",
              "    <tr style=\"text-align: right;\">\n",
              "      <th></th>\n",
              "      <th>country_name</th>\n",
              "      <th>cases</th>\n",
              "      <th>deaths</th>\n",
              "      <th>total_recovered</th>\n",
              "      <th>new_deaths</th>\n",
              "      <th>new_cases</th>\n",
              "      <th>serious_critical</th>\n",
              "      <th>active_cases</th>\n",
              "      <th>total_cases_per_1m_population</th>\n",
              "      <th>deaths_per_1m_population</th>\n",
              "      <th>total_tests</th>\n",
              "      <th>tests_per_1m_population</th>\n",
              "    </tr>\n",
              "  </thead>\n",
              "  <tbody>\n",
              "    <tr>\n",
              "      <th>0</th>\n",
              "      <td>USA</td>\n",
              "      <td>82649779</td>\n",
              "      <td>1018316</td>\n",
              "      <td>80434925.00</td>\n",
              "      <td>0</td>\n",
              "      <td>0</td>\n",
              "      <td>1465</td>\n",
              "      <td>1196538.00</td>\n",
              "      <td>247080</td>\n",
              "      <td>3044</td>\n",
              "      <td>1000275726</td>\n",
              "      <td>2990303</td>\n",
              "    </tr>\n",
              "    <tr>\n",
              "      <th>1</th>\n",
              "      <td>India</td>\n",
              "      <td>43057545</td>\n",
              "      <td>522193</td>\n",
              "      <td>42519479.00</td>\n",
              "      <td>0</td>\n",
              "      <td>0</td>\n",
              "      <td>698</td>\n",
              "      <td>15873.00</td>\n",
              "      <td>30657</td>\n",
              "      <td>372</td>\n",
              "      <td>834717702</td>\n",
              "      <td>594319</td>\n",
              "    </tr>\n",
              "    <tr>\n",
              "      <th>2</th>\n",
              "      <td>Brazil</td>\n",
              "      <td>30345654</td>\n",
              "      <td>662663</td>\n",
              "      <td>29364400.00</td>\n",
              "      <td>0</td>\n",
              "      <td>0</td>\n",
              "      <td>8318</td>\n",
              "      <td>318591.00</td>\n",
              "      <td>140954</td>\n",
              "      <td>3078</td>\n",
              "      <td>63776166</td>\n",
              "      <td>296238</td>\n",
              "    </tr>\n",
              "    <tr>\n",
              "      <th>3</th>\n",
              "      <td>France</td>\n",
              "      <td>28244977</td>\n",
              "      <td>145020</td>\n",
              "      <td>25852832.00</td>\n",
              "      <td>0</td>\n",
              "      <td>0</td>\n",
              "      <td>1677</td>\n",
              "      <td>2247125.00</td>\n",
              "      <td>430996</td>\n",
              "      <td>2213</td>\n",
              "      <td>266484045</td>\n",
              "      <td>4066333</td>\n",
              "    </tr>\n",
              "    <tr>\n",
              "      <th>4</th>\n",
              "      <td>Germany</td>\n",
              "      <td>24109433</td>\n",
              "      <td>134624</td>\n",
              "      <td>21243000.00</td>\n",
              "      <td>0</td>\n",
              "      <td>0</td>\n",
              "      <td>1980</td>\n",
              "      <td>2731809.00</td>\n",
              "      <td>286106</td>\n",
              "      <td>1598</td>\n",
              "      <td>122332384</td>\n",
              "      <td>1451714</td>\n",
              "    </tr>\n",
              "  </tbody>\n",
              "</table>\n",
              "</div>\n",
              "      <button class=\"colab-df-convert\" onclick=\"convertToInteractive('df-125e72ef-4230-4aab-8d73-7501ba75630c')\"\n",
              "              title=\"Convert this dataframe to an interactive table.\"\n",
              "              style=\"display:none;\">\n",
              "        \n",
              "  <svg xmlns=\"http://www.w3.org/2000/svg\" height=\"24px\"viewBox=\"0 0 24 24\"\n",
              "       width=\"24px\">\n",
              "    <path d=\"M0 0h24v24H0V0z\" fill=\"none\"/>\n",
              "    <path d=\"M18.56 5.44l.94 2.06.94-2.06 2.06-.94-2.06-.94-.94-2.06-.94 2.06-2.06.94zm-11 1L8.5 8.5l.94-2.06 2.06-.94-2.06-.94L8.5 2.5l-.94 2.06-2.06.94zm10 10l.94 2.06.94-2.06 2.06-.94-2.06-.94-.94-2.06-.94 2.06-2.06.94z\"/><path d=\"M17.41 7.96l-1.37-1.37c-.4-.4-.92-.59-1.43-.59-.52 0-1.04.2-1.43.59L10.3 9.45l-7.72 7.72c-.78.78-.78 2.05 0 2.83L4 21.41c.39.39.9.59 1.41.59.51 0 1.02-.2 1.41-.59l7.78-7.78 2.81-2.81c.8-.78.8-2.07 0-2.86zM5.41 20L4 18.59l7.72-7.72 1.47 1.35L5.41 20z\"/>\n",
              "  </svg>\n",
              "      </button>\n",
              "      \n",
              "  <style>\n",
              "    .colab-df-container {\n",
              "      display:flex;\n",
              "      flex-wrap:wrap;\n",
              "      gap: 12px;\n",
              "    }\n",
              "\n",
              "    .colab-df-convert {\n",
              "      background-color: #E8F0FE;\n",
              "      border: none;\n",
              "      border-radius: 50%;\n",
              "      cursor: pointer;\n",
              "      display: none;\n",
              "      fill: #1967D2;\n",
              "      height: 32px;\n",
              "      padding: 0 0 0 0;\n",
              "      width: 32px;\n",
              "    }\n",
              "\n",
              "    .colab-df-convert:hover {\n",
              "      background-color: #E2EBFA;\n",
              "      box-shadow: 0px 1px 2px rgba(60, 64, 67, 0.3), 0px 1px 3px 1px rgba(60, 64, 67, 0.15);\n",
              "      fill: #174EA6;\n",
              "    }\n",
              "\n",
              "    [theme=dark] .colab-df-convert {\n",
              "      background-color: #3B4455;\n",
              "      fill: #D2E3FC;\n",
              "    }\n",
              "\n",
              "    [theme=dark] .colab-df-convert:hover {\n",
              "      background-color: #434B5C;\n",
              "      box-shadow: 0px 1px 3px 1px rgba(0, 0, 0, 0.15);\n",
              "      filter: drop-shadow(0px 1px 2px rgba(0, 0, 0, 0.3));\n",
              "      fill: #FFFFFF;\n",
              "    }\n",
              "  </style>\n",
              "\n",
              "      <script>\n",
              "        const buttonEl =\n",
              "          document.querySelector('#df-125e72ef-4230-4aab-8d73-7501ba75630c button.colab-df-convert');\n",
              "        buttonEl.style.display =\n",
              "          google.colab.kernel.accessAllowed ? 'block' : 'none';\n",
              "\n",
              "        async function convertToInteractive(key) {\n",
              "          const element = document.querySelector('#df-125e72ef-4230-4aab-8d73-7501ba75630c');\n",
              "          const dataTable =\n",
              "            await google.colab.kernel.invokeFunction('convertToInteractive',\n",
              "                                                     [key], {});\n",
              "          if (!dataTable) return;\n",
              "\n",
              "          const docLinkHtml = 'Like what you see? Visit the ' +\n",
              "            '<a target=\"_blank\" href=https://colab.research.google.com/notebooks/data_table.ipynb>data table notebook</a>'\n",
              "            + ' to learn more about interactive tables.';\n",
              "          element.innerHTML = '';\n",
              "          dataTable['output_type'] = 'display_data';\n",
              "          await google.colab.output.renderOutput(dataTable, element);\n",
              "          const docLink = document.createElement('div');\n",
              "          docLink.innerHTML = docLinkHtml;\n",
              "          element.appendChild(docLink);\n",
              "        }\n",
              "      </script>\n",
              "    </div>\n",
              "  </div>\n",
              "  "
            ]
          },
          "metadata": {},
          "execution_count": 22
        }
      ]
    },
    {
      "cell_type": "code",
      "source": [
        "#side-by-side comparison of the two relationships and provides insights into the patterns and correlations between the variables in the COVID-19 data.\n",
        "fig,ax=plt.subplots(nrows=2,ncols=1,figsize=(8,12))\n",
        "ax[0].scatter(new_df['cases'],new_df['deaths'],color='red')\n",
        "\n",
        "ax[0].set_title('total cases vs deaths')\n",
        "\n",
        "ax[1].scatter(new_df['total_cases_per_1m_population'],new_df['deaths_per_1m_population'])\n",
        "ax[1].set_title('cases_per_1m_population\tVs deaths_per_1m_population')\n",
        "plt.show()"
      ],
      "metadata": {
        "colab": {
          "base_uri": "https://localhost:8080/",
          "height": 1000
        },
        "id": "o6xTLzklN-ue",
        "outputId": "fe474f72-9306-4489-91d9-dfc30e2d9fe9"
      },
      "execution_count": 23,
      "outputs": [
        {
          "output_type": "stream",
          "name": "stderr",
          "text": [
            "/usr/local/lib/python3.10/dist-packages/IPython/core/pylabtools.py:151: UserWarning: Glyph 9 (\t) missing from current font.\n",
            "  fig.canvas.print_figure(bytes_io, **kw)\n"
          ]
        },
        {
          "output_type": "display_data",
          "data": {
            "text/plain": [
              "<Figure size 800x1200 with 2 Axes>"
            ],
            "image/png": "[encoded data removed]"
          },
          "metadata": {}
        }
      ]
    },
    {
      "cell_type": "markdown",
      "source": [
        "- The resulting visualization consists of two scatter plots. The first plot shows the relationship between the total number of cases and deaths for each country, with red markers representing the data points. The second plot displays the relationship between the total cases per 1 million population and deaths per 1 million population for each country. Each subplot has its own title for clarity."
      ],
      "metadata": {
        "id": "bR6nCQBTQEkg"
      }
    },
    {
      "cell_type": "code",
      "source": [
        "#Importing plotly.express as px for interactive and visually appealing data visualizations.\n",
        "import plotly.express as px"
      ],
      "metadata": {
        "id": "6wqXfSHnvuoI"
      },
      "execution_count": 24,
      "outputs": []
    },
    {
      "cell_type": "code",
      "source": [
        "#\n",
        "#Filtering the new_df DataFrame to include only the rows where the country name is either 'USA', 'India', or 'Brazil',\n",
        "#and selecting the columns 'country_name', 'cases', 'deaths', and 'total_recovered'.\n",
        "temp_df=new_df[new_df['country_name'].isin(['USA','India','Brazil'])][['country_name','cases','deaths','total_recovered']]"
      ],
      "metadata": {
        "id": "vg-05R7kwG-X"
      },
      "execution_count": 25,
      "outputs": []
    },
    {
      "cell_type": "code",
      "source": [
        "temp_df"
      ],
      "metadata": {
        "colab": {
          "base_uri": "https://localhost:8080/",
          "height": 143
        },
        "id": "7k9BuVI1yCM0",
        "outputId": "b0c4ee4a-5233-4353-a59e-48a2760ed554"
      },
      "execution_count": 26,
      "outputs": [
        {
          "output_type": "execute_result",
          "data": {
            "text/plain": [
              "  country_name     cases   deaths  total_recovered\n",
              "0          USA  82649779  1018316      80434925.00\n",
              "1        India  43057545   522193      42519479.00\n",
              "2       Brazil  30345654   662663      29364400.00"
            ],
            "text/html": [
              "\n",
              "  <div id=\"df-91d38144-14a8-4ed0-8319-4e600140e7fb\">\n",
              "    <div class=\"colab-df-container\">\n",
              "      <div>\n",
              "<style scoped>\n",
              "    .dataframe tbody tr th:only-of-type {\n",
              "        vertical-align: middle;\n",
              "    }\n",
              "\n",
              "    .dataframe tbody tr th {\n",
              "        vertical-align: top;\n",
              "    }\n",
              "\n",
              "    .dataframe thead th {\n",
              "        text-align: right;\n",
              "    }\n",
              "</style>\n",
              "<table border=\"1\" class=\"dataframe\">\n",
              "  <thead>\n",
              "    <tr style=\"text-align: right;\">\n",
              "      <th></th>\n",
              "      <th>country_name</th>\n",
              "      <th>cases</th>\n",
              "      <th>deaths</th>\n",
              "      <th>total_recovered</th>\n",
              "    </tr>\n",
              "  </thead>\n",
              "  <tbody>\n",
              "    <tr>\n",
              "      <th>0</th>\n",
              "      <td>USA</td>\n",
              "      <td>82649779</td>\n",
              "      <td>1018316</td>\n",
              "      <td>80434925.00</td>\n",
              "    </tr>\n",
              "    <tr>\n",
              "      <th>1</th>\n",
              "      <td>India</td>\n",
              "      <td>43057545</td>\n",
              "      <td>522193</td>\n",
              "      <td>42519479.00</td>\n",
              "    </tr>\n",
              "    <tr>\n",
              "      <th>2</th>\n",
              "      <td>Brazil</td>\n",
              "      <td>30345654</td>\n",
              "      <td>662663</td>\n",
              "      <td>29364400.00</td>\n",
              "    </tr>\n",
              "  </tbody>\n",
              "</table>\n",
              "</div>\n",
              "      <button class=\"colab-df-convert\" onclick=\"convertToInteractive('df-91d38144-14a8-4ed0-8319-4e600140e7fb')\"\n",
              "              title=\"Convert this dataframe to an interactive table.\"\n",
              "              style=\"display:none;\">\n",
              "        \n",
              "  <svg xmlns=\"http://www.w3.org/2000/svg\" height=\"24px\"viewBox=\"0 0 24 24\"\n",
              "       width=\"24px\">\n",
              "    <path d=\"M0 0h24v24H0V0z\" fill=\"none\"/>\n",
              "    <path d=\"M18.56 5.44l.94 2.06.94-2.06 2.06-.94-2.06-.94-.94-2.06-.94 2.06-2.06.94zm-11 1L8.5 8.5l.94-2.06 2.06-.94-2.06-.94L8.5 2.5l-.94 2.06-2.06.94zm10 10l.94 2.06.94-2.06 2.06-.94-2.06-.94-.94-2.06-.94 2.06-2.06.94z\"/><path d=\"M17.41 7.96l-1.37-1.37c-.4-.4-.92-.59-1.43-.59-.52 0-1.04.2-1.43.59L10.3 9.45l-7.72 7.72c-.78.78-.78 2.05 0 2.83L4 21.41c.39.39.9.59 1.41.59.51 0 1.02-.2 1.41-.59l7.78-7.78 2.81-2.81c.8-.78.8-2.07 0-2.86zM5.41 20L4 18.59l7.72-7.72 1.47 1.35L5.41 20z\"/>\n",
              "  </svg>\n",
              "      </button>\n",
              "      \n",
              "  <style>\n",
              "    .colab-df-container {\n",
              "      display:flex;\n",
              "      flex-wrap:wrap;\n",
              "      gap: 12px;\n",
              "    }\n",
              "\n",
              "    .colab-df-convert {\n",
              "      background-color: #E8F0FE;\n",
              "      border: none;\n",
              "      border-radius: 50%;\n",
              "      cursor: pointer;\n",
              "      display: none;\n",
              "      fill: #1967D2;\n",
              "      height: 32px;\n",
              "      padding: 0 0 0 0;\n",
              "      width: 32px;\n",
              "    }\n",
              "\n",
              "    .colab-df-convert:hover {\n",
              "      background-color: #E2EBFA;\n",
              "      box-shadow: 0px 1px 2px rgba(60, 64, 67, 0.3), 0px 1px 3px 1px rgba(60, 64, 67, 0.15);\n",
              "      fill: #174EA6;\n",
              "    }\n",
              "\n",
              "    [theme=dark] .colab-df-convert {\n",
              "      background-color: #3B4455;\n",
              "      fill: #D2E3FC;\n",
              "    }\n",
              "\n",
              "    [theme=dark] .colab-df-convert:hover {\n",
              "      background-color: #434B5C;\n",
              "      box-shadow: 0px 1px 3px 1px rgba(0, 0, 0, 0.15);\n",
              "      filter: drop-shadow(0px 1px 2px rgba(0, 0, 0, 0.3));\n",
              "      fill: #FFFFFF;\n",
              "    }\n",
              "  </style>\n",
              "\n",
              "      <script>\n",
              "        const buttonEl =\n",
              "          document.querySelector('#df-91d38144-14a8-4ed0-8319-4e600140e7fb button.colab-df-convert');\n",
              "        buttonEl.style.display =\n",
              "          google.colab.kernel.accessAllowed ? 'block' : 'none';\n",
              "\n",
              "        async function convertToInteractive(key) {\n",
              "          const element = document.querySelector('#df-91d38144-14a8-4ed0-8319-4e600140e7fb');\n",
              "          const dataTable =\n",
              "            await google.colab.kernel.invokeFunction('convertToInteractive',\n",
              "                                                     [key], {});\n",
              "          if (!dataTable) return;\n",
              "\n",
              "          const docLinkHtml = 'Like what you see? Visit the ' +\n",
              "            '<a target=\"_blank\" href=https://colab.research.google.com/notebooks/data_table.ipynb>data table notebook</a>'\n",
              "            + ' to learn more about interactive tables.';\n",
              "          element.innerHTML = '';\n",
              "          dataTable['output_type'] = 'display_data';\n",
              "          await google.colab.output.renderOutput(dataTable, element);\n",
              "          const docLink = document.createElement('div');\n",
              "          docLink.innerHTML = docLinkHtml;\n",
              "          element.appendChild(docLink);\n",
              "        }\n",
              "      </script>\n",
              "    </div>\n",
              "  </div>\n",
              "  "
            ]
          },
          "metadata": {},
          "execution_count": 26
        }
      ]
    },
    {
      "cell_type": "code",
      "source": [
        "#creating interactive plot through plotly express\n",
        "px.bar(temp_df,x='country_name',y=temp_df.columns,barmode='group',text_auto=True)"
      ],
      "metadata": {
        "colab": {
          "base_uri": "https://localhost:8080/",
          "height": 542
        },
        "id": "dO5AXkQFyKYc",
        "outputId": "66d4da6e-5ed9-4a3d-a727-9d247fc6394f"
      },
      "execution_count": 27,
      "outputs": [
        {
          "output_type": "display_data",
          "data": {
            "text/html": [
              "<html>\n",
              "<head><meta charset=\"utf-8\" /></head>\n",
              "<body>\n",
              "    <div>            <script src=\"https://cdnjs.cloudflare.com/ajax/libs/mathjax/2.7.5/MathJax.js?config=TeX-AMS-MML_SVG\"></script><script type=\"text/javascript\">if (window.MathJax && window.MathJax.Hub && window.MathJax.Hub.Config) {window.MathJax.Hub.Config({SVG: {font: \"STIX-Web\"}});}</script>                <script type=\"text/javascript\">window.PlotlyConfig = {MathJaxConfig: 'local'};</script>\n",
              "        <script src=\"https://cdn.plot.ly/plotly-2.18.2.min.js\"></script>                <div id=\"7e3671cc-2e53-4c29-9f99-300f02029e5e\" class=\"plotly-graph-div\" style=\"height:525px; width:100%;\"></div>            <script type=\"text/javascript\">                                    window.PLOTLYENV=window.PLOTLYENV || {};                                    if (document.getElementById(\"7e3671cc-2e53-4c29-9f99-300f02029e5e\")) {                    Plotly.newPlot(                        \"7e3671cc-2e53-4c29-9f99-300f02029e5e\",                        [{\"alignmentgroup\":\"True\",\"hovertemplate\":\"variable=cases<br>country_name=%{x}<br>value=%{y}<extra></extra>\",\"legendgroup\":\"cases\",\"marker\":{\"color\":\"#636efa\",\"pattern\":{\"shape\":\"\"}},\"name\":\"cases\",\"offsetgroup\":\"cases\",\"orientation\":\"v\",\"showlegend\":true,\"textposition\":\"auto\",\"texttemplate\":\"%{y}\",\"x\":[\"USA\",\"India\",\"Brazil\"],\"xaxis\":\"x\",\"y\":[82649779.0,43057545.0,30345654.0],\"yaxis\":\"y\",\"type\":\"bar\"},{\"alignmentgroup\":\"True\",\"hovertemplate\":\"variable=deaths<br>country_name=%{x}<br>value=%{y}<extra></extra>\",\"legendgroup\":\"deaths\",\"marker\":{\"color\":\"#EF553B\",\"pattern\":{\"shape\":\"\"}},\"name\":\"deaths\",\"offsetgroup\":\"deaths\",\"orientation\":\"v\",\"showlegend\":true,\"textposition\":\"auto\",\"texttemplate\":\"%{y}\",\"x\":[\"USA\",\"India\",\"Brazil\"],\"xaxis\":\"x\",\"y\":[1018316.0,522193.0,662663.0],\"yaxis\":\"y\",\"type\":\"bar\"},{\"alignmentgroup\":\"True\",\"hovertemplate\":\"variable=total_recovered<br>country_name=%{x}<br>value=%{y}<extra></extra>\",\"legendgroup\":\"total_recovered\",\"marker\":{\"color\":\"#00cc96\",\"pattern\":{\"shape\":\"\"}},\"name\":\"total_recovered\",\"offsetgroup\":\"total_recovered\",\"orientation\":\"v\",\"showlegend\":true,\"textposition\":\"auto\",\"texttemplate\":\"%{y}\",\"x\":[\"USA\",\"India\",\"Brazil\"],\"xaxis\":\"x\",\"y\":[80434925.0,42519479.0,29364400.0],\"yaxis\":\"y\",\"type\":\"bar\"}],                        {\"template\":{\"data\":{\"histogram2dcontour\":[{\"type\":\"histogram2dcontour\",\"colorbar\":{\"outlinewidth\":0,\"ticks\":\"\"},\"colorscale\":[[0.0,\"#0d0887\"],[0.1111111111111111,\"#46039f\"],[0.2222222222222222,\"#7201a8\"],[0.3333333333333333,\"#9c179e\"],[0.4444444444444444,\"#bd3786\"],[0.5555555555555556,\"#d8576b\"],[0.6666666666666666,\"#ed7953\"],[0.7777777777777778,\"#fb9f3a\"],[0.8888888888888888,\"#fdca26\"],[1.0,\"#f0f921\"]]}],\"choropleth\":[{\"type\":\"choropleth\",\"colorbar\":{\"outlinewidth\":0,\"ticks\":\"\"}}],\"histogram2d\":[{\"type\":\"histogram2d\",\"colorbar\":{\"outlinewidth\":0,\"ticks\":\"\"},\"colorscale\":[[0.0,\"#0d0887\"],[0.1111111111111111,\"#46039f\"],[0.2222222222222222,\"#7201a8\"],[0.3333333333333333,\"#9c179e\"],[0.4444444444444444,\"#bd3786\"],[0.5555555555555556,\"#d8576b\"],[0.6666666666666666,\"#ed7953\"],[0.7777777777777778,\"#fb9f3a\"],[0.8888888888888888,\"#fdca26\"],[1.0,\"#f0f921\"]]}],\"heatmap\":[{\"type\":\"heatmap\",\"colorbar\":{\"outlinewidth\":0,\"ticks\":\"\"},\"colorscale\":[[0.0,\"#0d0887\"],[0.1111111111111111,\"#46039f\"],[0.2222222222222222,\"#7201a8\"],[0.3333333333333333,\"#9c179e\"],[0.4444444444444444,\"#bd3786\"],[0.5555555555555556,\"#d8576b\"],[0.6666666666666666,\"#ed7953\"],[0.7777777777777778,\"#fb9f3a\"],[0.8888888888888888,\"#fdca26\"],[1.0,\"#f0f921\"]]}],\"heatmapgl\":[{\"type\":\"heatmapgl\",\"colorbar\":{\"outlinewidth\":0,\"ticks\":\"\"},\"colorscale\":[[0.0,\"#0d0887\"],[0.1111111111111111,\"#46039f\"],[0.2222222222222222,\"#7201a8\"],[0.3333333333333333,\"#9c179e\"],[0.4444444444444444,\"#bd3786\"],[0.5555555555555556,\"#d8576b\"],[0.6666666666666666,\"#ed7953\"],[0.7777777777777778,\"#fb9f3a\"],[0.8888888888888888,\"#fdca26\"],[1.0,\"#f0f921\"]]}],\"contourcarpet\":[{\"type\":\"contourcarpet\",\"colorbar\":{\"outlinewidth\":0,\"ticks\":\"\"}}],\"contour\":[{\"type\":\"contour\",\"colorbar\":{\"outlinewidth\":0,\"ticks\":\"\"},\"colorscale\":[[0.0,\"#0d0887\"],[0.1111111111111111,\"#46039f\"],[0.2222222222222222,\"#7201a8\"],[0.3333333333333333,\"#9c179e\"],[0.4444444444444444,\"#bd3786\"],[0.5555555555555556,\"#d8576b\"],[0.6666666666666666,\"#ed7953\"],[0.7777777777777778,\"#fb9f3a\"],[0.8888888888888888,\"#fdca26\"],[1.0,\"#f0f921\"]]}],\"surface\":[{\"type\":\"surface\",\"colorbar\":{\"outlinewidth\":0,\"ticks\":\"\"},\"colorscale\":[[0.0,\"#0d0887\"],[0.1111111111111111,\"#46039f\"],[0.2222222222222222,\"#7201a8\"],[0.3333333333333333,\"#9c179e\"],[0.4444444444444444,\"#bd3786\"],[0.5555555555555556,\"#d8576b\"],[0.6666666666666666,\"#ed7953\"],[0.7777777777777778,\"#fb9f3a\"],[0.8888888888888888,\"#fdca26\"],[1.0,\"#f0f921\"]]}],\"mesh3d\":[{\"type\":\"mesh3d\",\"colorbar\":{\"outlinewidth\":0,\"ticks\":\"\"}}],\"scatter\":[{\"fillpattern\":{\"fillmode\":\"overlay\",\"size\":10,\"solidity\":0.2},\"type\":\"scatter\"}],\"parcoords\":[{\"type\":\"parcoords\",\"line\":{\"colorbar\":{\"outlinewidth\":0,\"ticks\":\"\"}}}],\"scatterpolargl\":[{\"type\":\"scatterpolargl\",\"marker\":{\"colorbar\":{\"outlinewidth\":0,\"ticks\":\"\"}}}],\"bar\":[{\"error_x\":{\"color\":\"#2a3f5f\"},\"error_y\":{\"color\":\"#2a3f5f\"},\"marker\":{\"line\":{\"color\":\"#E5ECF6\",\"width\":0.5},\"pattern\":{\"fillmode\":\"overlay\",\"size\":10,\"solidity\":0.2}},\"type\":\"bar\"}],\"scattergeo\":[{\"type\":\"scattergeo\",\"marker\":{\"colorbar\":{\"outlinewidth\":0,\"ticks\":\"\"}}}],\"scatterpolar\":[{\"type\":\"scatterpolar\",\"marker\":{\"colorbar\":{\"outlinewidth\":0,\"ticks\":\"\"}}}],\"histogram\":[{\"marker\":{\"pattern\":{\"fillmode\":\"overlay\",\"size\":10,\"solidity\":0.2}},\"type\":\"histogram\"}],\"scattergl\":[{\"type\":\"scattergl\",\"marker\":{\"colorbar\":{\"outlinewidth\":0,\"ticks\":\"\"}}}],\"scatter3d\":[{\"type\":\"scatter3d\",\"line\":{\"colorbar\":{\"outlinewidth\":0,\"ticks\":\"\"}},\"marker\":{\"colorbar\":{\"outlinewidth\":0,\"ticks\":\"\"}}}],\"scattermapbox\":[{\"type\":\"scattermapbox\",\"marker\":{\"colorbar\":{\"outlinewidth\":0,\"ticks\":\"\"}}}],\"scatterternary\":[{\"type\":\"scatterternary\",\"marker\":{\"colorbar\":{\"outlinewidth\":0,\"ticks\":\"\"}}}],\"scattercarpet\":[{\"type\":\"scattercarpet\",\"marker\":{\"colorbar\":{\"outlinewidth\":0,\"ticks\":\"\"}}}],\"carpet\":[{\"aaxis\":{\"endlinecolor\":\"#2a3f5f\",\"gridcolor\":\"white\",\"linecolor\":\"white\",\"minorgridcolor\":\"white\",\"startlinecolor\":\"#2a3f5f\"},\"baxis\":{\"endlinecolor\":\"#2a3f5f\",\"gridcolor\":\"white\",\"linecolor\":\"white\",\"minorgridcolor\":\"white\",\"startlinecolor\":\"#2a3f5f\"},\"type\":\"carpet\"}],\"table\":[{\"cells\":{\"fill\":{\"color\":\"#EBF0F8\"},\"line\":{\"color\":\"white\"}},\"header\":{\"fill\":{\"color\":\"#C8D4E3\"},\"line\":{\"color\":\"white\"}},\"type\":\"table\"}],\"barpolar\":[{\"marker\":{\"line\":{\"color\":\"#E5ECF6\",\"width\":0.5},\"pattern\":{\"fillmode\":\"overlay\",\"size\":10,\"solidity\":0.2}},\"type\":\"barpolar\"}],\"pie\":[{\"automargin\":true,\"type\":\"pie\"}]},\"layout\":{\"autotypenumbers\":\"strict\",\"colorway\":[\"#636efa\",\"#EF553B\",\"#00cc96\",\"#ab63fa\",\"#FFA15A\",\"#19d3f3\",\"#FF6692\",\"#B6E880\",\"#FF97FF\",\"#FECB52\"],\"font\":{\"color\":\"#2a3f5f\"},\"hovermode\":\"closest\",\"hoverlabel\":{\"align\":\"left\"},\"paper_bgcolor\":\"white\",\"plot_bgcolor\":\"#E5ECF6\",\"polar\":{\"bgcolor\":\"#E5ECF6\",\"angularaxis\":{\"gridcolor\":\"white\",\"linecolor\":\"white\",\"ticks\":\"\"},\"radialaxis\":{\"gridcolor\":\"white\",\"linecolor\":\"white\",\"ticks\":\"\"}},\"ternary\":{\"bgcolor\":\"#E5ECF6\",\"aaxis\":{\"gridcolor\":\"white\",\"linecolor\":\"white\",\"ticks\":\"\"},\"baxis\":{\"gridcolor\":\"white\",\"linecolor\":\"white\",\"ticks\":\"\"},\"caxis\":{\"gridcolor\":\"white\",\"linecolor\":\"white\",\"ticks\":\"\"}},\"coloraxis\":{\"colorbar\":{\"outlinewidth\":0,\"ticks\":\"\"}},\"colorscale\":{\"sequential\":[[0.0,\"#0d0887\"],[0.1111111111111111,\"#46039f\"],[0.2222222222222222,\"#7201a8\"],[0.3333333333333333,\"#9c179e\"],[0.4444444444444444,\"#bd3786\"],[0.5555555555555556,\"#d8576b\"],[0.6666666666666666,\"#ed7953\"],[0.7777777777777778,\"#fb9f3a\"],[0.8888888888888888,\"#fdca26\"],[1.0,\"#f0f921\"]],\"sequentialminus\":[[0.0,\"#0d0887\"],[0.1111111111111111,\"#46039f\"],[0.2222222222222222,\"#7201a8\"],[0.3333333333333333,\"#9c179e\"],[0.4444444444444444,\"#bd3786\"],[0.5555555555555556,\"#d8576b\"],[0.6666666666666666,\"#ed7953\"],[0.7777777777777778,\"#fb9f3a\"],[0.8888888888888888,\"#fdca26\"],[1.0,\"#f0f921\"]],\"diverging\":[[0,\"#8e0152\"],[0.1,\"#c51b7d\"],[0.2,\"#de77ae\"],[0.3,\"#f1b6da\"],[0.4,\"#fde0ef\"],[0.5,\"#f7f7f7\"],[0.6,\"#e6f5d0\"],[0.7,\"#b8e186\"],[0.8,\"#7fbc41\"],[0.9,\"#4d9221\"],[1,\"#276419\"]]},\"xaxis\":{\"gridcolor\":\"white\",\"linecolor\":\"white\",\"ticks\":\"\",\"title\":{\"standoff\":15},\"zerolinecolor\":\"white\",\"automargin\":true,\"zerolinewidth\":2},\"yaxis\":{\"gridcolor\":\"white\",\"linecolor\":\"white\",\"ticks\":\"\",\"title\":{\"standoff\":15},\"zerolinecolor\":\"white\",\"automargin\":true,\"zerolinewidth\":2},\"scene\":{\"xaxis\":{\"backgroundcolor\":\"#E5ECF6\",\"gridcolor\":\"white\",\"linecolor\":\"white\",\"showbackground\":true,\"ticks\":\"\",\"zerolinecolor\":\"white\",\"gridwidth\":2},\"yaxis\":{\"backgroundcolor\":\"#E5ECF6\",\"gridcolor\":\"white\",\"linecolor\":\"white\",\"showbackground\":true,\"ticks\":\"\",\"zerolinecolor\":\"white\",\"gridwidth\":2},\"zaxis\":{\"backgroundcolor\":\"#E5ECF6\",\"gridcolor\":\"white\",\"linecolor\":\"white\",\"showbackground\":true,\"ticks\":\"\",\"zerolinecolor\":\"white\",\"gridwidth\":2}},\"shapedefaults\":{\"line\":{\"color\":\"#2a3f5f\"}},\"annotationdefaults\":{\"arrowcolor\":\"#2a3f5f\",\"arrowhead\":0,\"arrowwidth\":1},\"geo\":{\"bgcolor\":\"white\",\"landcolor\":\"#E5ECF6\",\"subunitcolor\":\"white\",\"showland\":true,\"showlakes\":true,\"lakecolor\":\"white\"},\"title\":{\"x\":0.05},\"mapbox\":{\"style\":\"light\"}}},\"xaxis\":{\"anchor\":\"y\",\"domain\":[0.0,1.0],\"title\":{\"text\":\"country_name\"}},\"yaxis\":{\"anchor\":\"x\",\"domain\":[0.0,1.0],\"title\":{\"text\":\"value\"}},\"legend\":{\"title\":{\"text\":\"variable\"},\"tracegroupgap\":0},\"margin\":{\"t\":60},\"barmode\":\"group\"},                        {\"responsive\": true}                    ).then(function(){\n",
              "                            \n",
              "var gd = document.getElementById('7e3671cc-2e53-4c29-9f99-300f02029e5e');\n",
              "var x = new MutationObserver(function (mutations, observer) {{\n",
              "        var display = window.getComputedStyle(gd).display;\n",
              "        if (!display || display === 'none') {{\n",
              "            console.log([gd, 'removed!']);\n",
              "            Plotly.purge(gd);\n",
              "            observer.disconnect();\n",
              "        }}\n",
              "}});\n",
              "\n",
              "// Listen for the removal of the full notebook cells\n",
              "var notebookContainer = gd.closest('#notebook-container');\n",
              "if (notebookContainer) {{\n",
              "    x.observe(notebookContainer, {childList: true});\n",
              "}}\n",
              "\n",
              "// Listen for the clearing of the current output cell\n",
              "var outputEl = gd.closest('.output');\n",
              "if (outputEl) {{\n",
              "    x.observe(outputEl, {childList: true});\n",
              "}}\n",
              "\n",
              "                        })                };                            </script>        </div>\n",
              "</body>\n",
              "</html>"
            ]
          },
          "metadata": {}
        }
      ]
    },
    {
      "cell_type": "markdown",
      "source": [
        "-  A grouped bar chart that visually compares the COVID-19 statistics (cases, deaths, total recoveries) for the countries USA, India, and Brazil. This visualization allows for easy comparison of the data across different countries."
      ],
      "metadata": {
        "id": "ZgHQS6ADz8aJ"
      }
    },
    {
      "cell_type": "code",
      "source": [
        "px.histogram(new_df,x='deaths',text_auto=True)"
      ],
      "metadata": {
        "colab": {
          "base_uri": "https://localhost:8080/",
          "height": 542
        },
        "id": "xfaW1YCKz_f3",
        "outputId": "2434a246-f5a9-4dc4-8be6-596f023b2b84"
      },
      "execution_count": 28,
      "outputs": [
        {
          "output_type": "display_data",
          "data": {
            "text/html": [
              "<html>\n",
              "<head><meta charset=\"utf-8\" /></head>\n",
              "<body>\n",
              "    <div>            <script src=\"https://cdnjs.cloudflare.com/ajax/libs/mathjax/2.7.5/MathJax.js?config=TeX-AMS-MML_SVG\"></script><script type=\"text/javascript\">if (window.MathJax && window.MathJax.Hub && window.MathJax.Hub.Config) {window.MathJax.Hub.Config({SVG: {font: \"STIX-Web\"}});}</script>                <script type=\"text/javascript\">window.PlotlyConfig = {MathJaxConfig: 'local'};</script>\n",
              "        <script src=\"https://cdn.plot.ly/plotly-2.18.2.min.js\"></script>                <div id=\"79d7cb38-aa61-4905-9763-666769f37a01\" class=\"plotly-graph-div\" style=\"height:525px; width:100%;\"></div>            <script type=\"text/javascript\">                                    window.PLOTLYENV=window.PLOTLYENV || {};                                    if (document.getElementById(\"79d7cb38-aa61-4905-9763-666769f37a01\")) {                    Plotly.newPlot(                        \"79d7cb38-aa61-4905-9763-666769f37a01\",                        [{\"alignmentgroup\":\"True\",\"bingroup\":\"x\",\"hovertemplate\":\"deaths=%{x}<br>count=%{y}<extra></extra>\",\"legendgroup\":\"\",\"marker\":{\"color\":\"#636efa\",\"pattern\":{\"shape\":\"\"}},\"name\":\"\",\"offsetgroup\":\"\",\"orientation\":\"v\",\"showlegend\":false,\"texttemplate\":\"%{value}\",\"x\":[1018316,522193,662663,145020,134624,173352,374902,22133,162609,98676,103908,43013,128344,22206,29284,140975,139771,156067,115948,324117,6991,108306,35491,27778,18047],\"xaxis\":\"x\",\"yaxis\":\"y\",\"type\":\"histogram\"}],                        {\"template\":{\"data\":{\"histogram2dcontour\":[{\"type\":\"histogram2dcontour\",\"colorbar\":{\"outlinewidth\":0,\"ticks\":\"\"},\"colorscale\":[[0.0,\"#0d0887\"],[0.1111111111111111,\"#46039f\"],[0.2222222222222222,\"#7201a8\"],[0.3333333333333333,\"#9c179e\"],[0.4444444444444444,\"#bd3786\"],[0.5555555555555556,\"#d8576b\"],[0.6666666666666666,\"#ed7953\"],[0.7777777777777778,\"#fb9f3a\"],[0.8888888888888888,\"#fdca26\"],[1.0,\"#f0f921\"]]}],\"choropleth\":[{\"type\":\"choropleth\",\"colorbar\":{\"outlinewidth\":0,\"ticks\":\"\"}}],\"histogram2d\":[{\"type\":\"histogram2d\",\"colorbar\":{\"outlinewidth\":0,\"ticks\":\"\"},\"colorscale\":[[0.0,\"#0d0887\"],[0.1111111111111111,\"#46039f\"],[0.2222222222222222,\"#7201a8\"],[0.3333333333333333,\"#9c179e\"],[0.4444444444444444,\"#bd3786\"],[0.5555555555555556,\"#d8576b\"],[0.6666666666666666,\"#ed7953\"],[0.7777777777777778,\"#fb9f3a\"],[0.8888888888888888,\"#fdca26\"],[1.0,\"#f0f921\"]]}],\"heatmap\":[{\"type\":\"heatmap\",\"colorbar\":{\"outlinewidth\":0,\"ticks\":\"\"},\"colorscale\":[[0.0,\"#0d0887\"],[0.1111111111111111,\"#46039f\"],[0.2222222222222222,\"#7201a8\"],[0.3333333333333333,\"#9c179e\"],[0.4444444444444444,\"#bd3786\"],[0.5555555555555556,\"#d8576b\"],[0.6666666666666666,\"#ed7953\"],[0.7777777777777778,\"#fb9f3a\"],[0.8888888888888888,\"#fdca26\"],[1.0,\"#f0f921\"]]}],\"heatmapgl\":[{\"type\":\"heatmapgl\",\"colorbar\":{\"outlinewidth\":0,\"ticks\":\"\"},\"colorscale\":[[0.0,\"#0d0887\"],[0.1111111111111111,\"#46039f\"],[0.2222222222222222,\"#7201a8\"],[0.3333333333333333,\"#9c179e\"],[0.4444444444444444,\"#bd3786\"],[0.5555555555555556,\"#d8576b\"],[0.6666666666666666,\"#ed7953\"],[0.7777777777777778,\"#fb9f3a\"],[0.8888888888888888,\"#fdca26\"],[1.0,\"#f0f921\"]]}],\"contourcarpet\":[{\"type\":\"contourcarpet\",\"colorbar\":{\"outlinewidth\":0,\"ticks\":\"\"}}],\"contour\":[{\"type\":\"contour\",\"colorbar\":{\"outlinewidth\":0,\"ticks\":\"\"},\"colorscale\":[[0.0,\"#0d0887\"],[0.1111111111111111,\"#46039f\"],[0.2222222222222222,\"#7201a8\"],[0.3333333333333333,\"#9c179e\"],[0.4444444444444444,\"#bd3786\"],[0.5555555555555556,\"#d8576b\"],[0.6666666666666666,\"#ed7953\"],[0.7777777777777778,\"#fb9f3a\"],[0.8888888888888888,\"#fdca26\"],[1.0,\"#f0f921\"]]}],\"surface\":[{\"type\":\"surface\",\"colorbar\":{\"outlinewidth\":0,\"ticks\":\"\"},\"colorscale\":[[0.0,\"#0d0887\"],[0.1111111111111111,\"#46039f\"],[0.2222222222222222,\"#7201a8\"],[0.3333333333333333,\"#9c179e\"],[0.4444444444444444,\"#bd3786\"],[0.5555555555555556,\"#d8576b\"],[0.6666666666666666,\"#ed7953\"],[0.7777777777777778,\"#fb9f3a\"],[0.8888888888888888,\"#fdca26\"],[1.0,\"#f0f921\"]]}],\"mesh3d\":[{\"type\":\"mesh3d\",\"colorbar\":{\"outlinewidth\":0,\"ticks\":\"\"}}],\"scatter\":[{\"fillpattern\":{\"fillmode\":\"overlay\",\"size\":10,\"solidity\":0.2},\"type\":\"scatter\"}],\"parcoords\":[{\"type\":\"parcoords\",\"line\":{\"colorbar\":{\"outlinewidth\":0,\"ticks\":\"\"}}}],\"scatterpolargl\":[{\"type\":\"scatterpolargl\",\"marker\":{\"colorbar\":{\"outlinewidth\":0,\"ticks\":\"\"}}}],\"bar\":[{\"error_x\":{\"color\":\"#2a3f5f\"},\"error_y\":{\"color\":\"#2a3f5f\"},\"marker\":{\"line\":{\"color\":\"#E5ECF6\",\"width\":0.5},\"pattern\":{\"fillmode\":\"overlay\",\"size\":10,\"solidity\":0.2}},\"type\":\"bar\"}],\"scattergeo\":[{\"type\":\"scattergeo\",\"marker\":{\"colorbar\":{\"outlinewidth\":0,\"ticks\":\"\"}}}],\"scatterpolar\":[{\"type\":\"scatterpolar\",\"marker\":{\"colorbar\":{\"outlinewidth\":0,\"ticks\":\"\"}}}],\"histogram\":[{\"marker\":{\"pattern\":{\"fillmode\":\"overlay\",\"size\":10,\"solidity\":0.2}},\"type\":\"histogram\"}],\"scattergl\":[{\"type\":\"scattergl\",\"marker\":{\"colorbar\":{\"outlinewidth\":0,\"ticks\":\"\"}}}],\"scatter3d\":[{\"type\":\"scatter3d\",\"line\":{\"colorbar\":{\"outlinewidth\":0,\"ticks\":\"\"}},\"marker\":{\"colorbar\":{\"outlinewidth\":0,\"ticks\":\"\"}}}],\"scattermapbox\":[{\"type\":\"scattermapbox\",\"marker\":{\"colorbar\":{\"outlinewidth\":0,\"ticks\":\"\"}}}],\"scatterternary\":[{\"type\":\"scatterternary\",\"marker\":{\"colorbar\":{\"outlinewidth\":0,\"ticks\":\"\"}}}],\"scattercarpet\":[{\"type\":\"scattercarpet\",\"marker\":{\"colorbar\":{\"outlinewidth\":0,\"ticks\":\"\"}}}],\"carpet\":[{\"aaxis\":{\"endlinecolor\":\"#2a3f5f\",\"gridcolor\":\"white\",\"linecolor\":\"white\",\"minorgridcolor\":\"white\",\"startlinecolor\":\"#2a3f5f\"},\"baxis\":{\"endlinecolor\":\"#2a3f5f\",\"gridcolor\":\"white\",\"linecolor\":\"white\",\"minorgridcolor\":\"white\",\"startlinecolor\":\"#2a3f5f\"},\"type\":\"carpet\"}],\"table\":[{\"cells\":{\"fill\":{\"color\":\"#EBF0F8\"},\"line\":{\"color\":\"white\"}},\"header\":{\"fill\":{\"color\":\"#C8D4E3\"},\"line\":{\"color\":\"white\"}},\"type\":\"table\"}],\"barpolar\":[{\"marker\":{\"line\":{\"color\":\"#E5ECF6\",\"width\":0.5},\"pattern\":{\"fillmode\":\"overlay\",\"size\":10,\"solidity\":0.2}},\"type\":\"barpolar\"}],\"pie\":[{\"automargin\":true,\"type\":\"pie\"}]},\"layout\":{\"autotypenumbers\":\"strict\",\"colorway\":[\"#636efa\",\"#EF553B\",\"#00cc96\",\"#ab63fa\",\"#FFA15A\",\"#19d3f3\",\"#FF6692\",\"#B6E880\",\"#FF97FF\",\"#FECB52\"],\"font\":{\"color\":\"#2a3f5f\"},\"hovermode\":\"closest\",\"hoverlabel\":{\"align\":\"left\"},\"paper_bgcolor\":\"white\",\"plot_bgcolor\":\"#E5ECF6\",\"polar\":{\"bgcolor\":\"#E5ECF6\",\"angularaxis\":{\"gridcolor\":\"white\",\"linecolor\":\"white\",\"ticks\":\"\"},\"radialaxis\":{\"gridcolor\":\"white\",\"linecolor\":\"white\",\"ticks\":\"\"}},\"ternary\":{\"bgcolor\":\"#E5ECF6\",\"aaxis\":{\"gridcolor\":\"white\",\"linecolor\":\"white\",\"ticks\":\"\"},\"baxis\":{\"gridcolor\":\"white\",\"linecolor\":\"white\",\"ticks\":\"\"},\"caxis\":{\"gridcolor\":\"white\",\"linecolor\":\"white\",\"ticks\":\"\"}},\"coloraxis\":{\"colorbar\":{\"outlinewidth\":0,\"ticks\":\"\"}},\"colorscale\":{\"sequential\":[[0.0,\"#0d0887\"],[0.1111111111111111,\"#46039f\"],[0.2222222222222222,\"#7201a8\"],[0.3333333333333333,\"#9c179e\"],[0.4444444444444444,\"#bd3786\"],[0.5555555555555556,\"#d8576b\"],[0.6666666666666666,\"#ed7953\"],[0.7777777777777778,\"#fb9f3a\"],[0.8888888888888888,\"#fdca26\"],[1.0,\"#f0f921\"]],\"sequentialminus\":[[0.0,\"#0d0887\"],[0.1111111111111111,\"#46039f\"],[0.2222222222222222,\"#7201a8\"],[0.3333333333333333,\"#9c179e\"],[0.4444444444444444,\"#bd3786\"],[0.5555555555555556,\"#d8576b\"],[0.6666666666666666,\"#ed7953\"],[0.7777777777777778,\"#fb9f3a\"],[0.8888888888888888,\"#fdca26\"],[1.0,\"#f0f921\"]],\"diverging\":[[0,\"#8e0152\"],[0.1,\"#c51b7d\"],[0.2,\"#de77ae\"],[0.3,\"#f1b6da\"],[0.4,\"#fde0ef\"],[0.5,\"#f7f7f7\"],[0.6,\"#e6f5d0\"],[0.7,\"#b8e186\"],[0.8,\"#7fbc41\"],[0.9,\"#4d9221\"],[1,\"#276419\"]]},\"xaxis\":{\"gridcolor\":\"white\",\"linecolor\":\"white\",\"ticks\":\"\",\"title\":{\"standoff\":15},\"zerolinecolor\":\"white\",\"automargin\":true,\"zerolinewidth\":2},\"yaxis\":{\"gridcolor\":\"white\",\"linecolor\":\"white\",\"ticks\":\"\",\"title\":{\"standoff\":15},\"zerolinecolor\":\"white\",\"automargin\":true,\"zerolinewidth\":2},\"scene\":{\"xaxis\":{\"backgroundcolor\":\"#E5ECF6\",\"gridcolor\":\"white\",\"linecolor\":\"white\",\"showbackground\":true,\"ticks\":\"\",\"zerolinecolor\":\"white\",\"gridwidth\":2},\"yaxis\":{\"backgroundcolor\":\"#E5ECF6\",\"gridcolor\":\"white\",\"linecolor\":\"white\",\"showbackground\":true,\"ticks\":\"\",\"zerolinecolor\":\"white\",\"gridwidth\":2},\"zaxis\":{\"backgroundcolor\":\"#E5ECF6\",\"gridcolor\":\"white\",\"linecolor\":\"white\",\"showbackground\":true,\"ticks\":\"\",\"zerolinecolor\":\"white\",\"gridwidth\":2}},\"shapedefaults\":{\"line\":{\"color\":\"#2a3f5f\"}},\"annotationdefaults\":{\"arrowcolor\":\"#2a3f5f\",\"arrowhead\":0,\"arrowwidth\":1},\"geo\":{\"bgcolor\":\"white\",\"landcolor\":\"#E5ECF6\",\"subunitcolor\":\"white\",\"showland\":true,\"showlakes\":true,\"lakecolor\":\"white\"},\"title\":{\"x\":0.05},\"mapbox\":{\"style\":\"light\"}}},\"xaxis\":{\"anchor\":\"y\",\"domain\":[0.0,1.0],\"title\":{\"text\":\"deaths\"}},\"yaxis\":{\"anchor\":\"x\",\"domain\":[0.0,1.0],\"title\":{\"text\":\"count\"}},\"legend\":{\"tracegroupgap\":0},\"margin\":{\"t\":60},\"barmode\":\"relative\"},                        {\"responsive\": true}                    ).then(function(){\n",
              "                            \n",
              "var gd = document.getElementById('79d7cb38-aa61-4905-9763-666769f37a01');\n",
              "var x = new MutationObserver(function (mutations, observer) {{\n",
              "        var display = window.getComputedStyle(gd).display;\n",
              "        if (!display || display === 'none') {{\n",
              "            console.log([gd, 'removed!']);\n",
              "            Plotly.purge(gd);\n",
              "            observer.disconnect();\n",
              "        }}\n",
              "}});\n",
              "\n",
              "// Listen for the removal of the full notebook cells\n",
              "var notebookContainer = gd.closest('#notebook-container');\n",
              "if (notebookContainer) {{\n",
              "    x.observe(notebookContainer, {childList: true});\n",
              "}}\n",
              "\n",
              "// Listen for the clearing of the current output cell\n",
              "var outputEl = gd.closest('.output');\n",
              "if (outputEl) {{\n",
              "    x.observe(outputEl, {childList: true});\n",
              "}}\n",
              "\n",
              "                        })                };                            </script>        </div>\n",
              "</body>\n",
              "</html>"
            ]
          },
          "metadata": {}
        }
      ]
    },
    {
      "cell_type": "code",
      "source": [
        "#country wise cases percentage\n",
        "px.pie(new_df,values='cases',names='country_name')"
      ],
      "metadata": {
        "colab": {
          "base_uri": "https://localhost:8080/",
          "height": 542
        },
        "id": "Fbxrs-b85PFm",
        "outputId": "a194d06c-6bae-4f12-d5a9-fd03277a9d18"
      },
      "execution_count": 29,
      "outputs": [
        {
          "output_type": "display_data",
          "data": {
            "text/html": [
              "<html>\n",
              "<head><meta charset=\"utf-8\" /></head>\n",
              "<body>\n",
              "    <div>            <script src=\"https://cdnjs.cloudflare.com/ajax/libs/mathjax/2.7.5/MathJax.js?config=TeX-AMS-MML_SVG\"></script><script type=\"text/javascript\">if (window.MathJax && window.MathJax.Hub && window.MathJax.Hub.Config) {window.MathJax.Hub.Config({SVG: {font: \"STIX-Web\"}});}</script>                <script type=\"text/javascript\">window.PlotlyConfig = {MathJaxConfig: 'local'};</script>\n",
              "        <script src=\"https://cdn.plot.ly/plotly-2.18.2.min.js\"></script>                <div id=\"17b1e4bf-f951-4f0d-aa0b-548d8b1fbb4d\" class=\"plotly-graph-div\" style=\"height:525px; width:100%;\"></div>            <script type=\"text/javascript\">                                    window.PLOTLYENV=window.PLOTLYENV || {};                                    if (document.getElementById(\"17b1e4bf-f951-4f0d-aa0b-548d8b1fbb4d\")) {                    Plotly.newPlot(                        \"17b1e4bf-f951-4f0d-aa0b-548d8b1fbb4d\",                        [{\"domain\":{\"x\":[0.0,1.0],\"y\":[0.0,1.0]},\"hovertemplate\":\"country_name=%{label}<br>cases=%{value}<extra></extra>\",\"labels\":[\"USA\",\"India\",\"Brazil\",\"France\",\"Germany\",\"UK\",\"Russia\",\"S. Korea\",\"Italy\",\"Turkey\",\"Spain\",\"Vietnam\",\"Argentina\",\"Netherlands\",\"Japan\",\"Iran\",\"Colombia\",\"Indonesia\",\"Poland\",\"Mexico\",\"Australia\",\"Ukraine\",\"Malaysia\",\"Thailand\",\"Austria\"],\"legendgroup\":\"\",\"name\":\"\",\"showlegend\":true,\"values\":[82649779,43057545,30345654,28244977,24109433,21933206,18137137,16895194,16079209,15016270,11786036,10563502,9060923,8035603,7621562,7216040,6091094,6043768,5991197,5733514,5689377,4997224,4427067,4165874,4104859],\"type\":\"pie\"}],                        {\"template\":{\"data\":{\"histogram2dcontour\":[{\"type\":\"histogram2dcontour\",\"colorbar\":{\"outlinewidth\":0,\"ticks\":\"\"},\"colorscale\":[[0.0,\"#0d0887\"],[0.1111111111111111,\"#46039f\"],[0.2222222222222222,\"#7201a8\"],[0.3333333333333333,\"#9c179e\"],[0.4444444444444444,\"#bd3786\"],[0.5555555555555556,\"#d8576b\"],[0.6666666666666666,\"#ed7953\"],[0.7777777777777778,\"#fb9f3a\"],[0.8888888888888888,\"#fdca26\"],[1.0,\"#f0f921\"]]}],\"choropleth\":[{\"type\":\"choropleth\",\"colorbar\":{\"outlinewidth\":0,\"ticks\":\"\"}}],\"histogram2d\":[{\"type\":\"histogram2d\",\"colorbar\":{\"outlinewidth\":0,\"ticks\":\"\"},\"colorscale\":[[0.0,\"#0d0887\"],[0.1111111111111111,\"#46039f\"],[0.2222222222222222,\"#7201a8\"],[0.3333333333333333,\"#9c179e\"],[0.4444444444444444,\"#bd3786\"],[0.5555555555555556,\"#d8576b\"],[0.6666666666666666,\"#ed7953\"],[0.7777777777777778,\"#fb9f3a\"],[0.8888888888888888,\"#fdca26\"],[1.0,\"#f0f921\"]]}],\"heatmap\":[{\"type\":\"heatmap\",\"colorbar\":{\"outlinewidth\":0,\"ticks\":\"\"},\"colorscale\":[[0.0,\"#0d0887\"],[0.1111111111111111,\"#46039f\"],[0.2222222222222222,\"#7201a8\"],[0.3333333333333333,\"#9c179e\"],[0.4444444444444444,\"#bd3786\"],[0.5555555555555556,\"#d8576b\"],[0.6666666666666666,\"#ed7953\"],[0.7777777777777778,\"#fb9f3a\"],[0.8888888888888888,\"#fdca26\"],[1.0,\"#f0f921\"]]}],\"heatmapgl\":[{\"type\":\"heatmapgl\",\"colorbar\":{\"outlinewidth\":0,\"ticks\":\"\"},\"colorscale\":[[0.0,\"#0d0887\"],[0.1111111111111111,\"#46039f\"],[0.2222222222222222,\"#7201a8\"],[0.3333333333333333,\"#9c179e\"],[0.4444444444444444,\"#bd3786\"],[0.5555555555555556,\"#d8576b\"],[0.6666666666666666,\"#ed7953\"],[0.7777777777777778,\"#fb9f3a\"],[0.8888888888888888,\"#fdca26\"],[1.0,\"#f0f921\"]]}],\"contourcarpet\":[{\"type\":\"contourcarpet\",\"colorbar\":{\"outlinewidth\":0,\"ticks\":\"\"}}],\"contour\":[{\"type\":\"contour\",\"colorbar\":{\"outlinewidth\":0,\"ticks\":\"\"},\"colorscale\":[[0.0,\"#0d0887\"],[0.1111111111111111,\"#46039f\"],[0.2222222222222222,\"#7201a8\"],[0.3333333333333333,\"#9c179e\"],[0.4444444444444444,\"#bd3786\"],[0.5555555555555556,\"#d8576b\"],[0.6666666666666666,\"#ed7953\"],[0.7777777777777778,\"#fb9f3a\"],[0.8888888888888888,\"#fdca26\"],[1.0,\"#f0f921\"]]}],\"surface\":[{\"type\":\"surface\",\"colorbar\":{\"outlinewidth\":0,\"ticks\":\"\"},\"colorscale\":[[0.0,\"#0d0887\"],[0.1111111111111111,\"#46039f\"],[0.2222222222222222,\"#7201a8\"],[0.3333333333333333,\"#9c179e\"],[0.4444444444444444,\"#bd3786\"],[0.5555555555555556,\"#d8576b\"],[0.6666666666666666,\"#ed7953\"],[0.7777777777777778,\"#fb9f3a\"],[0.8888888888888888,\"#fdca26\"],[1.0,\"#f0f921\"]]}],\"mesh3d\":[{\"type\":\"mesh3d\",\"colorbar\":{\"outlinewidth\":0,\"ticks\":\"\"}}],\"scatter\":[{\"fillpattern\":{\"fillmode\":\"overlay\",\"size\":10,\"solidity\":0.2},\"type\":\"scatter\"}],\"parcoords\":[{\"type\":\"parcoords\",\"line\":{\"colorbar\":{\"outlinewidth\":0,\"ticks\":\"\"}}}],\"scatterpolargl\":[{\"type\":\"scatterpolargl\",\"marker\":{\"colorbar\":{\"outlinewidth\":0,\"ticks\":\"\"}}}],\"bar\":[{\"error_x\":{\"color\":\"#2a3f5f\"},\"error_y\":{\"color\":\"#2a3f5f\"},\"marker\":{\"line\":{\"color\":\"#E5ECF6\",\"width\":0.5},\"pattern\":{\"fillmode\":\"overlay\",\"size\":10,\"solidity\":0.2}},\"type\":\"bar\"}],\"scattergeo\":[{\"type\":\"scattergeo\",\"marker\":{\"colorbar\":{\"outlinewidth\":0,\"ticks\":\"\"}}}],\"scatterpolar\":[{\"type\":\"scatterpolar\",\"marker\":{\"colorbar\":{\"outlinewidth\":0,\"ticks\":\"\"}}}],\"histogram\":[{\"marker\":{\"pattern\":{\"fillmode\":\"overlay\",\"size\":10,\"solidity\":0.2}},\"type\":\"histogram\"}],\"scattergl\":[{\"type\":\"scattergl\",\"marker\":{\"colorbar\":{\"outlinewidth\":0,\"ticks\":\"\"}}}],\"scatter3d\":[{\"type\":\"scatter3d\",\"line\":{\"colorbar\":{\"outlinewidth\":0,\"ticks\":\"\"}},\"marker\":{\"colorbar\":{\"outlinewidth\":0,\"ticks\":\"\"}}}],\"scattermapbox\":[{\"type\":\"scattermapbox\",\"marker\":{\"colorbar\":{\"outlinewidth\":0,\"ticks\":\"\"}}}],\"scatterternary\":[{\"type\":\"scatterternary\",\"marker\":{\"colorbar\":{\"outlinewidth\":0,\"ticks\":\"\"}}}],\"scattercarpet\":[{\"type\":\"scattercarpet\",\"marker\":{\"colorbar\":{\"outlinewidth\":0,\"ticks\":\"\"}}}],\"carpet\":[{\"aaxis\":{\"endlinecolor\":\"#2a3f5f\",\"gridcolor\":\"white\",\"linecolor\":\"white\",\"minorgridcolor\":\"white\",\"startlinecolor\":\"#2a3f5f\"},\"baxis\":{\"endlinecolor\":\"#2a3f5f\",\"gridcolor\":\"white\",\"linecolor\":\"white\",\"minorgridcolor\":\"white\",\"startlinecolor\":\"#2a3f5f\"},\"type\":\"carpet\"}],\"table\":[{\"cells\":{\"fill\":{\"color\":\"#EBF0F8\"},\"line\":{\"color\":\"white\"}},\"header\":{\"fill\":{\"color\":\"#C8D4E3\"},\"line\":{\"color\":\"white\"}},\"type\":\"table\"}],\"barpolar\":[{\"marker\":{\"line\":{\"color\":\"#E5ECF6\",\"width\":0.5},\"pattern\":{\"fillmode\":\"overlay\",\"size\":10,\"solidity\":0.2}},\"type\":\"barpolar\"}],\"pie\":[{\"automargin\":true,\"type\":\"pie\"}]},\"layout\":{\"autotypenumbers\":\"strict\",\"colorway\":[\"#636efa\",\"#EF553B\",\"#00cc96\",\"#ab63fa\",\"#FFA15A\",\"#19d3f3\",\"#FF6692\",\"#B6E880\",\"#FF97FF\",\"#FECB52\"],\"font\":{\"color\":\"#2a3f5f\"},\"hovermode\":\"closest\",\"hoverlabel\":{\"align\":\"left\"},\"paper_bgcolor\":\"white\",\"plot_bgcolor\":\"#E5ECF6\",\"polar\":{\"bgcolor\":\"#E5ECF6\",\"angularaxis\":{\"gridcolor\":\"white\",\"linecolor\":\"white\",\"ticks\":\"\"},\"radialaxis\":{\"gridcolor\":\"white\",\"linecolor\":\"white\",\"ticks\":\"\"}},\"ternary\":{\"bgcolor\":\"#E5ECF6\",\"aaxis\":{\"gridcolor\":\"white\",\"linecolor\":\"white\",\"ticks\":\"\"},\"baxis\":{\"gridcolor\":\"white\",\"linecolor\":\"white\",\"ticks\":\"\"},\"caxis\":{\"gridcolor\":\"white\",\"linecolor\":\"white\",\"ticks\":\"\"}},\"coloraxis\":{\"colorbar\":{\"outlinewidth\":0,\"ticks\":\"\"}},\"colorscale\":{\"sequential\":[[0.0,\"#0d0887\"],[0.1111111111111111,\"#46039f\"],[0.2222222222222222,\"#7201a8\"],[0.3333333333333333,\"#9c179e\"],[0.4444444444444444,\"#bd3786\"],[0.5555555555555556,\"#d8576b\"],[0.6666666666666666,\"#ed7953\"],[0.7777777777777778,\"#fb9f3a\"],[0.8888888888888888,\"#fdca26\"],[1.0,\"#f0f921\"]],\"sequentialminus\":[[0.0,\"#0d0887\"],[0.1111111111111111,\"#46039f\"],[0.2222222222222222,\"#7201a8\"],[0.3333333333333333,\"#9c179e\"],[0.4444444444444444,\"#bd3786\"],[0.5555555555555556,\"#d8576b\"],[0.6666666666666666,\"#ed7953\"],[0.7777777777777778,\"#fb9f3a\"],[0.8888888888888888,\"#fdca26\"],[1.0,\"#f0f921\"]],\"diverging\":[[0,\"#8e0152\"],[0.1,\"#c51b7d\"],[0.2,\"#de77ae\"],[0.3,\"#f1b6da\"],[0.4,\"#fde0ef\"],[0.5,\"#f7f7f7\"],[0.6,\"#e6f5d0\"],[0.7,\"#b8e186\"],[0.8,\"#7fbc41\"],[0.9,\"#4d9221\"],[1,\"#276419\"]]},\"xaxis\":{\"gridcolor\":\"white\",\"linecolor\":\"white\",\"ticks\":\"\",\"title\":{\"standoff\":15},\"zerolinecolor\":\"white\",\"automargin\":true,\"zerolinewidth\":2},\"yaxis\":{\"gridcolor\":\"white\",\"linecolor\":\"white\",\"ticks\":\"\",\"title\":{\"standoff\":15},\"zerolinecolor\":\"white\",\"automargin\":true,\"zerolinewidth\":2},\"scene\":{\"xaxis\":{\"backgroundcolor\":\"#E5ECF6\",\"gridcolor\":\"white\",\"linecolor\":\"white\",\"showbackground\":true,\"ticks\":\"\",\"zerolinecolor\":\"white\",\"gridwidth\":2},\"yaxis\":{\"backgroundcolor\":\"#E5ECF6\",\"gridcolor\":\"white\",\"linecolor\":\"white\",\"showbackground\":true,\"ticks\":\"\",\"zerolinecolor\":\"white\",\"gridwidth\":2},\"zaxis\":{\"backgroundcolor\":\"#E5ECF6\",\"gridcolor\":\"white\",\"linecolor\":\"white\",\"showbackground\":true,\"ticks\":\"\",\"zerolinecolor\":\"white\",\"gridwidth\":2}},\"shapedefaults\":{\"line\":{\"color\":\"#2a3f5f\"}},\"annotationdefaults\":{\"arrowcolor\":\"#2a3f5f\",\"arrowhead\":0,\"arrowwidth\":1},\"geo\":{\"bgcolor\":\"white\",\"landcolor\":\"#E5ECF6\",\"subunitcolor\":\"white\",\"showland\":true,\"showlakes\":true,\"lakecolor\":\"white\"},\"title\":{\"x\":0.05},\"mapbox\":{\"style\":\"light\"}}},\"legend\":{\"tracegroupgap\":0},\"margin\":{\"t\":60}},                        {\"responsive\": true}                    ).then(function(){\n",
              "                            \n",
              "var gd = document.getElementById('17b1e4bf-f951-4f0d-aa0b-548d8b1fbb4d');\n",
              "var x = new MutationObserver(function (mutations, observer) {{\n",
              "        var display = window.getComputedStyle(gd).display;\n",
              "        if (!display || display === 'none') {{\n",
              "            console.log([gd, 'removed!']);\n",
              "            Plotly.purge(gd);\n",
              "            observer.disconnect();\n",
              "        }}\n",
              "}});\n",
              "\n",
              "// Listen for the removal of the full notebook cells\n",
              "var notebookContainer = gd.closest('#notebook-container');\n",
              "if (notebookContainer) {{\n",
              "    x.observe(notebookContainer, {childList: true});\n",
              "}}\n",
              "\n",
              "// Listen for the clearing of the current output cell\n",
              "var outputEl = gd.closest('.output');\n",
              "if (outputEl) {{\n",
              "    x.observe(outputEl, {childList: true});\n",
              "}}\n",
              "\n",
              "                        })                };                            </script>        </div>\n",
              "</body>\n",
              "</html>"
            ]
          },
          "metadata": {}
        }
      ]
    },
    {
      "cell_type": "code",
      "source": [
        "#country wise deaths percentage\n",
        "px.pie(new_df,values='deaths',names='country_name')\n"
      ],
      "metadata": {
        "colab": {
          "base_uri": "https://localhost:8080/",
          "height": 542
        },
        "id": "8GxSgiBe4pqS",
        "outputId": "9b7095a8-10af-4eba-b397-87f42d37beab"
      },
      "execution_count": 30,
      "outputs": [
        {
          "output_type": "display_data",
          "data": {
            "text/html": [
              "<html>\n",
              "<head><meta charset=\"utf-8\" /></head>\n",
              "<body>\n",
              "    <div>            <script src=\"https://cdnjs.cloudflare.com/ajax/libs/mathjax/2.7.5/MathJax.js?config=TeX-AMS-MML_SVG\"></script><script type=\"text/javascript\">if (window.MathJax && window.MathJax.Hub && window.MathJax.Hub.Config) {window.MathJax.Hub.Config({SVG: {font: \"STIX-Web\"}});}</script>                <script type=\"text/javascript\">window.PlotlyConfig = {MathJaxConfig: 'local'};</script>\n",
              "        <script src=\"https://cdn.plot.ly/plotly-2.18.2.min.js\"></script>                <div id=\"6a02f915-5dcb-4310-b909-2c16c18c6ddc\" class=\"plotly-graph-div\" style=\"height:525px; width:100%;\"></div>            <script type=\"text/javascript\">                                    window.PLOTLYENV=window.PLOTLYENV || {};                                    if (document.getElementById(\"6a02f915-5dcb-4310-b909-2c16c18c6ddc\")) {                    Plotly.newPlot(                        \"6a02f915-5dcb-4310-b909-2c16c18c6ddc\",                        [{\"domain\":{\"x\":[0.0,1.0],\"y\":[0.0,1.0]},\"hovertemplate\":\"country_name=%{label}<br>deaths=%{value}<extra></extra>\",\"labels\":[\"USA\",\"India\",\"Brazil\",\"France\",\"Germany\",\"UK\",\"Russia\",\"S. Korea\",\"Italy\",\"Turkey\",\"Spain\",\"Vietnam\",\"Argentina\",\"Netherlands\",\"Japan\",\"Iran\",\"Colombia\",\"Indonesia\",\"Poland\",\"Mexico\",\"Australia\",\"Ukraine\",\"Malaysia\",\"Thailand\",\"Austria\"],\"legendgroup\":\"\",\"name\":\"\",\"showlegend\":true,\"values\":[1018316,522193,662663,145020,134624,173352,374902,22133,162609,98676,103908,43013,128344,22206,29284,140975,139771,156067,115948,324117,6991,108306,35491,27778,18047],\"type\":\"pie\"}],                        {\"template\":{\"data\":{\"histogram2dcontour\":[{\"type\":\"histogram2dcontour\",\"colorbar\":{\"outlinewidth\":0,\"ticks\":\"\"},\"colorscale\":[[0.0,\"#0d0887\"],[0.1111111111111111,\"#46039f\"],[0.2222222222222222,\"#7201a8\"],[0.3333333333333333,\"#9c179e\"],[0.4444444444444444,\"#bd3786\"],[0.5555555555555556,\"#d8576b\"],[0.6666666666666666,\"#ed7953\"],[0.7777777777777778,\"#fb9f3a\"],[0.8888888888888888,\"#fdca26\"],[1.0,\"#f0f921\"]]}],\"choropleth\":[{\"type\":\"choropleth\",\"colorbar\":{\"outlinewidth\":0,\"ticks\":\"\"}}],\"histogram2d\":[{\"type\":\"histogram2d\",\"colorbar\":{\"outlinewidth\":0,\"ticks\":\"\"},\"colorscale\":[[0.0,\"#0d0887\"],[0.1111111111111111,\"#46039f\"],[0.2222222222222222,\"#7201a8\"],[0.3333333333333333,\"#9c179e\"],[0.4444444444444444,\"#bd3786\"],[0.5555555555555556,\"#d8576b\"],[0.6666666666666666,\"#ed7953\"],[0.7777777777777778,\"#fb9f3a\"],[0.8888888888888888,\"#fdca26\"],[1.0,\"#f0f921\"]]}],\"heatmap\":[{\"type\":\"heatmap\",\"colorbar\":{\"outlinewidth\":0,\"ticks\":\"\"},\"colorscale\":[[0.0,\"#0d0887\"],[0.1111111111111111,\"#46039f\"],[0.2222222222222222,\"#7201a8\"],[0.3333333333333333,\"#9c179e\"],[0.4444444444444444,\"#bd3786\"],[0.5555555555555556,\"#d8576b\"],[0.6666666666666666,\"#ed7953\"],[0.7777777777777778,\"#fb9f3a\"],[0.8888888888888888,\"#fdca26\"],[1.0,\"#f0f921\"]]}],\"heatmapgl\":[{\"type\":\"heatmapgl\",\"colorbar\":{\"outlinewidth\":0,\"ticks\":\"\"},\"colorscale\":[[0.0,\"#0d0887\"],[0.1111111111111111,\"#46039f\"],[0.2222222222222222,\"#7201a8\"],[0.3333333333333333,\"#9c179e\"],[0.4444444444444444,\"#bd3786\"],[0.5555555555555556,\"#d8576b\"],[0.6666666666666666,\"#ed7953\"],[0.7777777777777778,\"#fb9f3a\"],[0.8888888888888888,\"#fdca26\"],[1.0,\"#f0f921\"]]}],\"contourcarpet\":[{\"type\":\"contourcarpet\",\"colorbar\":{\"outlinewidth\":0,\"ticks\":\"\"}}],\"contour\":[{\"type\":\"contour\",\"colorbar\":{\"outlinewidth\":0,\"ticks\":\"\"},\"colorscale\":[[0.0,\"#0d0887\"],[0.1111111111111111,\"#46039f\"],[0.2222222222222222,\"#7201a8\"],[0.3333333333333333,\"#9c179e\"],[0.4444444444444444,\"#bd3786\"],[0.5555555555555556,\"#d8576b\"],[0.6666666666666666,\"#ed7953\"],[0.7777777777777778,\"#fb9f3a\"],[0.8888888888888888,\"#fdca26\"],[1.0,\"#f0f921\"]]}],\"surface\":[{\"type\":\"surface\",\"colorbar\":{\"outlinewidth\":0,\"ticks\":\"\"},\"colorscale\":[[0.0,\"#0d0887\"],[0.1111111111111111,\"#46039f\"],[0.2222222222222222,\"#7201a8\"],[0.3333333333333333,\"#9c179e\"],[0.4444444444444444,\"#bd3786\"],[0.5555555555555556,\"#d8576b\"],[0.6666666666666666,\"#ed7953\"],[0.7777777777777778,\"#fb9f3a\"],[0.8888888888888888,\"#fdca26\"],[1.0,\"#f0f921\"]]}],\"mesh3d\":[{\"type\":\"mesh3d\",\"colorbar\":{\"outlinewidth\":0,\"ticks\":\"\"}}],\"scatter\":[{\"fillpattern\":{\"fillmode\":\"overlay\",\"size\":10,\"solidity\":0.2},\"type\":\"scatter\"}],\"parcoords\":[{\"type\":\"parcoords\",\"line\":{\"colorbar\":{\"outlinewidth\":0,\"ticks\":\"\"}}}],\"scatterpolargl\":[{\"type\":\"scatterpolargl\",\"marker\":{\"colorbar\":{\"outlinewidth\":0,\"ticks\":\"\"}}}],\"bar\":[{\"error_x\":{\"color\":\"#2a3f5f\"},\"error_y\":{\"color\":\"#2a3f5f\"},\"marker\":{\"line\":{\"color\":\"#E5ECF6\",\"width\":0.5},\"pattern\":{\"fillmode\":\"overlay\",\"size\":10,\"solidity\":0.2}},\"type\":\"bar\"}],\"scattergeo\":[{\"type\":\"scattergeo\",\"marker\":{\"colorbar\":{\"outlinewidth\":0,\"ticks\":\"\"}}}],\"scatterpolar\":[{\"type\":\"scatterpolar\",\"marker\":{\"colorbar\":{\"outlinewidth\":0,\"ticks\":\"\"}}}],\"histogram\":[{\"marker\":{\"pattern\":{\"fillmode\":\"overlay\",\"size\":10,\"solidity\":0.2}},\"type\":\"histogram\"}],\"scattergl\":[{\"type\":\"scattergl\",\"marker\":{\"colorbar\":{\"outlinewidth\":0,\"ticks\":\"\"}}}],\"scatter3d\":[{\"type\":\"scatter3d\",\"line\":{\"colorbar\":{\"outlinewidth\":0,\"ticks\":\"\"}},\"marker\":{\"colorbar\":{\"outlinewidth\":0,\"ticks\":\"\"}}}],\"scattermapbox\":[{\"type\":\"scattermapbox\",\"marker\":{\"colorbar\":{\"outlinewidth\":0,\"ticks\":\"\"}}}],\"scatterternary\":[{\"type\":\"scatterternary\",\"marker\":{\"colorbar\":{\"outlinewidth\":0,\"ticks\":\"\"}}}],\"scattercarpet\":[{\"type\":\"scattercarpet\",\"marker\":{\"colorbar\":{\"outlinewidth\":0,\"ticks\":\"\"}}}],\"carpet\":[{\"aaxis\":{\"endlinecolor\":\"#2a3f5f\",\"gridcolor\":\"white\",\"linecolor\":\"white\",\"minorgridcolor\":\"white\",\"startlinecolor\":\"#2a3f5f\"},\"baxis\":{\"endlinecolor\":\"#2a3f5f\",\"gridcolor\":\"white\",\"linecolor\":\"white\",\"minorgridcolor\":\"white\",\"startlinecolor\":\"#2a3f5f\"},\"type\":\"carpet\"}],\"table\":[{\"cells\":{\"fill\":{\"color\":\"#EBF0F8\"},\"line\":{\"color\":\"white\"}},\"header\":{\"fill\":{\"color\":\"#C8D4E3\"},\"line\":{\"color\":\"white\"}},\"type\":\"table\"}],\"barpolar\":[{\"marker\":{\"line\":{\"color\":\"#E5ECF6\",\"width\":0.5},\"pattern\":{\"fillmode\":\"overlay\",\"size\":10,\"solidity\":0.2}},\"type\":\"barpolar\"}],\"pie\":[{\"automargin\":true,\"type\":\"pie\"}]},\"layout\":{\"autotypenumbers\":\"strict\",\"colorway\":[\"#636efa\",\"#EF553B\",\"#00cc96\",\"#ab63fa\",\"#FFA15A\",\"#19d3f3\",\"#FF6692\",\"#B6E880\",\"#FF97FF\",\"#FECB52\"],\"font\":{\"color\":\"#2a3f5f\"},\"hovermode\":\"closest\",\"hoverlabel\":{\"align\":\"left\"},\"paper_bgcolor\":\"white\",\"plot_bgcolor\":\"#E5ECF6\",\"polar\":{\"bgcolor\":\"#E5ECF6\",\"angularaxis\":{\"gridcolor\":\"white\",\"linecolor\":\"white\",\"ticks\":\"\"},\"radialaxis\":{\"gridcolor\":\"white\",\"linecolor\":\"white\",\"ticks\":\"\"}},\"ternary\":{\"bgcolor\":\"#E5ECF6\",\"aaxis\":{\"gridcolor\":\"white\",\"linecolor\":\"white\",\"ticks\":\"\"},\"baxis\":{\"gridcolor\":\"white\",\"linecolor\":\"white\",\"ticks\":\"\"},\"caxis\":{\"gridcolor\":\"white\",\"linecolor\":\"white\",\"ticks\":\"\"}},\"coloraxis\":{\"colorbar\":{\"outlinewidth\":0,\"ticks\":\"\"}},\"colorscale\":{\"sequential\":[[0.0,\"#0d0887\"],[0.1111111111111111,\"#46039f\"],[0.2222222222222222,\"#7201a8\"],[0.3333333333333333,\"#9c179e\"],[0.4444444444444444,\"#bd3786\"],[0.5555555555555556,\"#d8576b\"],[0.6666666666666666,\"#ed7953\"],[0.7777777777777778,\"#fb9f3a\"],[0.8888888888888888,\"#fdca26\"],[1.0,\"#f0f921\"]],\"sequentialminus\":[[0.0,\"#0d0887\"],[0.1111111111111111,\"#46039f\"],[0.2222222222222222,\"#7201a8\"],[0.3333333333333333,\"#9c179e\"],[0.4444444444444444,\"#bd3786\"],[0.5555555555555556,\"#d8576b\"],[0.6666666666666666,\"#ed7953\"],[0.7777777777777778,\"#fb9f3a\"],[0.8888888888888888,\"#fdca26\"],[1.0,\"#f0f921\"]],\"diverging\":[[0,\"#8e0152\"],[0.1,\"#c51b7d\"],[0.2,\"#de77ae\"],[0.3,\"#f1b6da\"],[0.4,\"#fde0ef\"],[0.5,\"#f7f7f7\"],[0.6,\"#e6f5d0\"],[0.7,\"#b8e186\"],[0.8,\"#7fbc41\"],[0.9,\"#4d9221\"],[1,\"#276419\"]]},\"xaxis\":{\"gridcolor\":\"white\",\"linecolor\":\"white\",\"ticks\":\"\",\"title\":{\"standoff\":15},\"zerolinecolor\":\"white\",\"automargin\":true,\"zerolinewidth\":2},\"yaxis\":{\"gridcolor\":\"white\",\"linecolor\":\"white\",\"ticks\":\"\",\"title\":{\"standoff\":15},\"zerolinecolor\":\"white\",\"automargin\":true,\"zerolinewidth\":2},\"scene\":{\"xaxis\":{\"backgroundcolor\":\"#E5ECF6\",\"gridcolor\":\"white\",\"linecolor\":\"white\",\"showbackground\":true,\"ticks\":\"\",\"zerolinecolor\":\"white\",\"gridwidth\":2},\"yaxis\":{\"backgroundcolor\":\"#E5ECF6\",\"gridcolor\":\"white\",\"linecolor\":\"white\",\"showbackground\":true,\"ticks\":\"\",\"zerolinecolor\":\"white\",\"gridwidth\":2},\"zaxis\":{\"backgroundcolor\":\"#E5ECF6\",\"gridcolor\":\"white\",\"linecolor\":\"white\",\"showbackground\":true,\"ticks\":\"\",\"zerolinecolor\":\"white\",\"gridwidth\":2}},\"shapedefaults\":{\"line\":{\"color\":\"#2a3f5f\"}},\"annotationdefaults\":{\"arrowcolor\":\"#2a3f5f\",\"arrowhead\":0,\"arrowwidth\":1},\"geo\":{\"bgcolor\":\"white\",\"landcolor\":\"#E5ECF6\",\"subunitcolor\":\"white\",\"showland\":true,\"showlakes\":true,\"lakecolor\":\"white\"},\"title\":{\"x\":0.05},\"mapbox\":{\"style\":\"light\"}}},\"legend\":{\"tracegroupgap\":0},\"margin\":{\"t\":60}},                        {\"responsive\": true}                    ).then(function(){\n",
              "                            \n",
              "var gd = document.getElementById('6a02f915-5dcb-4310-b909-2c16c18c6ddc');\n",
              "var x = new MutationObserver(function (mutations, observer) {{\n",
              "        var display = window.getComputedStyle(gd).display;\n",
              "        if (!display || display === 'none') {{\n",
              "            console.log([gd, 'removed!']);\n",
              "            Plotly.purge(gd);\n",
              "            observer.disconnect();\n",
              "        }}\n",
              "}});\n",
              "\n",
              "// Listen for the removal of the full notebook cells\n",
              "var notebookContainer = gd.closest('#notebook-container');\n",
              "if (notebookContainer) {{\n",
              "    x.observe(notebookContainer, {childList: true});\n",
              "}}\n",
              "\n",
              "// Listen for the clearing of the current output cell\n",
              "var outputEl = gd.closest('.output');\n",
              "if (outputEl) {{\n",
              "    x.observe(outputEl, {childList: true});\n",
              "}}\n",
              "\n",
              "                        })                };                            </script>        </div>\n",
              "</body>\n",
              "</html>"
            ]
          },
          "metadata": {}
        }
      ]
    },
    {
      "cell_type": "code",
      "source": [
        "#country wise deaths per 1 m population\n",
        "px.pie(new_df,values='deaths_per_1m_population',names='country_name')"
      ],
      "metadata": {
        "colab": {
          "base_uri": "https://localhost:8080/",
          "height": 542
        },
        "id": "XaA9h6dK4_9g",
        "outputId": "6ff574ce-e194-446c-8bac-2b695b0769d5"
      },
      "execution_count": 31,
      "outputs": [
        {
          "output_type": "display_data",
          "data": {
            "text/html": [
              "<html>\n",
              "<head><meta charset=\"utf-8\" /></head>\n",
              "<body>\n",
              "    <div>            <script src=\"https://cdnjs.cloudflare.com/ajax/libs/mathjax/2.7.5/MathJax.js?config=TeX-AMS-MML_SVG\"></script><script type=\"text/javascript\">if (window.MathJax && window.MathJax.Hub && window.MathJax.Hub.Config) {window.MathJax.Hub.Config({SVG: {font: \"STIX-Web\"}});}</script>                <script type=\"text/javascript\">window.PlotlyConfig = {MathJaxConfig: 'local'};</script>\n",
              "        <script src=\"https://cdn.plot.ly/plotly-2.18.2.min.js\"></script>                <div id=\"195e3c16-9259-4262-b92a-2f7a79651bdf\" class=\"plotly-graph-div\" style=\"height:525px; width:100%;\"></div>            <script type=\"text/javascript\">                                    window.PLOTLYENV=window.PLOTLYENV || {};                                    if (document.getElementById(\"195e3c16-9259-4262-b92a-2f7a79651bdf\")) {                    Plotly.newPlot(                        \"195e3c16-9259-4262-b92a-2f7a79651bdf\",                        [{\"domain\":{\"x\":[0.0,1.0],\"y\":[0.0,1.0]},\"hovertemplate\":\"country_name=%{label}<br>deaths_per_1m_population=%{value}<extra></extra>\",\"labels\":[\"USA\",\"India\",\"Brazil\",\"France\",\"Germany\",\"UK\",\"Russia\",\"S. Korea\",\"Italy\",\"Turkey\",\"Spain\",\"Vietnam\",\"Argentina\",\"Netherlands\",\"Japan\",\"Iran\",\"Colombia\",\"Indonesia\",\"Poland\",\"Mexico\",\"Australia\",\"Ukraine\",\"Malaysia\",\"Thailand\",\"Austria\"],\"legendgroup\":\"\",\"name\":\"\",\"showlegend\":true,\"values\":[3044,372,3078,2213,1598,2530,2567,431,2697,1148,2221,435,2793,1291,233,1641,2695,560,3070,2467,269,2504,1072,396,1983],\"type\":\"pie\"}],                        {\"template\":{\"data\":{\"histogram2dcontour\":[{\"type\":\"histogram2dcontour\",\"colorbar\":{\"outlinewidth\":0,\"ticks\":\"\"},\"colorscale\":[[0.0,\"#0d0887\"],[0.1111111111111111,\"#46039f\"],[0.2222222222222222,\"#7201a8\"],[0.3333333333333333,\"#9c179e\"],[0.4444444444444444,\"#bd3786\"],[0.5555555555555556,\"#d8576b\"],[0.6666666666666666,\"#ed7953\"],[0.7777777777777778,\"#fb9f3a\"],[0.8888888888888888,\"#fdca26\"],[1.0,\"#f0f921\"]]}],\"choropleth\":[{\"type\":\"choropleth\",\"colorbar\":{\"outlinewidth\":0,\"ticks\":\"\"}}],\"histogram2d\":[{\"type\":\"histogram2d\",\"colorbar\":{\"outlinewidth\":0,\"ticks\":\"\"},\"colorscale\":[[0.0,\"#0d0887\"],[0.1111111111111111,\"#46039f\"],[0.2222222222222222,\"#7201a8\"],[0.3333333333333333,\"#9c179e\"],[0.4444444444444444,\"#bd3786\"],[0.5555555555555556,\"#d8576b\"],[0.6666666666666666,\"#ed7953\"],[0.7777777777777778,\"#fb9f3a\"],[0.8888888888888888,\"#fdca26\"],[1.0,\"#f0f921\"]]}],\"heatmap\":[{\"type\":\"heatmap\",\"colorbar\":{\"outlinewidth\":0,\"ticks\":\"\"},\"colorscale\":[[0.0,\"#0d0887\"],[0.1111111111111111,\"#46039f\"],[0.2222222222222222,\"#7201a8\"],[0.3333333333333333,\"#9c179e\"],[0.4444444444444444,\"#bd3786\"],[0.5555555555555556,\"#d8576b\"],[0.6666666666666666,\"#ed7953\"],[0.7777777777777778,\"#fb9f3a\"],[0.8888888888888888,\"#fdca26\"],[1.0,\"#f0f921\"]]}],\"heatmapgl\":[{\"type\":\"heatmapgl\",\"colorbar\":{\"outlinewidth\":0,\"ticks\":\"\"},\"colorscale\":[[0.0,\"#0d0887\"],[0.1111111111111111,\"#46039f\"],[0.2222222222222222,\"#7201a8\"],[0.3333333333333333,\"#9c179e\"],[0.4444444444444444,\"#bd3786\"],[0.5555555555555556,\"#d8576b\"],[0.6666666666666666,\"#ed7953\"],[0.7777777777777778,\"#fb9f3a\"],[0.8888888888888888,\"#fdca26\"],[1.0,\"#f0f921\"]]}],\"contourcarpet\":[{\"type\":\"contourcarpet\",\"colorbar\":{\"outlinewidth\":0,\"ticks\":\"\"}}],\"contour\":[{\"type\":\"contour\",\"colorbar\":{\"outlinewidth\":0,\"ticks\":\"\"},\"colorscale\":[[0.0,\"#0d0887\"],[0.1111111111111111,\"#46039f\"],[0.2222222222222222,\"#7201a8\"],[0.3333333333333333,\"#9c179e\"],[0.4444444444444444,\"#bd3786\"],[0.5555555555555556,\"#d8576b\"],[0.6666666666666666,\"#ed7953\"],[0.7777777777777778,\"#fb9f3a\"],[0.8888888888888888,\"#fdca26\"],[1.0,\"#f0f921\"]]}],\"surface\":[{\"type\":\"surface\",\"colorbar\":{\"outlinewidth\":0,\"ticks\":\"\"},\"colorscale\":[[0.0,\"#0d0887\"],[0.1111111111111111,\"#46039f\"],[0.2222222222222222,\"#7201a8\"],[0.3333333333333333,\"#9c179e\"],[0.4444444444444444,\"#bd3786\"],[0.5555555555555556,\"#d8576b\"],[0.6666666666666666,\"#ed7953\"],[0.7777777777777778,\"#fb9f3a\"],[0.8888888888888888,\"#fdca26\"],[1.0,\"#f0f921\"]]}],\"mesh3d\":[{\"type\":\"mesh3d\",\"colorbar\":{\"outlinewidth\":0,\"ticks\":\"\"}}],\"scatter\":[{\"fillpattern\":{\"fillmode\":\"overlay\",\"size\":10,\"solidity\":0.2},\"type\":\"scatter\"}],\"parcoords\":[{\"type\":\"parcoords\",\"line\":{\"colorbar\":{\"outlinewidth\":0,\"ticks\":\"\"}}}],\"scatterpolargl\":[{\"type\":\"scatterpolargl\",\"marker\":{\"colorbar\":{\"outlinewidth\":0,\"ticks\":\"\"}}}],\"bar\":[{\"error_x\":{\"color\":\"#2a3f5f\"},\"error_y\":{\"color\":\"#2a3f5f\"},\"marker\":{\"line\":{\"color\":\"#E5ECF6\",\"width\":0.5},\"pattern\":{\"fillmode\":\"overlay\",\"size\":10,\"solidity\":0.2}},\"type\":\"bar\"}],\"scattergeo\":[{\"type\":\"scattergeo\",\"marker\":{\"colorbar\":{\"outlinewidth\":0,\"ticks\":\"\"}}}],\"scatterpolar\":[{\"type\":\"scatterpolar\",\"marker\":{\"colorbar\":{\"outlinewidth\":0,\"ticks\":\"\"}}}],\"histogram\":[{\"marker\":{\"pattern\":{\"fillmode\":\"overlay\",\"size\":10,\"solidity\":0.2}},\"type\":\"histogram\"}],\"scattergl\":[{\"type\":\"scattergl\",\"marker\":{\"colorbar\":{\"outlinewidth\":0,\"ticks\":\"\"}}}],\"scatter3d\":[{\"type\":\"scatter3d\",\"line\":{\"colorbar\":{\"outlinewidth\":0,\"ticks\":\"\"}},\"marker\":{\"colorbar\":{\"outlinewidth\":0,\"ticks\":\"\"}}}],\"scattermapbox\":[{\"type\":\"scattermapbox\",\"marker\":{\"colorbar\":{\"outlinewidth\":0,\"ticks\":\"\"}}}],\"scatterternary\":[{\"type\":\"scatterternary\",\"marker\":{\"colorbar\":{\"outlinewidth\":0,\"ticks\":\"\"}}}],\"scattercarpet\":[{\"type\":\"scattercarpet\",\"marker\":{\"colorbar\":{\"outlinewidth\":0,\"ticks\":\"\"}}}],\"carpet\":[{\"aaxis\":{\"endlinecolor\":\"#2a3f5f\",\"gridcolor\":\"white\",\"linecolor\":\"white\",\"minorgridcolor\":\"white\",\"startlinecolor\":\"#2a3f5f\"},\"baxis\":{\"endlinecolor\":\"#2a3f5f\",\"gridcolor\":\"white\",\"linecolor\":\"white\",\"minorgridcolor\":\"white\",\"startlinecolor\":\"#2a3f5f\"},\"type\":\"carpet\"}],\"table\":[{\"cells\":{\"fill\":{\"color\":\"#EBF0F8\"},\"line\":{\"color\":\"white\"}},\"header\":{\"fill\":{\"color\":\"#C8D4E3\"},\"line\":{\"color\":\"white\"}},\"type\":\"table\"}],\"barpolar\":[{\"marker\":{\"line\":{\"color\":\"#E5ECF6\",\"width\":0.5},\"pattern\":{\"fillmode\":\"overlay\",\"size\":10,\"solidity\":0.2}},\"type\":\"barpolar\"}],\"pie\":[{\"automargin\":true,\"type\":\"pie\"}]},\"layout\":{\"autotypenumbers\":\"strict\",\"colorway\":[\"#636efa\",\"#EF553B\",\"#00cc96\",\"#ab63fa\",\"#FFA15A\",\"#19d3f3\",\"#FF6692\",\"#B6E880\",\"#FF97FF\",\"#FECB52\"],\"font\":{\"color\":\"#2a3f5f\"},\"hovermode\":\"closest\",\"hoverlabel\":{\"align\":\"left\"},\"paper_bgcolor\":\"white\",\"plot_bgcolor\":\"#E5ECF6\",\"polar\":{\"bgcolor\":\"#E5ECF6\",\"angularaxis\":{\"gridcolor\":\"white\",\"linecolor\":\"white\",\"ticks\":\"\"},\"radialaxis\":{\"gridcolor\":\"white\",\"linecolor\":\"white\",\"ticks\":\"\"}},\"ternary\":{\"bgcolor\":\"#E5ECF6\",\"aaxis\":{\"gridcolor\":\"white\",\"linecolor\":\"white\",\"ticks\":\"\"},\"baxis\":{\"gridcolor\":\"white\",\"linecolor\":\"white\",\"ticks\":\"\"},\"caxis\":{\"gridcolor\":\"white\",\"linecolor\":\"white\",\"ticks\":\"\"}},\"coloraxis\":{\"colorbar\":{\"outlinewidth\":0,\"ticks\":\"\"}},\"colorscale\":{\"sequential\":[[0.0,\"#0d0887\"],[0.1111111111111111,\"#46039f\"],[0.2222222222222222,\"#7201a8\"],[0.3333333333333333,\"#9c179e\"],[0.4444444444444444,\"#bd3786\"],[0.5555555555555556,\"#d8576b\"],[0.6666666666666666,\"#ed7953\"],[0.7777777777777778,\"#fb9f3a\"],[0.8888888888888888,\"#fdca26\"],[1.0,\"#f0f921\"]],\"sequentialminus\":[[0.0,\"#0d0887\"],[0.1111111111111111,\"#46039f\"],[0.2222222222222222,\"#7201a8\"],[0.3333333333333333,\"#9c179e\"],[0.4444444444444444,\"#bd3786\"],[0.5555555555555556,\"#d8576b\"],[0.6666666666666666,\"#ed7953\"],[0.7777777777777778,\"#fb9f3a\"],[0.8888888888888888,\"#fdca26\"],[1.0,\"#f0f921\"]],\"diverging\":[[0,\"#8e0152\"],[0.1,\"#c51b7d\"],[0.2,\"#de77ae\"],[0.3,\"#f1b6da\"],[0.4,\"#fde0ef\"],[0.5,\"#f7f7f7\"],[0.6,\"#e6f5d0\"],[0.7,\"#b8e186\"],[0.8,\"#7fbc41\"],[0.9,\"#4d9221\"],[1,\"#276419\"]]},\"xaxis\":{\"gridcolor\":\"white\",\"linecolor\":\"white\",\"ticks\":\"\",\"title\":{\"standoff\":15},\"zerolinecolor\":\"white\",\"automargin\":true,\"zerolinewidth\":2},\"yaxis\":{\"gridcolor\":\"white\",\"linecolor\":\"white\",\"ticks\":\"\",\"title\":{\"standoff\":15},\"zerolinecolor\":\"white\",\"automargin\":true,\"zerolinewidth\":2},\"scene\":{\"xaxis\":{\"backgroundcolor\":\"#E5ECF6\",\"gridcolor\":\"white\",\"linecolor\":\"white\",\"showbackground\":true,\"ticks\":\"\",\"zerolinecolor\":\"white\",\"gridwidth\":2},\"yaxis\":{\"backgroundcolor\":\"#E5ECF6\",\"gridcolor\":\"white\",\"linecolor\":\"white\",\"showbackground\":true,\"ticks\":\"\",\"zerolinecolor\":\"white\",\"gridwidth\":2},\"zaxis\":{\"backgroundcolor\":\"#E5ECF6\",\"gridcolor\":\"white\",\"linecolor\":\"white\",\"showbackground\":true,\"ticks\":\"\",\"zerolinecolor\":\"white\",\"gridwidth\":2}},\"shapedefaults\":{\"line\":{\"color\":\"#2a3f5f\"}},\"annotationdefaults\":{\"arrowcolor\":\"#2a3f5f\",\"arrowhead\":0,\"arrowwidth\":1},\"geo\":{\"bgcolor\":\"white\",\"landcolor\":\"#E5ECF6\",\"subunitcolor\":\"white\",\"showland\":true,\"showlakes\":true,\"lakecolor\":\"white\"},\"title\":{\"x\":0.05},\"mapbox\":{\"style\":\"light\"}}},\"legend\":{\"tracegroupgap\":0},\"margin\":{\"t\":60}},                        {\"responsive\": true}                    ).then(function(){\n",
              "                            \n",
              "var gd = document.getElementById('195e3c16-9259-4262-b92a-2f7a79651bdf');\n",
              "var x = new MutationObserver(function (mutations, observer) {{\n",
              "        var display = window.getComputedStyle(gd).display;\n",
              "        if (!display || display === 'none') {{\n",
              "            console.log([gd, 'removed!']);\n",
              "            Plotly.purge(gd);\n",
              "            observer.disconnect();\n",
              "        }}\n",
              "}});\n",
              "\n",
              "// Listen for the removal of the full notebook cells\n",
              "var notebookContainer = gd.closest('#notebook-container');\n",
              "if (notebookContainer) {{\n",
              "    x.observe(notebookContainer, {childList: true});\n",
              "}}\n",
              "\n",
              "// Listen for the clearing of the current output cell\n",
              "var outputEl = gd.closest('.output');\n",
              "if (outputEl) {{\n",
              "    x.observe(outputEl, {childList: true});\n",
              "}}\n",
              "\n",
              "                        })                };                            </script>        </div>\n",
              "</body>\n",
              "</html>"
            ]
          },
          "metadata": {}
        }
      ]
    },
    {
      "cell_type": "code",
      "source": [],
      "metadata": {
        "id": "n_u5Vj29MBbn"
      },
      "execution_count": null,
      "outputs": []
    },
    {
      "cell_type": "markdown",
      "source": [
        "### How does the number of tests performed correlate with the total number of cases and deaths?"
      ],
      "metadata": {
        "id": "BHRlrQ7QM5GD"
      }
    },
    {
      "cell_type": "code",
      "source": [
        "px.scatter(new_df,x='total_tests',y='cases',color='country_name',size='deaths')"
      ],
      "metadata": {
        "colab": {
          "base_uri": "https://localhost:8080/",
          "height": 542
        },
        "id": "KdaRc33QNC2x",
        "outputId": "842b4a9e-7763-4f9f-d68e-99cff5e0a3b1"
      },
      "execution_count": 36,
      "outputs": [
        {
          "output_type": "display_data",
          "data": {
            "text/html": [
              "<html>\n",
              "<head><meta charset=\"utf-8\" /></head>\n",
              "<body>\n",
              "    <div>            <script src=\"https://cdnjs.cloudflare.com/ajax/libs/mathjax/2.7.5/MathJax.js?config=TeX-AMS-MML_SVG\"></script><script type=\"text/javascript\">if (window.MathJax && window.MathJax.Hub && window.MathJax.Hub.Config) {window.MathJax.Hub.Config({SVG: {font: \"STIX-Web\"}});}</script>                <script type=\"text/javascript\">window.PlotlyConfig = {MathJaxConfig: 'local'};</script>\n",
              "        <script src=\"https://cdn.plot.ly/plotly-2.18.2.min.js\"></script>                <div id=\"cd01cb91-c3d1-4197-8037-3feb52742da7\" class=\"plotly-graph-div\" style=\"height:525px; width:100%;\"></div>            <script type=\"text/javascript\">                                    window.PLOTLYENV=window.PLOTLYENV || {};                                    if (document.getElementById(\"cd01cb91-c3d1-4197-8037-3feb52742da7\")) {                    Plotly.newPlot(                        \"cd01cb91-c3d1-4197-8037-3feb52742da7\",                        [{\"hovertemplate\":\"country_name=USA<br>total_tests=%{x}<br>cases=%{y}<br>deaths=%{marker.size}<extra></extra>\",\"legendgroup\":\"USA\",\"marker\":{\"color\":\"#636efa\",\"size\":[1018316],\"sizemode\":\"area\",\"sizeref\":2545.79,\"symbol\":\"circle\"},\"mode\":\"markers\",\"name\":\"USA\",\"orientation\":\"v\",\"showlegend\":true,\"x\":[1000275726],\"xaxis\":\"x\",\"y\":[82649779],\"yaxis\":\"y\",\"type\":\"scatter\"},{\"hovertemplate\":\"country_name=India<br>total_tests=%{x}<br>cases=%{y}<br>deaths=%{marker.size}<extra></extra>\",\"legendgroup\":\"India\",\"marker\":{\"color\":\"#EF553B\",\"size\":[522193],\"sizemode\":\"area\",\"sizeref\":2545.79,\"symbol\":\"circle\"},\"mode\":\"markers\",\"name\":\"India\",\"orientation\":\"v\",\"showlegend\":true,\"x\":[834717702],\"xaxis\":\"x\",\"y\":[43057545],\"yaxis\":\"y\",\"type\":\"scatter\"},{\"hovertemplate\":\"country_name=Brazil<br>total_tests=%{x}<br>cases=%{y}<br>deaths=%{marker.size}<extra></extra>\",\"legendgroup\":\"Brazil\",\"marker\":{\"color\":\"#00cc96\",\"size\":[662663],\"sizemode\":\"area\",\"sizeref\":2545.79,\"symbol\":\"circle\"},\"mode\":\"markers\",\"name\":\"Brazil\",\"orientation\":\"v\",\"showlegend\":true,\"x\":[63776166],\"xaxis\":\"x\",\"y\":[30345654],\"yaxis\":\"y\",\"type\":\"scatter\"},{\"hovertemplate\":\"country_name=France<br>total_tests=%{x}<br>cases=%{y}<br>deaths=%{marker.size}<extra></extra>\",\"legendgroup\":\"France\",\"marker\":{\"color\":\"#ab63fa\",\"size\":[145020],\"sizemode\":\"area\",\"sizeref\":2545.79,\"symbol\":\"circle\"},\"mode\":\"markers\",\"name\":\"France\",\"orientation\":\"v\",\"showlegend\":true,\"x\":[266484045],\"xaxis\":\"x\",\"y\":[28244977],\"yaxis\":\"y\",\"type\":\"scatter\"},{\"hovertemplate\":\"country_name=Germany<br>total_tests=%{x}<br>cases=%{y}<br>deaths=%{marker.size}<extra></extra>\",\"legendgroup\":\"Germany\",\"marker\":{\"color\":\"#FFA15A\",\"size\":[134624],\"sizemode\":\"area\",\"sizeref\":2545.79,\"symbol\":\"circle\"},\"mode\":\"markers\",\"name\":\"Germany\",\"orientation\":\"v\",\"showlegend\":true,\"x\":[122332384],\"xaxis\":\"x\",\"y\":[24109433],\"yaxis\":\"y\",\"type\":\"scatter\"},{\"hovertemplate\":\"country_name=UK<br>total_tests=%{x}<br>cases=%{y}<br>deaths=%{marker.size}<extra></extra>\",\"legendgroup\":\"UK\",\"marker\":{\"color\":\"#19d3f3\",\"size\":[173352],\"sizemode\":\"area\",\"sizeref\":2545.79,\"symbol\":\"circle\"},\"mode\":\"markers\",\"name\":\"UK\",\"orientation\":\"v\",\"showlegend\":true,\"x\":[514985782],\"xaxis\":\"x\",\"y\":[21933206],\"yaxis\":\"y\",\"type\":\"scatter\"},{\"hovertemplate\":\"country_name=Russia<br>total_tests=%{x}<br>cases=%{y}<br>deaths=%{marker.size}<extra></extra>\",\"legendgroup\":\"Russia\",\"marker\":{\"color\":\"#FF6692\",\"size\":[374902],\"sizemode\":\"area\",\"sizeref\":2545.79,\"symbol\":\"circle\"},\"mode\":\"markers\",\"name\":\"Russia\",\"orientation\":\"v\",\"showlegend\":true,\"x\":[273400000],\"xaxis\":\"x\",\"y\":[18137137],\"yaxis\":\"y\",\"type\":\"scatter\"},{\"hovertemplate\":\"country_name=S. Korea<br>total_tests=%{x}<br>cases=%{y}<br>deaths=%{marker.size}<extra></extra>\",\"legendgroup\":\"S. Korea\",\"marker\":{\"color\":\"#B6E880\",\"size\":[22133],\"sizemode\":\"area\",\"sizeref\":2545.79,\"symbol\":\"circle\"},\"mode\":\"markers\",\"name\":\"S. Korea\",\"orientation\":\"v\",\"showlegend\":true,\"x\":[15804065],\"xaxis\":\"x\",\"y\":[16895194],\"yaxis\":\"y\",\"type\":\"scatter\"},{\"hovertemplate\":\"country_name=Italy<br>total_tests=%{x}<br>cases=%{y}<br>deaths=%{marker.size}<extra></extra>\",\"legendgroup\":\"Italy\",\"marker\":{\"color\":\"#FF97FF\",\"size\":[162609],\"sizemode\":\"area\",\"sizeref\":2545.79,\"symbol\":\"circle\"},\"mode\":\"markers\",\"name\":\"Italy\",\"orientation\":\"v\",\"showlegend\":true,\"x\":[211365630],\"xaxis\":\"x\",\"y\":[16079209],\"yaxis\":\"y\",\"type\":\"scatter\"},{\"hovertemplate\":\"country_name=Turkey<br>total_tests=%{x}<br>cases=%{y}<br>deaths=%{marker.size}<extra></extra>\",\"legendgroup\":\"Turkey\",\"marker\":{\"color\":\"#FECB52\",\"size\":[98676],\"sizemode\":\"area\",\"sizeref\":2545.79,\"symbol\":\"circle\"},\"mode\":\"markers\",\"name\":\"Turkey\",\"orientation\":\"v\",\"showlegend\":true,\"x\":[158110923],\"xaxis\":\"x\",\"y\":[15016270],\"yaxis\":\"y\",\"type\":\"scatter\"},{\"hovertemplate\":\"country_name=Spain<br>total_tests=%{x}<br>cases=%{y}<br>deaths=%{marker.size}<extra></extra>\",\"legendgroup\":\"Spain\",\"marker\":{\"color\":\"#636efa\",\"size\":[103908],\"sizemode\":\"area\",\"sizeref\":2545.79,\"symbol\":\"circle\"},\"mode\":\"markers\",\"name\":\"Spain\",\"orientation\":\"v\",\"showlegend\":true,\"x\":[471036328],\"xaxis\":\"x\",\"y\":[11786036],\"yaxis\":\"y\",\"type\":\"scatter\"},{\"hovertemplate\":\"country_name=Vietnam<br>total_tests=%{x}<br>cases=%{y}<br>deaths=%{marker.size}<extra></extra>\",\"legendgroup\":\"Vietnam\",\"marker\":{\"color\":\"#EF553B\",\"size\":[43013],\"sizemode\":\"area\",\"sizeref\":2545.79,\"symbol\":\"circle\"},\"mode\":\"markers\",\"name\":\"Vietnam\",\"orientation\":\"v\",\"showlegend\":true,\"x\":[85789114],\"xaxis\":\"x\",\"y\":[10563502],\"yaxis\":\"y\",\"type\":\"scatter\"},{\"hovertemplate\":\"country_name=Argentina<br>total_tests=%{x}<br>cases=%{y}<br>deaths=%{marker.size}<extra></extra>\",\"legendgroup\":\"Argentina\",\"marker\":{\"color\":\"#00cc96\",\"size\":[128344],\"sizemode\":\"area\",\"sizeref\":2545.79,\"symbol\":\"circle\"},\"mode\":\"markers\",\"name\":\"Argentina\",\"orientation\":\"v\",\"showlegend\":true,\"x\":[35716069],\"xaxis\":\"x\",\"y\":[9060923],\"yaxis\":\"y\",\"type\":\"scatter\"},{\"hovertemplate\":\"country_name=Netherlands<br>total_tests=%{x}<br>cases=%{y}<br>deaths=%{marker.size}<extra></extra>\",\"legendgroup\":\"Netherlands\",\"marker\":{\"color\":\"#ab63fa\",\"size\":[22206],\"sizemode\":\"area\",\"sizeref\":2545.79,\"symbol\":\"circle\"},\"mode\":\"markers\",\"name\":\"Netherlands\",\"orientation\":\"v\",\"showlegend\":true,\"x\":[21107399],\"xaxis\":\"x\",\"y\":[8035603],\"yaxis\":\"y\",\"type\":\"scatter\"},{\"hovertemplate\":\"country_name=Japan<br>total_tests=%{x}<br>cases=%{y}<br>deaths=%{marker.size}<extra></extra>\",\"legendgroup\":\"Japan\",\"marker\":{\"color\":\"#FFA15A\",\"size\":[29284],\"sizemode\":\"area\",\"sizeref\":2545.79,\"symbol\":\"circle\"},\"mode\":\"markers\",\"name\":\"Japan\",\"orientation\":\"v\",\"showlegend\":true,\"x\":[46690473],\"xaxis\":\"x\",\"y\":[7621562],\"yaxis\":\"y\",\"type\":\"scatter\"},{\"hovertemplate\":\"country_name=Iran<br>total_tests=%{x}<br>cases=%{y}<br>deaths=%{marker.size}<extra></extra>\",\"legendgroup\":\"Iran\",\"marker\":{\"color\":\"#19d3f3\",\"size\":[140975],\"sizemode\":\"area\",\"sizeref\":2545.79,\"symbol\":\"circle\"},\"mode\":\"markers\",\"name\":\"Iran\",\"orientation\":\"v\",\"showlegend\":true,\"x\":[50811054],\"xaxis\":\"x\",\"y\":[7216040],\"yaxis\":\"y\",\"type\":\"scatter\"},{\"hovertemplate\":\"country_name=Colombia<br>total_tests=%{x}<br>cases=%{y}<br>deaths=%{marker.size}<extra></extra>\",\"legendgroup\":\"Colombia\",\"marker\":{\"color\":\"#FF6692\",\"size\":[139771],\"sizemode\":\"area\",\"sizeref\":2545.79,\"symbol\":\"circle\"},\"mode\":\"markers\",\"name\":\"Colombia\",\"orientation\":\"v\",\"showlegend\":true,\"x\":[34355022],\"xaxis\":\"x\",\"y\":[6091094],\"yaxis\":\"y\",\"type\":\"scatter\"},{\"hovertemplate\":\"country_name=Indonesia<br>total_tests=%{x}<br>cases=%{y}<br>deaths=%{marker.size}<extra></extra>\",\"legendgroup\":\"Indonesia\",\"marker\":{\"color\":\"#B6E880\",\"size\":[156067],\"sizemode\":\"area\",\"sizeref\":2545.79,\"symbol\":\"circle\"},\"mode\":\"markers\",\"name\":\"Indonesia\",\"orientation\":\"v\",\"showlegend\":true,\"x\":[94877499],\"xaxis\":\"x\",\"y\":[6043768],\"yaxis\":\"y\",\"type\":\"scatter\"},{\"hovertemplate\":\"country_name=Poland<br>total_tests=%{x}<br>cases=%{y}<br>deaths=%{marker.size}<extra></extra>\",\"legendgroup\":\"Poland\",\"marker\":{\"color\":\"#FF97FF\",\"size\":[115948],\"sizemode\":\"area\",\"sizeref\":2545.79,\"symbol\":\"circle\"},\"mode\":\"markers\",\"name\":\"Poland\",\"orientation\":\"v\",\"showlegend\":true,\"x\":[36027053],\"xaxis\":\"x\",\"y\":[5991197],\"yaxis\":\"y\",\"type\":\"scatter\"},{\"hovertemplate\":\"country_name=Mexico<br>total_tests=%{x}<br>cases=%{y}<br>deaths=%{marker.size}<extra></extra>\",\"legendgroup\":\"Mexico\",\"marker\":{\"color\":\"#FECB52\",\"size\":[324117],\"sizemode\":\"area\",\"sizeref\":2545.79,\"symbol\":\"circle\"},\"mode\":\"markers\",\"name\":\"Mexico\",\"orientation\":\"v\",\"showlegend\":true,\"x\":[15762889],\"xaxis\":\"x\",\"y\":[5733514],\"yaxis\":\"y\",\"type\":\"scatter\"},{\"hovertemplate\":\"country_name=Australia<br>total_tests=%{x}<br>cases=%{y}<br>deaths=%{marker.size}<extra></extra>\",\"legendgroup\":\"Australia\",\"marker\":{\"color\":\"#636efa\",\"size\":[6991],\"sizemode\":\"area\",\"sizeref\":2545.79,\"symbol\":\"circle\"},\"mode\":\"markers\",\"name\":\"Australia\",\"orientation\":\"v\",\"showlegend\":true,\"x\":[68845476],\"xaxis\":\"x\",\"y\":[5689377],\"yaxis\":\"y\",\"type\":\"scatter\"},{\"hovertemplate\":\"country_name=Ukraine<br>total_tests=%{x}<br>cases=%{y}<br>deaths=%{marker.size}<extra></extra>\",\"legendgroup\":\"Ukraine\",\"marker\":{\"color\":\"#EF553B\",\"size\":[108306],\"sizemode\":\"area\",\"sizeref\":2545.79,\"symbol\":\"circle\"},\"mode\":\"markers\",\"name\":\"Ukraine\",\"orientation\":\"v\",\"showlegend\":true,\"x\":[19521252],\"xaxis\":\"x\",\"y\":[4997224],\"yaxis\":\"y\",\"type\":\"scatter\"},{\"hovertemplate\":\"country_name=Malaysia<br>total_tests=%{x}<br>cases=%{y}<br>deaths=%{marker.size}<extra></extra>\",\"legendgroup\":\"Malaysia\",\"marker\":{\"color\":\"#00cc96\",\"size\":[35491],\"sizemode\":\"area\",\"sizeref\":2545.79,\"symbol\":\"circle\"},\"mode\":\"markers\",\"name\":\"Malaysia\",\"orientation\":\"v\",\"showlegend\":true,\"x\":[58332799],\"xaxis\":\"x\",\"y\":[4427067],\"yaxis\":\"y\",\"type\":\"scatter\"},{\"hovertemplate\":\"country_name=Thailand<br>total_tests=%{x}<br>cases=%{y}<br>deaths=%{marker.size}<extra></extra>\",\"legendgroup\":\"Thailand\",\"marker\":{\"color\":\"#ab63fa\",\"size\":[27778],\"sizemode\":\"area\",\"sizeref\":2545.79,\"symbol\":\"circle\"},\"mode\":\"markers\",\"name\":\"Thailand\",\"orientation\":\"v\",\"showlegend\":true,\"x\":[17270775],\"xaxis\":\"x\",\"y\":[4165874],\"yaxis\":\"y\",\"type\":\"scatter\"},{\"hovertemplate\":\"country_name=Austria<br>total_tests=%{x}<br>cases=%{y}<br>deaths=%{marker.size}<extra></extra>\",\"legendgroup\":\"Austria\",\"marker\":{\"color\":\"#FFA15A\",\"size\":[18047],\"sizemode\":\"area\",\"sizeref\":2545.79,\"symbol\":\"circle\"},\"mode\":\"markers\",\"name\":\"Austria\",\"orientation\":\"v\",\"showlegend\":true,\"x\":[181825734],\"xaxis\":\"x\",\"y\":[4104859],\"yaxis\":\"y\",\"type\":\"scatter\"}],                        {\"template\":{\"data\":{\"histogram2dcontour\":[{\"type\":\"histogram2dcontour\",\"colorbar\":{\"outlinewidth\":0,\"ticks\":\"\"},\"colorscale\":[[0.0,\"#0d0887\"],[0.1111111111111111,\"#46039f\"],[0.2222222222222222,\"#7201a8\"],[0.3333333333333333,\"#9c179e\"],[0.4444444444444444,\"#bd3786\"],[0.5555555555555556,\"#d8576b\"],[0.6666666666666666,\"#ed7953\"],[0.7777777777777778,\"#fb9f3a\"],[0.8888888888888888,\"#fdca26\"],[1.0,\"#f0f921\"]]}],\"choropleth\":[{\"type\":\"choropleth\",\"colorbar\":{\"outlinewidth\":0,\"ticks\":\"\"}}],\"histogram2d\":[{\"type\":\"histogram2d\",\"colorbar\":{\"outlinewidth\":0,\"ticks\":\"\"},\"colorscale\":[[0.0,\"#0d0887\"],[0.1111111111111111,\"#46039f\"],[0.2222222222222222,\"#7201a8\"],[0.3333333333333333,\"#9c179e\"],[0.4444444444444444,\"#bd3786\"],[0.5555555555555556,\"#d8576b\"],[0.6666666666666666,\"#ed7953\"],[0.7777777777777778,\"#fb9f3a\"],[0.8888888888888888,\"#fdca26\"],[1.0,\"#f0f921\"]]}],\"heatmap\":[{\"type\":\"heatmap\",\"colorbar\":{\"outlinewidth\":0,\"ticks\":\"\"},\"colorscale\":[[0.0,\"#0d0887\"],[0.1111111111111111,\"#46039f\"],[0.2222222222222222,\"#7201a8\"],[0.3333333333333333,\"#9c179e\"],[0.4444444444444444,\"#bd3786\"],[0.5555555555555556,\"#d8576b\"],[0.6666666666666666,\"#ed7953\"],[0.7777777777777778,\"#fb9f3a\"],[0.8888888888888888,\"#fdca26\"],[1.0,\"#f0f921\"]]}],\"heatmapgl\":[{\"type\":\"heatmapgl\",\"colorbar\":{\"outlinewidth\":0,\"ticks\":\"\"},\"colorscale\":[[0.0,\"#0d0887\"],[0.1111111111111111,\"#46039f\"],[0.2222222222222222,\"#7201a8\"],[0.3333333333333333,\"#9c179e\"],[0.4444444444444444,\"#bd3786\"],[0.5555555555555556,\"#d8576b\"],[0.6666666666666666,\"#ed7953\"],[0.7777777777777778,\"#fb9f3a\"],[0.8888888888888888,\"#fdca26\"],[1.0,\"#f0f921\"]]}],\"contourcarpet\":[{\"type\":\"contourcarpet\",\"colorbar\":{\"outlinewidth\":0,\"ticks\":\"\"}}],\"contour\":[{\"type\":\"contour\",\"colorbar\":{\"outlinewidth\":0,\"ticks\":\"\"},\"colorscale\":[[0.0,\"#0d0887\"],[0.1111111111111111,\"#46039f\"],[0.2222222222222222,\"#7201a8\"],[0.3333333333333333,\"#9c179e\"],[0.4444444444444444,\"#bd3786\"],[0.5555555555555556,\"#d8576b\"],[0.6666666666666666,\"#ed7953\"],[0.7777777777777778,\"#fb9f3a\"],[0.8888888888888888,\"#fdca26\"],[1.0,\"#f0f921\"]]}],\"surface\":[{\"type\":\"surface\",\"colorbar\":{\"outlinewidth\":0,\"ticks\":\"\"},\"colorscale\":[[0.0,\"#0d0887\"],[0.1111111111111111,\"#46039f\"],[0.2222222222222222,\"#7201a8\"],[0.3333333333333333,\"#9c179e\"],[0.4444444444444444,\"#bd3786\"],[0.5555555555555556,\"#d8576b\"],[0.6666666666666666,\"#ed7953\"],[0.7777777777777778,\"#fb9f3a\"],[0.8888888888888888,\"#fdca26\"],[1.0,\"#f0f921\"]]}],\"mesh3d\":[{\"type\":\"mesh3d\",\"colorbar\":{\"outlinewidth\":0,\"ticks\":\"\"}}],\"scatter\":[{\"fillpattern\":{\"fillmode\":\"overlay\",\"size\":10,\"solidity\":0.2},\"type\":\"scatter\"}],\"parcoords\":[{\"type\":\"parcoords\",\"line\":{\"colorbar\":{\"outlinewidth\":0,\"ticks\":\"\"}}}],\"scatterpolargl\":[{\"type\":\"scatterpolargl\",\"marker\":{\"colorbar\":{\"outlinewidth\":0,\"ticks\":\"\"}}}],\"bar\":[{\"error_x\":{\"color\":\"#2a3f5f\"},\"error_y\":{\"color\":\"#2a3f5f\"},\"marker\":{\"line\":{\"color\":\"#E5ECF6\",\"width\":0.5},\"pattern\":{\"fillmode\":\"overlay\",\"size\":10,\"solidity\":0.2}},\"type\":\"bar\"}],\"scattergeo\":[{\"type\":\"scattergeo\",\"marker\":{\"colorbar\":{\"outlinewidth\":0,\"ticks\":\"\"}}}],\"scatterpolar\":[{\"type\":\"scatterpolar\",\"marker\":{\"colorbar\":{\"outlinewidth\":0,\"ticks\":\"\"}}}],\"histogram\":[{\"marker\":{\"pattern\":{\"fillmode\":\"overlay\",\"size\":10,\"solidity\":0.2}},\"type\":\"histogram\"}],\"scattergl\":[{\"type\":\"scattergl\",\"marker\":{\"colorbar\":{\"outlinewidth\":0,\"ticks\":\"\"}}}],\"scatter3d\":[{\"type\":\"scatter3d\",\"line\":{\"colorbar\":{\"outlinewidth\":0,\"ticks\":\"\"}},\"marker\":{\"colorbar\":{\"outlinewidth\":0,\"ticks\":\"\"}}}],\"scattermapbox\":[{\"type\":\"scattermapbox\",\"marker\":{\"colorbar\":{\"outlinewidth\":0,\"ticks\":\"\"}}}],\"scatterternary\":[{\"type\":\"scatterternary\",\"marker\":{\"colorbar\":{\"outlinewidth\":0,\"ticks\":\"\"}}}],\"scattercarpet\":[{\"type\":\"scattercarpet\",\"marker\":{\"colorbar\":{\"outlinewidth\":0,\"ticks\":\"\"}}}],\"carpet\":[{\"aaxis\":{\"endlinecolor\":\"#2a3f5f\",\"gridcolor\":\"white\",\"linecolor\":\"white\",\"minorgridcolor\":\"white\",\"startlinecolor\":\"#2a3f5f\"},\"baxis\":{\"endlinecolor\":\"#2a3f5f\",\"gridcolor\":\"white\",\"linecolor\":\"white\",\"minorgridcolor\":\"white\",\"startlinecolor\":\"#2a3f5f\"},\"type\":\"carpet\"}],\"table\":[{\"cells\":{\"fill\":{\"color\":\"#EBF0F8\"},\"line\":{\"color\":\"white\"}},\"header\":{\"fill\":{\"color\":\"#C8D4E3\"},\"line\":{\"color\":\"white\"}},\"type\":\"table\"}],\"barpolar\":[{\"marker\":{\"line\":{\"color\":\"#E5ECF6\",\"width\":0.5},\"pattern\":{\"fillmode\":\"overlay\",\"size\":10,\"solidity\":0.2}},\"type\":\"barpolar\"}],\"pie\":[{\"automargin\":true,\"type\":\"pie\"}]},\"layout\":{\"autotypenumbers\":\"strict\",\"colorway\":[\"#636efa\",\"#EF553B\",\"#00cc96\",\"#ab63fa\",\"#FFA15A\",\"#19d3f3\",\"#FF6692\",\"#B6E880\",\"#FF97FF\",\"#FECB52\"],\"font\":{\"color\":\"#2a3f5f\"},\"hovermode\":\"closest\",\"hoverlabel\":{\"align\":\"left\"},\"paper_bgcolor\":\"white\",\"plot_bgcolor\":\"#E5ECF6\",\"polar\":{\"bgcolor\":\"#E5ECF6\",\"angularaxis\":{\"gridcolor\":\"white\",\"linecolor\":\"white\",\"ticks\":\"\"},\"radialaxis\":{\"gridcolor\":\"white\",\"linecolor\":\"white\",\"ticks\":\"\"}},\"ternary\":{\"bgcolor\":\"#E5ECF6\",\"aaxis\":{\"gridcolor\":\"white\",\"linecolor\":\"white\",\"ticks\":\"\"},\"baxis\":{\"gridcolor\":\"white\",\"linecolor\":\"white\",\"ticks\":\"\"},\"caxis\":{\"gridcolor\":\"white\",\"linecolor\":\"white\",\"ticks\":\"\"}},\"coloraxis\":{\"colorbar\":{\"outlinewidth\":0,\"ticks\":\"\"}},\"colorscale\":{\"sequential\":[[0.0,\"#0d0887\"],[0.1111111111111111,\"#46039f\"],[0.2222222222222222,\"#7201a8\"],[0.3333333333333333,\"#9c179e\"],[0.4444444444444444,\"#bd3786\"],[0.5555555555555556,\"#d8576b\"],[0.6666666666666666,\"#ed7953\"],[0.7777777777777778,\"#fb9f3a\"],[0.8888888888888888,\"#fdca26\"],[1.0,\"#f0f921\"]],\"sequentialminus\":[[0.0,\"#0d0887\"],[0.1111111111111111,\"#46039f\"],[0.2222222222222222,\"#7201a8\"],[0.3333333333333333,\"#9c179e\"],[0.4444444444444444,\"#bd3786\"],[0.5555555555555556,\"#d8576b\"],[0.6666666666666666,\"#ed7953\"],[0.7777777777777778,\"#fb9f3a\"],[0.8888888888888888,\"#fdca26\"],[1.0,\"#f0f921\"]],\"diverging\":[[0,\"#8e0152\"],[0.1,\"#c51b7d\"],[0.2,\"#de77ae\"],[0.3,\"#f1b6da\"],[0.4,\"#fde0ef\"],[0.5,\"#f7f7f7\"],[0.6,\"#e6f5d0\"],[0.7,\"#b8e186\"],[0.8,\"#7fbc41\"],[0.9,\"#4d9221\"],[1,\"#276419\"]]},\"xaxis\":{\"gridcolor\":\"white\",\"linecolor\":\"white\",\"ticks\":\"\",\"title\":{\"standoff\":15},\"zerolinecolor\":\"white\",\"automargin\":true,\"zerolinewidth\":2},\"yaxis\":{\"gridcolor\":\"white\",\"linecolor\":\"white\",\"ticks\":\"\",\"title\":{\"standoff\":15},\"zerolinecolor\":\"white\",\"automargin\":true,\"zerolinewidth\":2},\"scene\":{\"xaxis\":{\"backgroundcolor\":\"#E5ECF6\",\"gridcolor\":\"white\",\"linecolor\":\"white\",\"showbackground\":true,\"ticks\":\"\",\"zerolinecolor\":\"white\",\"gridwidth\":2},\"yaxis\":{\"backgroundcolor\":\"#E5ECF6\",\"gridcolor\":\"white\",\"linecolor\":\"white\",\"showbackground\":true,\"ticks\":\"\",\"zerolinecolor\":\"white\",\"gridwidth\":2},\"zaxis\":{\"backgroundcolor\":\"#E5ECF6\",\"gridcolor\":\"white\",\"linecolor\":\"white\",\"showbackground\":true,\"ticks\":\"\",\"zerolinecolor\":\"white\",\"gridwidth\":2}},\"shapedefaults\":{\"line\":{\"color\":\"#2a3f5f\"}},\"annotationdefaults\":{\"arrowcolor\":\"#2a3f5f\",\"arrowhead\":0,\"arrowwidth\":1},\"geo\":{\"bgcolor\":\"white\",\"landcolor\":\"#E5ECF6\",\"subunitcolor\":\"white\",\"showland\":true,\"showlakes\":true,\"lakecolor\":\"white\"},\"title\":{\"x\":0.05},\"mapbox\":{\"style\":\"light\"}}},\"xaxis\":{\"anchor\":\"y\",\"domain\":[0.0,1.0],\"title\":{\"text\":\"total_tests\"}},\"yaxis\":{\"anchor\":\"x\",\"domain\":[0.0,1.0],\"title\":{\"text\":\"cases\"}},\"legend\":{\"title\":{\"text\":\"country_name\"},\"tracegroupgap\":0,\"itemsizing\":\"constant\"},\"margin\":{\"t\":60}},                        {\"responsive\": true}                    ).then(function(){\n",
              "                            \n",
              "var gd = document.getElementById('cd01cb91-c3d1-4197-8037-3feb52742da7');\n",
              "var x = new MutationObserver(function (mutations, observer) {{\n",
              "        var display = window.getComputedStyle(gd).display;\n",
              "        if (!display || display === 'none') {{\n",
              "            console.log([gd, 'removed!']);\n",
              "            Plotly.purge(gd);\n",
              "            observer.disconnect();\n",
              "        }}\n",
              "}});\n",
              "\n",
              "// Listen for the removal of the full notebook cells\n",
              "var notebookContainer = gd.closest('#notebook-container');\n",
              "if (notebookContainer) {{\n",
              "    x.observe(notebookContainer, {childList: true});\n",
              "}}\n",
              "\n",
              "// Listen for the clearing of the current output cell\n",
              "var outputEl = gd.closest('.output');\n",
              "if (outputEl) {{\n",
              "    x.observe(outputEl, {childList: true});\n",
              "}}\n",
              "\n",
              "                        })                };                            </script>        </div>\n",
              "</body>\n",
              "</html>"
            ]
          },
          "metadata": {}
        }
      ]
    },
    {
      "cell_type": "markdown",
      "source": [
        "- The scatter plot visually represents the relationship between the total number of tests conducted ('total_tests') and the number of COVID-19 cases ('cases'). The marker colors indicate different countries, while the marker sizes represent the number of deaths. The plot can help identify any potential patterns or trends between testing efforts, case numbers, and mortality rates across countries."
      ],
      "metadata": {
        "id": "T1u1bXUfO3l1"
      }
    },
    {
      "cell_type": "code",
      "source": [],
      "metadata": {
        "id": "JIgqwYJGO5zc"
      },
      "execution_count": null,
      "outputs": []
    },
    {
      "cell_type": "markdown",
      "source": [
        "### Feature Engineering\n"
      ],
      "metadata": {
        "id": "z7uyX75yPQoE"
      }
    },
    {
      "cell_type": "markdown",
      "source": [
        "- Calculating the recovery rate:\n",
        "\n",
        "Creating a new feature by dividing the total_recovered by the total_cases, representing the proportion of recovered cases out of total cases. This metric provides insights into the effectiveness of treatment and recovery efforts."
      ],
      "metadata": {
        "id": "6M72PPfmPeIO"
      }
    },
    {
      "cell_type": "code",
      "source": [
        "new_df['recover_rate']=new_df['total_recovered']/new_df['cases']"
      ],
      "metadata": {
        "id": "V5u84yWUPVhV"
      },
      "execution_count": null,
      "outputs": []
    },
    {
      "cell_type": "markdown",
      "source": [
        "- Calculating the mortality rate:\n",
        "\n",
        "Creating a new feature by dividing the total_deaths by the total_cases, representing the proportion of deaths out of total cases. This metric helps assess the severity of the disease and the fatality rate."
      ],
      "metadata": {
        "id": "Cxkts7iKQOGR"
      }
    },
    {
      "cell_type": "code",
      "source": [
        "new_df['mortality_rate']=new_df['deaths']/new_df['cases']"
      ],
      "metadata": {
        "id": "geYgJ-kkQaGt"
      },
      "execution_count": null,
      "outputs": []
    },
    {
      "cell_type": "markdown",
      "source": [
        "###Dropping the irrevelant columns"
      ],
      "metadata": {
        "id": "H9a59Ff-SODC"
      }
    },
    {
      "cell_type": "code",
      "source": [
        "new_df.drop(columns=['new_deaths','new_cases','total_cases_per_1m_population','deaths_per_1m_population','tests_per_1m_population'],inplace=True)"
      ],
      "metadata": {
        "colab": {
          "base_uri": "https://localhost:8080/"
        },
        "id": "AvhS1dhSSVEm",
        "outputId": "5e832f23-7648-4425-b0f3-20b15ef4e39e"
      },
      "execution_count": 43,
      "outputs": [
        {
          "output_type": "stream",
          "name": "stderr",
          "text": [
            "<ipython-input-43-1ec74dcbf31f>:1: SettingWithCopyWarning:\n",
            "\n",
            "\n",
            "A value is trying to be set on a copy of a slice from a DataFrame\n",
            "\n",
            "See the caveats in the documentation: https://pandas.pydata.org/pandas-docs/stable/user_guide/indexing.html#returning-a-view-versus-a-copy\n",
            "\n"
          ]
        }
      ]
    },
    {
      "cell_type": "code",
      "source": [
        "new_df.drop(columns=['cases_growth_rate'],inplace=True)"
      ],
      "metadata": {
        "colab": {
          "base_uri": "https://localhost:8080/"
        },
        "id": "3exwcmp_SEEG",
        "outputId": "11bf4672-d3b1-4364-fd75-992c96da50d1"
      },
      "execution_count": 45,
      "outputs": [
        {
          "output_type": "stream",
          "name": "stderr",
          "text": [
            "<ipython-input-45-76a4c516b717>:1: SettingWithCopyWarning:\n",
            "\n",
            "\n",
            "A value is trying to be set on a copy of a slice from a DataFrame\n",
            "\n",
            "See the caveats in the documentation: https://pandas.pydata.org/pandas-docs/stable/user_guide/indexing.html#returning-a-view-versus-a-copy\n",
            "\n"
          ]
        }
      ]
    },
    {
      "cell_type": "code",
      "source": [
        "new_df.dropna(inplace=True)"
      ],
      "metadata": {
        "colab": {
          "base_uri": "https://localhost:8080/"
        },
        "id": "OiAWhmfbVtAU",
        "outputId": "d794148d-d4ac-4d0f-b960-608def1b949c"
      },
      "execution_count": 48,
      "outputs": [
        {
          "output_type": "stream",
          "name": "stderr",
          "text": [
            "<ipython-input-48-ca20e18b38b5>:1: SettingWithCopyWarning:\n",
            "\n",
            "\n",
            "A value is trying to be set on a copy of a slice from a DataFrame\n",
            "\n",
            "See the caveats in the documentation: https://pandas.pydata.org/pandas-docs/stable/user_guide/indexing.html#returning-a-view-versus-a-copy\n",
            "\n"
          ]
        }
      ]
    },
    {
      "cell_type": "code",
      "source": [
        "new_df"
      ],
      "metadata": {
        "colab": {
          "base_uri": "https://localhost:8080/",
          "height": 770
        },
        "id": "9ycPfK0eS9ZN",
        "outputId": "8a8cd8e9-0e20-452f-c590-e90e1b94d99b"
      },
      "execution_count": 49,
      "outputs": [
        {
          "output_type": "execute_result",
          "data": {
            "text/plain": [
              "   country_name     cases   deaths  total_recovered  serious_critical  \\\n",
              "0           USA  82649779  1018316      80434925.00              1465   \n",
              "1         India  43057545   522193      42519479.00               698   \n",
              "2        Brazil  30345654   662663      29364400.00              8318   \n",
              "3        France  28244977   145020      25852832.00              1677   \n",
              "4       Germany  24109433   134624      21243000.00              1980   \n",
              "5            UK  21933206   173352      20782350.00               339   \n",
              "6        Russia  18137137   374902      17474628.00              2300   \n",
              "8         Italy  16079209   162609      14684371.00               409   \n",
              "9        Turkey  15016270    98676      14854475.00               975   \n",
              "10        Spain  11786036   103908      11261340.00               339   \n",
              "11      Vietnam  10563502    43013       9086075.00               612   \n",
              "12    Argentina   9060923   128344       8895999.00               412   \n",
              "13  Netherlands   8035603    22206       7643520.00                94   \n",
              "14        Japan   7621562    29284       7135403.00               195   \n",
              "15         Iran   7216040   140975       6966954.00              1046   \n",
              "16     Colombia   6091094   139771       5924433.00               342   \n",
              "17    Indonesia   6043768   156067       5868251.00              2771   \n",
              "18       Poland   5991197   115948       5334375.00              1588   \n",
              "19       Mexico   5733514   324117       5033892.00              4798   \n",
              "20    Australia   5689377     6991       5274197.00               135   \n",
              "22     Malaysia   4427067    35491       4310599.00                89   \n",
              "23     Thailand   4165874    27778       3954945.00              1496   \n",
              "24      Austria   4104859    18047       3989860.00               121   \n",
              "\n",
              "    active_cases  total_tests  recover_rate  mortality_rate  \n",
              "0     1196538.00   1000275726          0.97            0.01  \n",
              "1       15873.00    834717702          0.99            0.01  \n",
              "2      318591.00     63776166          0.97            0.02  \n",
              "3     2247125.00    266484045          0.92            0.01  \n",
              "4     2731809.00    122332384          0.88            0.01  \n",
              "5      977504.00    514985782          0.95            0.01  \n",
              "6      287607.00    273400000          0.96            0.02  \n",
              "8     1232229.00    211365630          0.91            0.01  \n",
              "9       63119.00    158110923          0.99            0.01  \n",
              "10     420788.00    471036328          0.96            0.01  \n",
              "11    1434414.00     85789114          0.86            0.00  \n",
              "12      36580.00     35716069          0.98            0.01  \n",
              "13     369877.00     21107399          0.95            0.00  \n",
              "14     456875.00     46690473          0.94            0.00  \n",
              "15     108111.00     50811054          0.97            0.02  \n",
              "16      26890.00     34355022          0.97            0.02  \n",
              "17      19450.00     94877499          0.97            0.03  \n",
              "18     540874.00     36027053          0.89            0.02  \n",
              "19     375505.00     15762889          0.88            0.06  \n",
              "20     408189.00     68845476          0.93            0.00  \n",
              "22      80977.00     58332799          0.97            0.01  \n",
              "23     183151.00     17270775          0.95            0.01  \n",
              "24      96952.00    181825734          0.97            0.00  "
            ],
            "text/html": [
              "\n",
              "  <div id=\"df-c2e5449f-5400-407e-85ff-7d69da267792\">\n",
              "    <div class=\"colab-df-container\">\n",
              "      <div>\n",
              "<style scoped>\n",
              "    .dataframe tbody tr th:only-of-type {\n",
              "        vertical-align: middle;\n",
              "    }\n",
              "\n",
              "    .dataframe tbody tr th {\n",
              "        vertical-align: top;\n",
              "    }\n",
              "\n",
              "    .dataframe thead th {\n",
              "        text-align: right;\n",
              "    }\n",
              "</style>\n",
              "<table border=\"1\" class=\"dataframe\">\n",
              "  <thead>\n",
              "    <tr style=\"text-align: right;\">\n",
              "      <th></th>\n",
              "      <th>country_name</th>\n",
              "      <th>cases</th>\n",
              "      <th>deaths</th>\n",
              "      <th>total_recovered</th>\n",
              "      <th>serious_critical</th>\n",
              "      <th>active_cases</th>\n",
              "      <th>total_tests</th>\n",
              "      <th>recover_rate</th>\n",
              "      <th>mortality_rate</th>\n",
              "    </tr>\n",
              "  </thead>\n",
              "  <tbody>\n",
              "    <tr>\n",
              "      <th>0</th>\n",
              "      <td>USA</td>\n",
              "      <td>82649779</td>\n",
              "      <td>1018316</td>\n",
              "      <td>80434925.00</td>\n",
              "      <td>1465</td>\n",
              "      <td>1196538.00</td>\n",
              "      <td>1000275726</td>\n",
              "      <td>0.97</td>\n",
              "      <td>0.01</td>\n",
              "    </tr>\n",
              "    <tr>\n",
              "      <th>1</th>\n",
              "      <td>India</td>\n",
              "      <td>43057545</td>\n",
              "      <td>522193</td>\n",
              "      <td>42519479.00</td>\n",
              "      <td>698</td>\n",
              "      <td>15873.00</td>\n",
              "      <td>834717702</td>\n",
              "      <td>0.99</td>\n",
              "      <td>0.01</td>\n",
              "    </tr>\n",
              "    <tr>\n",
              "      <th>2</th>\n",
              "      <td>Brazil</td>\n",
              "      <td>30345654</td>\n",
              "      <td>662663</td>\n",
              "      <td>29364400.00</td>\n",
              "      <td>8318</td>\n",
              "      <td>318591.00</td>\n",
              "      <td>63776166</td>\n",
              "      <td>0.97</td>\n",
              "      <td>0.02</td>\n",
              "    </tr>\n",
              "    <tr>\n",
              "      <th>3</th>\n",
              "      <td>France</td>\n",
              "      <td>28244977</td>\n",
              "      <td>145020</td>\n",
              "      <td>25852832.00</td>\n",
              "      <td>1677</td>\n",
              "      <td>2247125.00</td>\n",
              "      <td>266484045</td>\n",
              "      <td>0.92</td>\n",
              "      <td>0.01</td>\n",
              "    </tr>\n",
              "    <tr>\n",
              "      <th>4</th>\n",
              "      <td>Germany</td>\n",
              "      <td>24109433</td>\n",
              "      <td>134624</td>\n",
              "      <td>21243000.00</td>\n",
              "      <td>1980</td>\n",
              "      <td>2731809.00</td>\n",
              "      <td>122332384</td>\n",
              "      <td>0.88</td>\n",
              "      <td>0.01</td>\n",
              "    </tr>\n",
              "    <tr>\n",
              "      <th>5</th>\n",
              "      <td>UK</td>\n",
              "      <td>21933206</td>\n",
              "      <td>173352</td>\n",
              "      <td>20782350.00</td>\n",
              "      <td>339</td>\n",
              "      <td>977504.00</td>\n",
              "      <td>514985782</td>\n",
              "      <td>0.95</td>\n",
              "      <td>0.01</td>\n",
              "    </tr>\n",
              "    <tr>\n",
              "      <th>6</th>\n",
              "      <td>Russia</td>\n",
              "      <td>18137137</td>\n",
              "      <td>374902</td>\n",
              "      <td>17474628.00</td>\n",
              "      <td>2300</td>\n",
              "      <td>287607.00</td>\n",
              "      <td>273400000</td>\n",
              "      <td>0.96</td>\n",
              "      <td>0.02</td>\n",
              "    </tr>\n",
              "    <tr>\n",
              "      <th>8</th>\n",
              "      <td>Italy</td>\n",
              "      <td>16079209</td>\n",
              "      <td>162609</td>\n",
              "      <td>14684371.00</td>\n",
              "      <td>409</td>\n",
              "      <td>1232229.00</td>\n",
              "      <td>211365630</td>\n",
              "      <td>0.91</td>\n",
              "      <td>0.01</td>\n",
              "    </tr>\n",
              "    <tr>\n",
              "      <th>9</th>\n",
              "      <td>Turkey</td>\n",
              "      <td>15016270</td>\n",
              "      <td>98676</td>\n",
              "      <td>14854475.00</td>\n",
              "      <td>975</td>\n",
              "      <td>63119.00</td>\n",
              "      <td>158110923</td>\n",
              "      <td>0.99</td>\n",
              "      <td>0.01</td>\n",
              "    </tr>\n",
              "    <tr>\n",
              "      <th>10</th>\n",
              "      <td>Spain</td>\n",
              "      <td>11786036</td>\n",
              "      <td>103908</td>\n",
              "      <td>11261340.00</td>\n",
              "      <td>339</td>\n",
              "      <td>420788.00</td>\n",
              "      <td>471036328</td>\n",
              "      <td>0.96</td>\n",
              "      <td>0.01</td>\n",
              "    </tr>\n",
              "    <tr>\n",
              "      <th>11</th>\n",
              "      <td>Vietnam</td>\n",
              "      <td>10563502</td>\n",
              "      <td>43013</td>\n",
              "      <td>9086075.00</td>\n",
              "      <td>612</td>\n",
              "      <td>1434414.00</td>\n",
              "      <td>85789114</td>\n",
              "      <td>0.86</td>\n",
              "      <td>0.00</td>\n",
              "    </tr>\n",
              "    <tr>\n",
              "      <th>12</th>\n",
              "      <td>Argentina</td>\n",
              "      <td>9060923</td>\n",
              "      <td>128344</td>\n",
              "      <td>8895999.00</td>\n",
              "      <td>412</td>\n",
              "      <td>36580.00</td>\n",
              "      <td>35716069</td>\n",
              "      <td>0.98</td>\n",
              "      <td>0.01</td>\n",
              "    </tr>\n",
              "    <tr>\n",
              "      <th>13</th>\n",
              "      <td>Netherlands</td>\n",
              "      <td>8035603</td>\n",
              "      <td>22206</td>\n",
              "      <td>7643520.00</td>\n",
              "      <td>94</td>\n",
              "      <td>369877.00</td>\n",
              "      <td>21107399</td>\n",
              "      <td>0.95</td>\n",
              "      <td>0.00</td>\n",
              "    </tr>\n",
              "    <tr>\n",
              "      <th>14</th>\n",
              "      <td>Japan</td>\n",
              "      <td>7621562</td>\n",
              "      <td>29284</td>\n",
              "      <td>7135403.00</td>\n",
              "      <td>195</td>\n",
              "      <td>456875.00</td>\n",
              "      <td>46690473</td>\n",
              "      <td>0.94</td>\n",
              "      <td>0.00</td>\n",
              "    </tr>\n",
              "    <tr>\n",
              "      <th>15</th>\n",
              "      <td>Iran</td>\n",
              "      <td>7216040</td>\n",
              "      <td>140975</td>\n",
              "      <td>6966954.00</td>\n",
              "      <td>1046</td>\n",
              "      <td>108111.00</td>\n",
              "      <td>50811054</td>\n",
              "      <td>0.97</td>\n",
              "      <td>0.02</td>\n",
              "    </tr>\n",
              "    <tr>\n",
              "      <th>16</th>\n",
              "      <td>Colombia</td>\n",
              "      <td>6091094</td>\n",
              "      <td>139771</td>\n",
              "      <td>5924433.00</td>\n",
              "      <td>342</td>\n",
              "      <td>26890.00</td>\n",
              "      <td>34355022</td>\n",
              "      <td>0.97</td>\n",
              "      <td>0.02</td>\n",
              "    </tr>\n",
              "    <tr>\n",
              "      <th>17</th>\n",
              "      <td>Indonesia</td>\n",
              "      <td>6043768</td>\n",
              "      <td>156067</td>\n",
              "      <td>5868251.00</td>\n",
              "      <td>2771</td>\n",
              "      <td>19450.00</td>\n",
              "      <td>94877499</td>\n",
              "      <td>0.97</td>\n",
              "      <td>0.03</td>\n",
              "    </tr>\n",
              "    <tr>\n",
              "      <th>18</th>\n",
              "      <td>Poland</td>\n",
              "      <td>5991197</td>\n",
              "      <td>115948</td>\n",
              "      <td>5334375.00</td>\n",
              "      <td>1588</td>\n",
              "      <td>540874.00</td>\n",
              "      <td>36027053</td>\n",
              "      <td>0.89</td>\n",
              "      <td>0.02</td>\n",
              "    </tr>\n",
              "    <tr>\n",
              "      <th>19</th>\n",
              "      <td>Mexico</td>\n",
              "      <td>5733514</td>\n",
              "      <td>324117</td>\n",
              "      <td>5033892.00</td>\n",
              "      <td>4798</td>\n",
              "      <td>375505.00</td>\n",
              "      <td>15762889</td>\n",
              "      <td>0.88</td>\n",
              "      <td>0.06</td>\n",
              "    </tr>\n",
              "    <tr>\n",
              "      <th>20</th>\n",
              "      <td>Australia</td>\n",
              "      <td>5689377</td>\n",
              "      <td>6991</td>\n",
              "      <td>5274197.00</td>\n",
              "      <td>135</td>\n",
              "      <td>408189.00</td>\n",
              "      <td>68845476</td>\n",
              "      <td>0.93</td>\n",
              "      <td>0.00</td>\n",
              "    </tr>\n",
              "    <tr>\n",
              "      <th>22</th>\n",
              "      <td>Malaysia</td>\n",
              "      <td>4427067</td>\n",
              "      <td>35491</td>\n",
              "      <td>4310599.00</td>\n",
              "      <td>89</td>\n",
              "      <td>80977.00</td>\n",
              "      <td>58332799</td>\n",
              "      <td>0.97</td>\n",
              "      <td>0.01</td>\n",
              "    </tr>\n",
              "    <tr>\n",
              "      <th>23</th>\n",
              "      <td>Thailand</td>\n",
              "      <td>4165874</td>\n",
              "      <td>27778</td>\n",
              "      <td>3954945.00</td>\n",
              "      <td>1496</td>\n",
              "      <td>183151.00</td>\n",
              "      <td>17270775</td>\n",
              "      <td>0.95</td>\n",
              "      <td>0.01</td>\n",
              "    </tr>\n",
              "    <tr>\n",
              "      <th>24</th>\n",
              "      <td>Austria</td>\n",
              "      <td>4104859</td>\n",
              "      <td>18047</td>\n",
              "      <td>3989860.00</td>\n",
              "      <td>121</td>\n",
              "      <td>96952.00</td>\n",
              "      <td>181825734</td>\n",
              "      <td>0.97</td>\n",
              "      <td>0.00</td>\n",
              "    </tr>\n",
              "  </tbody>\n",
              "</table>\n",
              "</div>\n",
              "      <button class=\"colab-df-convert\" onclick=\"convertToInteractive('df-c2e5449f-5400-407e-85ff-7d69da267792')\"\n",
              "              title=\"Convert this dataframe to an interactive table.\"\n",
              "              style=\"display:none;\">\n",
              "        \n",
              "  <svg xmlns=\"http://www.w3.org/2000/svg\" height=\"24px\"viewBox=\"0 0 24 24\"\n",
              "       width=\"24px\">\n",
              "    <path d=\"M0 0h24v24H0V0z\" fill=\"none\"/>\n",
              "    <path d=\"M18.56 5.44l.94 2.06.94-2.06 2.06-.94-2.06-.94-.94-2.06-.94 2.06-2.06.94zm-11 1L8.5 8.5l.94-2.06 2.06-.94-2.06-.94L8.5 2.5l-.94 2.06-2.06.94zm10 10l.94 2.06.94-2.06 2.06-.94-2.06-.94-.94-2.06-.94 2.06-2.06.94z\"/><path d=\"M17.41 7.96l-1.37-1.37c-.4-.4-.92-.59-1.43-.59-.52 0-1.04.2-1.43.59L10.3 9.45l-7.72 7.72c-.78.78-.78 2.05 0 2.83L4 21.41c.39.39.9.59 1.41.59.51 0 1.02-.2 1.41-.59l7.78-7.78 2.81-2.81c.8-.78.8-2.07 0-2.86zM5.41 20L4 18.59l7.72-7.72 1.47 1.35L5.41 20z\"/>\n",
              "  </svg>\n",
              "      </button>\n",
              "      \n",
              "  <style>\n",
              "    .colab-df-container {\n",
              "      display:flex;\n",
              "      flex-wrap:wrap;\n",
              "      gap: 12px;\n",
              "    }\n",
              "\n",
              "    .colab-df-convert {\n",
              "      background-color: #E8F0FE;\n",
              "      border: none;\n",
              "      border-radius: 50%;\n",
              "      cursor: pointer;\n",
              "      display: none;\n",
              "      fill: #1967D2;\n",
              "      height: 32px;\n",
              "      padding: 0 0 0 0;\n",
              "      width: 32px;\n",
              "    }\n",
              "\n",
              "    .colab-df-convert:hover {\n",
              "      background-color: #E2EBFA;\n",
              "      box-shadow: 0px 1px 2px rgba(60, 64, 67, 0.3), 0px 1px 3px 1px rgba(60, 64, 67, 0.15);\n",
              "      fill: #174EA6;\n",
              "    }\n",
              "\n",
              "    [theme=dark] .colab-df-convert {\n",
              "      background-color: #3B4455;\n",
              "      fill: #D2E3FC;\n",
              "    }\n",
              "\n",
              "    [theme=dark] .colab-df-convert:hover {\n",
              "      background-color: #434B5C;\n",
              "      box-shadow: 0px 1px 3px 1px rgba(0, 0, 0, 0.15);\n",
              "      filter: drop-shadow(0px 1px 2px rgba(0, 0, 0, 0.3));\n",
              "      fill: #FFFFFF;\n",
              "    }\n",
              "  </style>\n",
              "\n",
              "      <script>\n",
              "        const buttonEl =\n",
              "          document.querySelector('#df-c2e5449f-5400-407e-85ff-7d69da267792 button.colab-df-convert');\n",
              "        buttonEl.style.display =\n",
              "          google.colab.kernel.accessAllowed ? 'block' : 'none';\n",
              "\n",
              "        async function convertToInteractive(key) {\n",
              "          const element = document.querySelector('#df-c2e5449f-5400-407e-85ff-7d69da267792');\n",
              "          const dataTable =\n",
              "            await google.colab.kernel.invokeFunction('convertToInteractive',\n",
              "                                                     [key], {});\n",
              "          if (!dataTable) return;\n",
              "\n",
              "          const docLinkHtml = 'Like what you see? Visit the ' +\n",
              "            '<a target=\"_blank\" href=https://colab.research.google.com/notebooks/data_table.ipynb>data table notebook</a>'\n",
              "            + ' to learn more about interactive tables.';\n",
              "          element.innerHTML = '';\n",
              "          dataTable['output_type'] = 'display_data';\n",
              "          await google.colab.output.renderOutput(dataTable, element);\n",
              "          const docLink = document.createElement('div');\n",
              "          docLink.innerHTML = docLinkHtml;\n",
              "          element.appendChild(docLink);\n",
              "        }\n",
              "      </script>\n",
              "    </div>\n",
              "  </div>\n",
              "  "
            ]
          },
          "metadata": {},
          "execution_count": 49
        }
      ]
    },
    {
      "cell_type": "markdown",
      "source": [
        "##Creating Target Variable"
      ],
      "metadata": {
        "id": "b1ba_kKtWTM3"
      }
    },
    {
      "cell_type": "code",
      "source": [
        "new_df['severity']=new_df['mortality_rate'].apply(lambda x:'high' if x>0.01 else 'moderate')"
      ],
      "metadata": {
        "colab": {
          "base_uri": "https://localhost:8080/"
        },
        "id": "NK6bpd3IWajg",
        "outputId": "9b2010cf-fe3b-4894-c8ac-2792566c722e"
      },
      "execution_count": 50,
      "outputs": [
        {
          "output_type": "stream",
          "name": "stderr",
          "text": [
            "<ipython-input-50-e1658ea7574f>:1: SettingWithCopyWarning:\n",
            "\n",
            "\n",
            "A value is trying to be set on a copy of a slice from a DataFrame.\n",
            "Try using .loc[row_indexer,col_indexer] = value instead\n",
            "\n",
            "See the caveats in the documentation: https://pandas.pydata.org/pandas-docs/stable/user_guide/indexing.html#returning-a-view-versus-a-copy\n",
            "\n"
          ]
        }
      ]
    },
    {
      "cell_type": "code",
      "source": [
        "new_df.head()"
      ],
      "metadata": {
        "colab": {
          "base_uri": "https://localhost:8080/",
          "height": 206
        },
        "id": "PQ9cHbswXAMl",
        "outputId": "9cc0f9ef-d91a-4c6a-ecc8-429c2ee434e4"
      },
      "execution_count": 53,
      "outputs": [
        {
          "output_type": "execute_result",
          "data": {
            "text/plain": [
              "  country_name     cases   deaths  total_recovered  serious_critical  \\\n",
              "0          USA  82649779  1018316      80434925.00              1465   \n",
              "1        India  43057545   522193      42519479.00               698   \n",
              "2       Brazil  30345654   662663      29364400.00              8318   \n",
              "3       France  28244977   145020      25852832.00              1677   \n",
              "4      Germany  24109433   134624      21243000.00              1980   \n",
              "\n",
              "   active_cases  total_tests  recover_rate  mortality_rate  severity  \n",
              "0    1196538.00   1000275726          0.97            0.01      high  \n",
              "1      15873.00    834717702          0.99            0.01      high  \n",
              "2     318591.00     63776166          0.97            0.02      high  \n",
              "3    2247125.00    266484045          0.92            0.01  moderate  \n",
              "4    2731809.00    122332384          0.88            0.01  moderate  "
            ],
            "text/html": [
              "\n",
              "  <div id=\"df-a0629b4e-0641-47fa-96f5-c98da5ee11d2\">\n",
              "    <div class=\"colab-df-container\">\n",
              "      <div>\n",
              "<style scoped>\n",
              "    .dataframe tbody tr th:only-of-type {\n",
              "        vertical-align: middle;\n",
              "    }\n",
              "\n",
              "    .dataframe tbody tr th {\n",
              "        vertical-align: top;\n",
              "    }\n",
              "\n",
              "    .dataframe thead th {\n",
              "        text-align: right;\n",
              "    }\n",
              "</style>\n",
              "<table border=\"1\" class=\"dataframe\">\n",
              "  <thead>\n",
              "    <tr style=\"text-align: right;\">\n",
              "      <th></th>\n",
              "      <th>country_name</th>\n",
              "      <th>cases</th>\n",
              "      <th>deaths</th>\n",
              "      <th>total_recovered</th>\n",
              "      <th>serious_critical</th>\n",
              "      <th>active_cases</th>\n",
              "      <th>total_tests</th>\n",
              "      <th>recover_rate</th>\n",
              "      <th>mortality_rate</th>\n",
              "      <th>severity</th>\n",
              "    </tr>\n",
              "  </thead>\n",
              "  <tbody>\n",
              "    <tr>\n",
              "      <th>0</th>\n",
              "      <td>USA</td>\n",
              "      <td>82649779</td>\n",
              "      <td>1018316</td>\n",
              "      <td>80434925.00</td>\n",
              "      <td>1465</td>\n",
              "      <td>1196538.00</td>\n",
              "      <td>1000275726</td>\n",
              "      <td>0.97</td>\n",
              "      <td>0.01</td>\n",
              "      <td>high</td>\n",
              "    </tr>\n",
              "    <tr>\n",
              "      <th>1</th>\n",
              "      <td>India</td>\n",
              "      <td>43057545</td>\n",
              "      <td>522193</td>\n",
              "      <td>42519479.00</td>\n",
              "      <td>698</td>\n",
              "      <td>15873.00</td>\n",
              "      <td>834717702</td>\n",
              "      <td>0.99</td>\n",
              "      <td>0.01</td>\n",
              "      <td>high</td>\n",
              "    </tr>\n",
              "    <tr>\n",
              "      <th>2</th>\n",
              "      <td>Brazil</td>\n",
              "      <td>30345654</td>\n",
              "      <td>662663</td>\n",
              "      <td>29364400.00</td>\n",
              "      <td>8318</td>\n",
              "      <td>318591.00</td>\n",
              "      <td>63776166</td>\n",
              "      <td>0.97</td>\n",
              "      <td>0.02</td>\n",
              "      <td>high</td>\n",
              "    </tr>\n",
              "    <tr>\n",
              "      <th>3</th>\n",
              "      <td>France</td>\n",
              "      <td>28244977</td>\n",
              "      <td>145020</td>\n",
              "      <td>25852832.00</td>\n",
              "      <td>1677</td>\n",
              "      <td>2247125.00</td>\n",
              "      <td>266484045</td>\n",
              "      <td>0.92</td>\n",
              "      <td>0.01</td>\n",
              "      <td>moderate</td>\n",
              "    </tr>\n",
              "    <tr>\n",
              "      <th>4</th>\n",
              "      <td>Germany</td>\n",
              "      <td>24109433</td>\n",
              "      <td>134624</td>\n",
              "      <td>21243000.00</td>\n",
              "      <td>1980</td>\n",
              "      <td>2731809.00</td>\n",
              "      <td>122332384</td>\n",
              "      <td>0.88</td>\n",
              "      <td>0.01</td>\n",
              "      <td>moderate</td>\n",
              "    </tr>\n",
              "  </tbody>\n",
              "</table>\n",
              "</div>\n",
              "      <button class=\"colab-df-convert\" onclick=\"convertToInteractive('df-a0629b4e-0641-47fa-96f5-c98da5ee11d2')\"\n",
              "              title=\"Convert this dataframe to an interactive table.\"\n",
              "              style=\"display:none;\">\n",
              "        \n",
              "  <svg xmlns=\"http://www.w3.org/2000/svg\" height=\"24px\"viewBox=\"0 0 24 24\"\n",
              "       width=\"24px\">\n",
              "    <path d=\"M0 0h24v24H0V0z\" fill=\"none\"/>\n",
              "    <path d=\"M18.56 5.44l.94 2.06.94-2.06 2.06-.94-2.06-.94-.94-2.06-.94 2.06-2.06.94zm-11 1L8.5 8.5l.94-2.06 2.06-.94-2.06-.94L8.5 2.5l-.94 2.06-2.06.94zm10 10l.94 2.06.94-2.06 2.06-.94-2.06-.94-.94-2.06-.94 2.06-2.06.94z\"/><path d=\"M17.41 7.96l-1.37-1.37c-.4-.4-.92-.59-1.43-.59-.52 0-1.04.2-1.43.59L10.3 9.45l-7.72 7.72c-.78.78-.78 2.05 0 2.83L4 21.41c.39.39.9.59 1.41.59.51 0 1.02-.2 1.41-.59l7.78-7.78 2.81-2.81c.8-.78.8-2.07 0-2.86zM5.41 20L4 18.59l7.72-7.72 1.47 1.35L5.41 20z\"/>\n",
              "  </svg>\n",
              "      </button>\n",
              "      \n",
              "  <style>\n",
              "    .colab-df-container {\n",
              "      display:flex;\n",
              "      flex-wrap:wrap;\n",
              "      gap: 12px;\n",
              "    }\n",
              "\n",
              "    .colab-df-convert {\n",
              "      background-color: #E8F0FE;\n",
              "      border: none;\n",
              "      border-radius: 50%;\n",
              "      cursor: pointer;\n",
              "      display: none;\n",
              "      fill: #1967D2;\n",
              "      height: 32px;\n",
              "      padding: 0 0 0 0;\n",
              "      width: 32px;\n",
              "    }\n",
              "\n",
              "    .colab-df-convert:hover {\n",
              "      background-color: #E2EBFA;\n",
              "      box-shadow: 0px 1px 2px rgba(60, 64, 67, 0.3), 0px 1px 3px 1px rgba(60, 64, 67, 0.15);\n",
              "      fill: #174EA6;\n",
              "    }\n",
              "\n",
              "    [theme=dark] .colab-df-convert {\n",
              "      background-color: #3B4455;\n",
              "      fill: #D2E3FC;\n",
              "    }\n",
              "\n",
              "    [theme=dark] .colab-df-convert:hover {\n",
              "      background-color: #434B5C;\n",
              "      box-shadow: 0px 1px 3px 1px rgba(0, 0, 0, 0.15);\n",
              "      filter: drop-shadow(0px 1px 2px rgba(0, 0, 0, 0.3));\n",
              "      fill: #FFFFFF;\n",
              "    }\n",
              "  </style>\n",
              "\n",
              "      <script>\n",
              "        const buttonEl =\n",
              "          document.querySelector('#df-a0629b4e-0641-47fa-96f5-c98da5ee11d2 button.colab-df-convert');\n",
              "        buttonEl.style.display =\n",
              "          google.colab.kernel.accessAllowed ? 'block' : 'none';\n",
              "\n",
              "        async function convertToInteractive(key) {\n",
              "          const element = document.querySelector('#df-a0629b4e-0641-47fa-96f5-c98da5ee11d2');\n",
              "          const dataTable =\n",
              "            await google.colab.kernel.invokeFunction('convertToInteractive',\n",
              "                                                     [key], {});\n",
              "          if (!dataTable) return;\n",
              "\n",
              "          const docLinkHtml = 'Like what you see? Visit the ' +\n",
              "            '<a target=\"_blank\" href=https://colab.research.google.com/notebooks/data_table.ipynb>data table notebook</a>'\n",
              "            + ' to learn more about interactive tables.';\n",
              "          element.innerHTML = '';\n",
              "          dataTable['output_type'] = 'display_data';\n",
              "          await google.colab.output.renderOutput(dataTable, element);\n",
              "          const docLink = document.createElement('div');\n",
              "          docLink.innerHTML = docLinkHtml;\n",
              "          element.appendChild(docLink);\n",
              "        }\n",
              "      </script>\n",
              "    </div>\n",
              "  </div>\n",
              "  "
            ]
          },
          "metadata": {},
          "execution_count": 53
        }
      ]
    },
    {
      "cell_type": "markdown",
      "source": [
        "- Categorical Encoding"
      ],
      "metadata": {
        "id": "0alP5U4PY2Uk"
      }
    },
    {
      "cell_type": "code",
      "source": [
        "from sklearn.preprocessing import LabelEncoder\n",
        "\n",
        "# Create an instance of LabelEncoder\n",
        "label_encoder = LabelEncoder()\n",
        "\n",
        "# Fit the label encoder to the country_name column and transform the values\n",
        "new_df['country_code'] = label_encoder.fit_transform(new_df['country_name'])\n"
      ],
      "metadata": {
        "id": "eD_IvMJYZJY0"
      },
      "execution_count": null,
      "outputs": []
    },
    {
      "cell_type": "code",
      "source": [
        "new_df['severity_code']=label_encoder.fit_transform(new_df['severity'])"
      ],
      "metadata": {
        "colab": {
          "base_uri": "https://localhost:8080/"
        },
        "id": "azH19OpxZXFh",
        "outputId": "76fdcb82-e12a-444b-a278-ab22704e0f2d"
      },
      "execution_count": 58,
      "outputs": [
        {
          "output_type": "stream",
          "name": "stderr",
          "text": [
            "<ipython-input-58-41a1c0d61405>:1: SettingWithCopyWarning:\n",
            "\n",
            "\n",
            "A value is trying to be set on a copy of a slice from a DataFrame.\n",
            "Try using .loc[row_indexer,col_indexer] = value instead\n",
            "\n",
            "See the caveats in the documentation: https://pandas.pydata.org/pandas-docs/stable/user_guide/indexing.html#returning-a-view-versus-a-copy\n",
            "\n"
          ]
        }
      ]
    },
    {
      "cell_type": "code",
      "source": [
        "new_df.head()"
      ],
      "metadata": {
        "colab": {
          "base_uri": "https://localhost:8080/",
          "height": 206
        },
        "id": "QfUaPpv7ZNow",
        "outputId": "7520e8bc-0953-4873-b0de-dde25b8822fa"
      },
      "execution_count": 62,
      "outputs": [
        {
          "output_type": "execute_result",
          "data": {
            "text/plain": [
              "      cases   deaths  total_recovered  serious_critical  active_cases  \\\n",
              "0  82649779  1018316      80434925.00              1465    1196538.00   \n",
              "1  43057545   522193      42519479.00               698      15873.00   \n",
              "2  30345654   662663      29364400.00              8318     318591.00   \n",
              "3  28244977   145020      25852832.00              1677    2247125.00   \n",
              "4  24109433   134624      21243000.00              1980    2731809.00   \n",
              "\n",
              "   total_tests  recover_rate  mortality_rate  country_code  severity_code  \n",
              "0   1000275726          0.97            0.01            21              0  \n",
              "1    834717702          0.99            0.01             7              0  \n",
              "2     63776166          0.97            0.02             3              0  \n",
              "3    266484045          0.92            0.01             5              1  \n",
              "4    122332384          0.88            0.01             6              1  "
            ],
            "text/html": [
              "\n",
              "  <div id=\"df-cb027c51-831e-4de3-85b1-ebfe84a12ba5\">\n",
              "    <div class=\"colab-df-container\">\n",
              "      <div>\n",
              "<style scoped>\n",
              "    .dataframe tbody tr th:only-of-type {\n",
              "        vertical-align: middle;\n",
              "    }\n",
              "\n",
              "    .dataframe tbody tr th {\n",
              "        vertical-align: top;\n",
              "    }\n",
              "\n",
              "    .dataframe thead th {\n",
              "        text-align: right;\n",
              "    }\n",
              "</style>\n",
              "<table border=\"1\" class=\"dataframe\">\n",
              "  <thead>\n",
              "    <tr style=\"text-align: right;\">\n",
              "      <th></th>\n",
              "      <th>cases</th>\n",
              "      <th>deaths</th>\n",
              "      <th>total_recovered</th>\n",
              "      <th>serious_critical</th>\n",
              "      <th>active_cases</th>\n",
              "      <th>total_tests</th>\n",
              "      <th>recover_rate</th>\n",
              "      <th>mortality_rate</th>\n",
              "      <th>country_code</th>\n",
              "      <th>severity_code</th>\n",
              "    </tr>\n",
              "  </thead>\n",
              "  <tbody>\n",
              "    <tr>\n",
              "      <th>0</th>\n",
              "      <td>82649779</td>\n",
              "      <td>1018316</td>\n",
              "      <td>80434925.00</td>\n",
              "      <td>1465</td>\n",
              "      <td>1196538.00</td>\n",
              "      <td>1000275726</td>\n",
              "      <td>0.97</td>\n",
              "      <td>0.01</td>\n",
              "      <td>21</td>\n",
              "      <td>0</td>\n",
              "    </tr>\n",
              "    <tr>\n",
              "      <th>1</th>\n",
              "      <td>43057545</td>\n",
              "      <td>522193</td>\n",
              "      <td>42519479.00</td>\n",
              "      <td>698</td>\n",
              "      <td>15873.00</td>\n",
              "      <td>834717702</td>\n",
              "      <td>0.99</td>\n",
              "      <td>0.01</td>\n",
              "      <td>7</td>\n",
              "      <td>0</td>\n",
              "    </tr>\n",
              "    <tr>\n",
              "      <th>2</th>\n",
              "      <td>30345654</td>\n",
              "      <td>662663</td>\n",
              "      <td>29364400.00</td>\n",
              "      <td>8318</td>\n",
              "      <td>318591.00</td>\n",
              "      <td>63776166</td>\n",
              "      <td>0.97</td>\n",
              "      <td>0.02</td>\n",
              "      <td>3</td>\n",
              "      <td>0</td>\n",
              "    </tr>\n",
              "    <tr>\n",
              "      <th>3</th>\n",
              "      <td>28244977</td>\n",
              "      <td>145020</td>\n",
              "      <td>25852832.00</td>\n",
              "      <td>1677</td>\n",
              "      <td>2247125.00</td>\n",
              "      <td>266484045</td>\n",
              "      <td>0.92</td>\n",
              "      <td>0.01</td>\n",
              "      <td>5</td>\n",
              "      <td>1</td>\n",
              "    </tr>\n",
              "    <tr>\n",
              "      <th>4</th>\n",
              "      <td>24109433</td>\n",
              "      <td>134624</td>\n",
              "      <td>21243000.00</td>\n",
              "      <td>1980</td>\n",
              "      <td>2731809.00</td>\n",
              "      <td>122332384</td>\n",
              "      <td>0.88</td>\n",
              "      <td>0.01</td>\n",
              "      <td>6</td>\n",
              "      <td>1</td>\n",
              "    </tr>\n",
              "  </tbody>\n",
              "</table>\n",
              "</div>\n",
              "      <button class=\"colab-df-convert\" onclick=\"convertToInteractive('df-cb027c51-831e-4de3-85b1-ebfe84a12ba5')\"\n",
              "              title=\"Convert this dataframe to an interactive table.\"\n",
              "              style=\"display:none;\">\n",
              "        \n",
              "  <svg xmlns=\"http://www.w3.org/2000/svg\" height=\"24px\"viewBox=\"0 0 24 24\"\n",
              "       width=\"24px\">\n",
              "    <path d=\"M0 0h24v24H0V0z\" fill=\"none\"/>\n",
              "    <path d=\"M18.56 5.44l.94 2.06.94-2.06 2.06-.94-2.06-.94-.94-2.06-.94 2.06-2.06.94zm-11 1L8.5 8.5l.94-2.06 2.06-.94-2.06-.94L8.5 2.5l-.94 2.06-2.06.94zm10 10l.94 2.06.94-2.06 2.06-.94-2.06-.94-.94-2.06-.94 2.06-2.06.94z\"/><path d=\"M17.41 7.96l-1.37-1.37c-.4-.4-.92-.59-1.43-.59-.52 0-1.04.2-1.43.59L10.3 9.45l-7.72 7.72c-.78.78-.78 2.05 0 2.83L4 21.41c.39.39.9.59 1.41.59.51 0 1.02-.2 1.41-.59l7.78-7.78 2.81-2.81c.8-.78.8-2.07 0-2.86zM5.41 20L4 18.59l7.72-7.72 1.47 1.35L5.41 20z\"/>\n",
              "  </svg>\n",
              "      </button>\n",
              "      \n",
              "  <style>\n",
              "    .colab-df-container {\n",
              "      display:flex;\n",
              "      flex-wrap:wrap;\n",
              "      gap: 12px;\n",
              "    }\n",
              "\n",
              "    .colab-df-convert {\n",
              "      background-color: #E8F0FE;\n",
              "      border: none;\n",
              "      border-radius: 50%;\n",
              "      cursor: pointer;\n",
              "      display: none;\n",
              "      fill: #1967D2;\n",
              "      height: 32px;\n",
              "      padding: 0 0 0 0;\n",
              "      width: 32px;\n",
              "    }\n",
              "\n",
              "    .colab-df-convert:hover {\n",
              "      background-color: #E2EBFA;\n",
              "      box-shadow: 0px 1px 2px rgba(60, 64, 67, 0.3), 0px 1px 3px 1px rgba(60, 64, 67, 0.15);\n",
              "      fill: #174EA6;\n",
              "    }\n",
              "\n",
              "    [theme=dark] .colab-df-convert {\n",
              "      background-color: #3B4455;\n",
              "      fill: #D2E3FC;\n",
              "    }\n",
              "\n",
              "    [theme=dark] .colab-df-convert:hover {\n",
              "      background-color: #434B5C;\n",
              "      box-shadow: 0px 1px 3px 1px rgba(0, 0, 0, 0.15);\n",
              "      filter: drop-shadow(0px 1px 2px rgba(0, 0, 0, 0.3));\n",
              "      fill: #FFFFFF;\n",
              "    }\n",
              "  </style>\n",
              "\n",
              "      <script>\n",
              "        const buttonEl =\n",
              "          document.querySelector('#df-cb027c51-831e-4de3-85b1-ebfe84a12ba5 button.colab-df-convert');\n",
              "        buttonEl.style.display =\n",
              "          google.colab.kernel.accessAllowed ? 'block' : 'none';\n",
              "\n",
              "        async function convertToInteractive(key) {\n",
              "          const element = document.querySelector('#df-cb027c51-831e-4de3-85b1-ebfe84a12ba5');\n",
              "          const dataTable =\n",
              "            await google.colab.kernel.invokeFunction('convertToInteractive',\n",
              "                                                     [key], {});\n",
              "          if (!dataTable) return;\n",
              "\n",
              "          const docLinkHtml = 'Like what you see? Visit the ' +\n",
              "            '<a target=\"_blank\" href=https://colab.research.google.com/notebooks/data_table.ipynb>data table notebook</a>'\n",
              "            + ' to learn more about interactive tables.';\n",
              "          element.innerHTML = '';\n",
              "          dataTable['output_type'] = 'display_data';\n",
              "          await google.colab.output.renderOutput(dataTable, element);\n",
              "          const docLink = document.createElement('div');\n",
              "          docLink.innerHTML = docLinkHtml;\n",
              "          element.appendChild(docLink);\n",
              "        }\n",
              "      </script>\n",
              "    </div>\n",
              "  </div>\n",
              "  "
            ]
          },
          "metadata": {},
          "execution_count": 62
        }
      ]
    },
    {
      "cell_type": "code",
      "source": [
        "new_df.drop(columns=['country_name','severity'],inplace=True)"
      ],
      "metadata": {
        "colab": {
          "base_uri": "https://localhost:8080/"
        },
        "id": "fM2Kg7JrZxf8",
        "outputId": "5bcccb93-881b-458b-8819-c0c325167c71"
      },
      "execution_count": 60,
      "outputs": [
        {
          "output_type": "stream",
          "name": "stderr",
          "text": [
            "<ipython-input-60-0dab0c03729f>:1: SettingWithCopyWarning:\n",
            "\n",
            "\n",
            "A value is trying to be set on a copy of a slice from a DataFrame\n",
            "\n",
            "See the caveats in the documentation: https://pandas.pydata.org/pandas-docs/stable/user_guide/indexing.html#returning-a-view-versus-a-copy\n",
            "\n"
          ]
        }
      ]
    },
    {
      "cell_type": "markdown",
      "source": [
        "### Splitting the datasets"
      ],
      "metadata": {
        "id": "FF-kKdrbvxVu"
      }
    },
    {
      "cell_type": "code",
      "source": [
        "from sklearn.model_selection import train_test_split"
      ],
      "metadata": {
        "id": "YzK3wI7mvzct"
      },
      "execution_count": 63,
      "outputs": []
    },
    {
      "cell_type": "code",
      "source": [
        "X=new_df.iloc[:,0:9]"
      ],
      "metadata": {
        "id": "pWKWbpYcwHOx"
      },
      "execution_count": 91,
      "outputs": []
    },
    {
      "cell_type": "code",
      "source": [
        "X"
      ],
      "metadata": {
        "id": "f63ohacT1M2o"
      },
      "execution_count": null,
      "outputs": []
    },
    {
      "cell_type": "code",
      "source": [
        "y=new_df.iloc[:,-1].values"
      ],
      "metadata": {
        "id": "MMQjOk4swfKe"
      },
      "execution_count": 92,
      "outputs": []
    },
    {
      "cell_type": "code",
      "source": [
        "y"
      ],
      "metadata": {
        "colab": {
          "base_uri": "https://localhost:8080/"
        },
        "id": "MOyw2_5owjma",
        "outputId": "ffa13d59-a4dd-4fa0-c8e2-ff59186977bc"
      },
      "execution_count": 93,
      "outputs": [
        {
          "output_type": "execute_result",
          "data": {
            "text/plain": [
              "array([0, 0, 0, 1, 1, 1, 0, 0, 1, 1, 1, 0, 1, 1, 0, 0, 0, 0, 0, 1, 1, 1,\n",
              "       1])"
            ]
          },
          "metadata": {},
          "execution_count": 93
        }
      ]
    },
    {
      "cell_type": "code",
      "source": [
        "X_train,X_test,y_train,y_test=train_test_split(X,y,test_size=0.2)"
      ],
      "metadata": {
        "id": "GS1LYAuJv6kU"
      },
      "execution_count": 94,
      "outputs": []
    },
    {
      "cell_type": "markdown",
      "source": [
        "# ML Models\n",
        "\n",
        "- When selecting an ML model for project, it's essential to consider the purpose and objectives of project, as well as the suitability of different models for data. Let's address the purpose, justification, and explanation of using Huggingface models and importing ML models from scikit-learn:\n",
        "\n",
        "- Purpose of Using an ML Model:\n",
        "\n",
        "The purpose of using an ML model is to leverage machine learning algorithms to analyze patterns, make predictions, or classify data based on the project's objectives.\n",
        "ML models can help uncover insights, automate decision-making processes, and generate predictions or classifications based on historical or real-time data.\n",
        "\n",
        "- Justification for Choosing Huggingface Models:\n",
        "\n",
        "Huggingface is a popular open-source library known for its state-of-the-art natural language processing (NLP) models.\n",
        "If your project involves text data or requires NLP capabilities, Huggingface models are a suitable choice.\n",
        "Huggingface provides pre-trained models that have been fine-tuned on large corpora, making them powerful for various NLP tasks such as text classification, sentiment analysis, question answering, and more.\n",
        "These models offer excellent performance and can save time and computational resources compared to training a model from scratch.\n",
        "\n",
        "- Brief Explanation of Huggingface Models:\n",
        "\n",
        "Huggingface models, such as BERT (Bidirectional Encoder Representations from Transformers) or GPT (Generative Pre-trained Transformer), are based on transformer architectures.\n",
        "Transformers are neural network models that excel at handling sequential data, such as text, by capturing contextual dependencies effectively.\n",
        "Huggingface models use transformer architectures to process and understand the meaning, context, and relationships within text data.\n",
        "They can be fine-tuned on specific downstream tasks by adding additional layers or training them on task-specific data.\n",
        "The pre-trained models have learned rich representations of language from vast amounts of text, making them capable of understanding and generating text in various contexts."
      ],
      "metadata": {
        "id": "jI14MtO2tlrv"
      }
    },
    {
      "cell_type": "code",
      "source": [
        "#importing ml models\n",
        "\n",
        "from sklearn.linear_model import LogisticRegression\n",
        "from sklearn.svm import SVC\n",
        "from sklearn.naive_bayes import MultinomialNB\n",
        "from sklearn.tree import DecisionTreeClassifier\n",
        "from sklearn.neighbors import KNeighborsClassifier\n",
        "from sklearn.ensemble import RandomForestClassifier\n",
        "from sklearn.ensemble import AdaBoostClassifier\n",
        "from sklearn.ensemble import BaggingClassifier\n",
        "from sklearn.ensemble import ExtraTreesClassifier\n",
        "from sklearn.ensemble import GradientBoostingClassifier\n",
        "from xgboost import XGBClassifier\n",
        "from sklearn.metrics import accuracy_score,precision_score"
      ],
      "metadata": {
        "id": "aNkOwuqYuP5p"
      },
      "execution_count": 95,
      "outputs": []
    },
    {
      "cell_type": "code",
      "source": [
        "#making objects of different classifiers\n",
        "svc = SVC(kernel='sigmoid', gamma=1.0)\n",
        "knc = KNeighborsClassifier()\n",
        "mnb = MultinomialNB()\n",
        "dtc = DecisionTreeClassifier(max_depth=5)\n",
        "lrc = LogisticRegression(solver='liblinear', penalty='l1')\n",
        "rfc = RandomForestClassifier(n_estimators=50, random_state=2)\n",
        "abc = AdaBoostClassifier(n_estimators=50, random_state=2)\n",
        "bc = BaggingClassifier(n_estimators=50, random_state=2)\n",
        "etc = ExtraTreesClassifier(n_estimators=50, random_state=2)\n",
        "gbdt = GradientBoostingClassifier(n_estimators=50,random_state=2)\n",
        "xgb = XGBClassifier(n_estimators=50,random_state=2)"
      ],
      "metadata": {
        "id": "YAoSk0q6w5UK"
      },
      "execution_count": 96,
      "outputs": []
    },
    {
      "cell_type": "code",
      "source": [
        "\n",
        "#making dictionary of classifiers\n",
        "clfs = {\n",
        "    'SVC' : svc,\n",
        "    'KN' : knc,\n",
        "    'NB': mnb,\n",
        "    'DT': dtc,\n",
        "    'LR': lrc,\n",
        "    'RF': rfc,\n",
        "    'AdaBoost': abc,\n",
        "    'BgC': bc,\n",
        "    'ETC': etc,\n",
        "    'GBDT':gbdt,\n",
        "    'xgb':xgb\n",
        "}"
      ],
      "metadata": {
        "id": "TlocGnKjw87F"
      },
      "execution_count": 97,
      "outputs": []
    },
    {
      "cell_type": "code",
      "source": [
        "#This code trains a classifier, predicts the target variable for the test data, and calculates the accuracy and precision scores for the predictions.\n",
        "def train_classifier(clf,X_train,y_train,X_test,y_test):\n",
        "    clf.fit(X_train,y_train)\n",
        "    y_pred = clf.predict(X_test)\n",
        "    accuracy = accuracy_score(y_test,y_pred)\n",
        "    precision = precision_score(y_test,y_pred)\n",
        "\n",
        "    return accuracy,precision"
      ],
      "metadata": {
        "id": "zVzhngzXxNi5"
      },
      "execution_count": 98,
      "outputs": []
    },
    {
      "cell_type": "code",
      "source": [
        "#This code iterates over a dictionary of classifiers (clfs), trains each classifier on the training data,\n",
        "#evaluates its performance on the test data, and prints the accuracy and precision scores for each classifier.\n",
        "#The accuracy and precision scores are then stored in separate lists (accuracy_scores and precision_scores).\n",
        "accuracy_scores = []\n",
        "precision_scores = []\n",
        "\n",
        "for name,clf in clfs.items():\n",
        "\n",
        "    current_accuracy,current_precision = train_classifier(clf, X_train,y_train,X_test,y_test)\n",
        "\n",
        "    print(\"For \",name)\n",
        "    print(\"Accuracy - \",current_accuracy)\n",
        "    print(\"Precision - \",current_precision)\n",
        "    print()\n",
        "    print()\n",
        "\n",
        "    accuracy_scores.append(current_accuracy)\n",
        "    precision_scores.append(current_precision)"
      ],
      "metadata": {
        "colab": {
          "base_uri": "https://localhost:8080/"
        },
        "id": "_c7I-fq3xTb9",
        "outputId": "5a4bf13b-fd48-47ea-e7f5-0488d8f66902"
      },
      "execution_count": 99,
      "outputs": [
        {
          "output_type": "stream",
          "name": "stdout",
          "text": [
            "For  SVC\n",
            "Accuracy -  0.6\n",
            "Precision -  0.6\n",
            "\n",
            "\n",
            "For  KN\n",
            "Accuracy -  0.8\n",
            "Precision -  0.75\n",
            "\n",
            "\n",
            "For  NB\n",
            "Accuracy -  0.4\n",
            "Precision -  0.5\n",
            "\n",
            "\n",
            "For  DT\n",
            "Accuracy -  0.8\n",
            "Precision -  0.75\n",
            "\n",
            "\n",
            "For  LR\n",
            "Accuracy -  0.4\n",
            "Precision -  0.5\n",
            "\n",
            "\n",
            "For  RF\n",
            "Accuracy -  0.8\n",
            "Precision -  0.75\n",
            "\n",
            "\n",
            "For  AdaBoost\n",
            "Accuracy -  0.8\n",
            "Precision -  0.75\n",
            "\n",
            "\n",
            "For  BgC\n",
            "Accuracy -  0.8\n",
            "Precision -  0.75\n",
            "\n",
            "\n",
            "For  ETC\n",
            "Accuracy -  0.8\n",
            "Precision -  0.75\n",
            "\n",
            "\n",
            "For  GBDT\n",
            "Accuracy -  0.8\n",
            "Precision -  0.75\n",
            "\n",
            "\n",
            "For  xgb\n",
            "Accuracy -  0.8\n",
            "Precision -  0.75\n",
            "\n",
            "\n"
          ]
        }
      ]
    },
    {
      "cell_type": "markdown",
      "source": [
        "### Conclusion\n",
        "\n",
        "- Based on the results, it can be concluded that several models, including Decision Tree, Logistic Regression, Random Forest, AdaBoost, Bagging Classifier, Extra Trees Classifier, Gradient Boosting Decision Tree, and XGBoost, achieved a high accuracy of 0.8 and precision of 0.75. These models performed significantly better than K-Nearest Neighbors and Naive Bayes, which had lower accuracy and precision scores.\n",
        "\n",
        "Overall, this classification project successfully predicted the severity level of COVID-19 using various machine learning models. The models with high accuracy and precision can be further evaluated and fine-tuned to improve their performance. Additionally, feature engineering and data preprocessing techniques could be explored to enhance the predictive power of the models.\n",
        "\n",
        "This project demonstrates the potential of machine learning in analyzing COVID-19 data and provides insights into identifying the severity level of the virus, which can aid in decision-making and resource allocation for combating the pandemic."
      ],
      "metadata": {
        "id": "C5EuVgkgzKci"
      }
    },
    {
      "cell_type": "markdown",
      "source": [
        "#### Prediction On Unseen Data"
      ],
      "metadata": {
        "id": "2Wcvnq1D3VDt"
      }
    },
    {
      "cell_type": "code",
      "source": [
        "unseen_data=pd.DataFrame([[900000,15000,850000,800,35000,1000000,0.94,0.02,10]],columns=['cases','deaths','total_recovered','serious_critical','active_cases','total_tests','recover_rate','mortality_rate','country_code'])"
      ],
      "metadata": {
        "id": "MFK0vngp0La4"
      },
      "execution_count": 103,
      "outputs": []
    },
    {
      "cell_type": "code",
      "source": [
        "X.iloc[0,:]"
      ],
      "metadata": {
        "colab": {
          "base_uri": "https://localhost:8080/"
        },
        "id": "U9_lw_9K0UbW",
        "outputId": "4e58a329-ddde-49a1-cc0d-5a3fc4659158"
      },
      "execution_count": 106,
      "outputs": [
        {
          "output_type": "execute_result",
          "data": {
            "text/plain": [
              "cases                82649779.00\n",
              "deaths                1018316.00\n",
              "total_recovered      80434925.00\n",
              "serious_critical         1465.00\n",
              "active_cases          1196538.00\n",
              "total_tests        1000275726.00\n",
              "recover_rate                0.97\n",
              "mortality_rate              0.01\n",
              "country_code               21.00\n",
              "Name: 0, dtype: float64"
            ]
          },
          "metadata": {},
          "execution_count": 106
        }
      ]
    },
    {
      "cell_type": "code",
      "source": [
        "rfc.predict(unseen_data)"
      ],
      "metadata": {
        "colab": {
          "base_uri": "https://localhost:8080/"
        },
        "id": "8g0B-5fi1Ars",
        "outputId": "c26d5593-cc08-474d-bdf4-50df4310e86c"
      },
      "execution_count": 104,
      "outputs": [
        {
          "output_type": "execute_result",
          "data": {
            "text/plain": [
              "array([0])"
            ]
          },
          "metadata": {},
          "execution_count": 104
        }
      ]
    }
  ]
}